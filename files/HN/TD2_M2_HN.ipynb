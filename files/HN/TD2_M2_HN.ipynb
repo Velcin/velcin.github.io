{
 "cells": [
  {
   "cell_type": "markdown",
   "id": "169e24db",
   "metadata": {},
   "source": [
    "<font size=6>**TD 2 : classification supervisée**</font>\n",
    "\n",
    "Julien Velcin, Université Lyon 2 - Master Humanités Numériques"
   ]
  },
  {
   "cell_type": "code",
   "execution_count": 1,
   "id": "499b15cd",
   "metadata": {},
   "outputs": [],
   "source": [
    "# libraires utilisées\n",
    "\n",
    "import numpy as np\n",
    "import pandas as pd\n",
    "\n",
    "from sklearn.model_selection import KFold\n",
    "from sklearn.model_selection import cross_val_score\n",
    "from sklearn.feature_extraction.text import TfidfVectorizer\n",
    "from sklearn.model_selection import train_test_split\n",
    "\n",
    "# différents classifieurs\n",
    "from sklearn.linear_model import LogisticRegression\n",
    "from sklearn.linear_model import RidgeClassifier\n",
    "from sklearn.svm import SVC\n",
    "from xgboost import XGBClassifier\n",
    "from sklearn.neural_network import MLPClassifier"
   ]
  },
  {
   "cell_type": "code",
   "execution_count": 2,
   "id": "dead880d",
   "metadata": {},
   "outputs": [],
   "source": [
    "# pour ignorer les avertissements\n",
    "\n",
    "import warnings\n",
    "warnings.filterwarnings('ignore')"
   ]
  },
  {
   "cell_type": "markdown",
   "id": "861f85be",
   "metadata": {},
   "source": [
    "# chargement des données"
   ]
  },
  {
   "cell_type": "markdown",
   "id": "109d59e6",
   "metadata": {},
   "source": [
    "Chargement des données à partir d'un fichier .csv (colonnes séparées par une tabulation = \"\\t\")"
   ]
  },
  {
   "cell_type": "code",
   "execution_count": 3,
   "id": "7fe80481",
   "metadata": {},
   "outputs": [],
   "source": [
    "data_allocine = pd.read_csv(\"allocine_3k.csv\", sep=\"\\t\")"
   ]
  },
  {
   "cell_type": "code",
   "execution_count": 4,
   "id": "68069f74",
   "metadata": {},
   "outputs": [
    {
     "data": {
      "text/plain": [
       "(3000, 3)"
      ]
     },
     "execution_count": 4,
     "metadata": {},
     "output_type": "execute_result"
    }
   ],
   "source": [
    "data_allocine.shape"
   ]
  },
  {
   "cell_type": "markdown",
   "id": "a2420a56",
   "metadata": {},
   "source": [
    "Affichage d'un extrait :"
   ]
  },
  {
   "cell_type": "code",
   "execution_count": 5,
   "id": "0edb192c",
   "metadata": {},
   "outputs": [
    {
     "data": {
      "text/html": [
       "<div>\n",
       "<style scoped>\n",
       "    .dataframe tbody tr th:only-of-type {\n",
       "        vertical-align: middle;\n",
       "    }\n",
       "\n",
       "    .dataframe tbody tr th {\n",
       "        vertical-align: top;\n",
       "    }\n",
       "\n",
       "    .dataframe thead th {\n",
       "        text-align: right;\n",
       "    }\n",
       "</style>\n",
       "<table border=\"1\" class=\"dataframe\">\n",
       "  <thead>\n",
       "    <tr style=\"text-align: right;\">\n",
       "      <th></th>\n",
       "      <th>id</th>\n",
       "      <th>textes</th>\n",
       "      <th>classes</th>\n",
       "    </tr>\n",
       "  </thead>\n",
       "  <tbody>\n",
       "    <tr>\n",
       "      <th>0</th>\n",
       "      <td>0</td>\n",
       "      <td>un film plus sur les relations amoureuses et l...</td>\n",
       "      <td>0</td>\n",
       "    </tr>\n",
       "    <tr>\n",
       "      <th>1</th>\n",
       "      <td>1</td>\n",
       "      <td>Un très bon reportage mais qui pour moi manque...</td>\n",
       "      <td>0</td>\n",
       "    </tr>\n",
       "    <tr>\n",
       "      <th>2</th>\n",
       "      <td>2</td>\n",
       "      <td>Excellent .. Un peu d’humour par moment pour u...</td>\n",
       "      <td>1</td>\n",
       "    </tr>\n",
       "    <tr>\n",
       "      <th>3</th>\n",
       "      <td>3</td>\n",
       "      <td>La curiosité des dix premières minutes finit p...</td>\n",
       "      <td>0</td>\n",
       "    </tr>\n",
       "    <tr>\n",
       "      <th>4</th>\n",
       "      <td>4</td>\n",
       "      <td>Le cinéaste Christophe Gans livre une producti...</td>\n",
       "      <td>1</td>\n",
       "    </tr>\n",
       "  </tbody>\n",
       "</table>\n",
       "</div>"
      ],
      "text/plain": [
       "   id                                             textes  classes\n",
       "0   0  un film plus sur les relations amoureuses et l...        0\n",
       "1   1  Un très bon reportage mais qui pour moi manque...        0\n",
       "2   2  Excellent .. Un peu d’humour par moment pour u...        1\n",
       "3   3  La curiosité des dix premières minutes finit p...        0\n",
       "4   4  Le cinéaste Christophe Gans livre une producti...        1"
      ]
     },
     "execution_count": 5,
     "metadata": {},
     "output_type": "execute_result"
    }
   ],
   "source": [
    "data_allocine.head()"
   ]
  },
  {
   "cell_type": "code",
   "execution_count": 6,
   "id": "2770971f",
   "metadata": {},
   "outputs": [],
   "source": [
    "textes = data_allocine[\"textes\"]\n",
    "classes = data_allocine[\"classes\"]"
   ]
  },
  {
   "cell_type": "markdown",
   "id": "221c6c82",
   "metadata": {},
   "source": [
    "Distribution des valeurs pour la classe :"
   ]
  },
  {
   "cell_type": "code",
   "execution_count": 7,
   "id": "d730ef56",
   "metadata": {},
   "outputs": [
    {
     "name": "stdout",
     "output_type": "stream",
     "text": [
      "0 occurs 1496 times\n",
      "1 occurs 1504 times\n"
     ]
    }
   ],
   "source": [
    "unique_values, counts = np.unique(classes, return_counts=True)\n",
    "\n",
    "for value, count in zip(unique_values, counts):\n",
    "    print(f\"{value} occurs {count} times\")"
   ]
  },
  {
   "cell_type": "markdown",
   "id": "e96d3e25",
   "metadata": {},
   "source": [
    "# Mise en forme des données"
   ]
  },
  {
   "cell_type": "code",
   "execution_count": 8,
   "id": "cde52120",
   "metadata": {},
   "outputs": [],
   "source": [
    "vectorize_allocine = TfidfVectorizer(ngram_range=(1, 2), max_df=0.88, min_df=4)\n",
    "vectorize_allocine.fit(textes)\n",
    "data = vectorize_allocine.transform(textes) #.toarray()"
   ]
  },
  {
   "cell_type": "code",
   "execution_count": 9,
   "id": "1687b3bc",
   "metadata": {},
   "outputs": [],
   "source": [
    "subtrain_X, subtest_X, subtrain_y, subtest_y = train_test_split(data, classes,\n",
    "                                                    train_size=0.7,\n",
    "                                                    test_size=0.3,\n",
    "                                                    random_state=123,\n",
    "                                                   stratify=classes)"
   ]
  },
  {
   "cell_type": "code",
   "execution_count": 10,
   "id": "af41d6a6",
   "metadata": {},
   "outputs": [
    {
     "data": {
      "text/plain": [
       "(2100, 14684)"
      ]
     },
     "execution_count": 10,
     "metadata": {},
     "output_type": "execute_result"
    }
   ],
   "source": [
    "subtrain_X.shape"
   ]
  },
  {
   "cell_type": "markdown",
   "id": "2168c5a6",
   "metadata": {},
   "source": [
    "# Apprentissage automatique"
   ]
  },
  {
   "cell_type": "markdown",
   "id": "b0a34815",
   "metadata": {},
   "source": [
    "## Simple régression logistique"
   ]
  },
  {
   "cell_type": "code",
   "execution_count": 11,
   "id": "d8da01a0",
   "metadata": {},
   "outputs": [],
   "source": [
    "lr = LogisticRegression()\n",
    "\n",
    "lr.fit(subtrain_X, subtrain_y)\n",
    "pred_y_lr = lr.predict(subtest_X)"
   ]
  },
  {
   "cell_type": "code",
   "execution_count": 12,
   "id": "f2284e12",
   "metadata": {},
   "outputs": [
    {
     "name": "stdout",
     "output_type": "stream",
     "text": [
      "Ce qui est prédit : [1 0 1 1 0 0 0 1 1 1 0 0 0 1 1 1 0 0 0 0]\n",
      "La vérité : 95      1\n",
      "581     0\n",
      "328     1\n",
      "596     1\n",
      "2502    0\n",
      "1799    0\n",
      "2331    0\n",
      "525     1\n",
      "1526    1\n",
      "778     1\n",
      "1370    0\n",
      "680     0\n",
      "2402    0\n",
      "1575    1\n",
      "70      1\n",
      "1878    1\n",
      "1511    1\n",
      "645     0\n",
      "1209    0\n",
      "515     0\n",
      "Name: classes, dtype: int64\n"
     ]
    }
   ],
   "source": [
    "print(\"Ce qui est prédit : \" + str(pred_y_lr[0:20]))\n",
    "\n",
    "print(\"La vérité : \" + str(subtest_y[0:20]))"
   ]
  },
  {
   "cell_type": "code",
   "execution_count": 13,
   "id": "b0ea40b4",
   "metadata": {},
   "outputs": [
    {
     "name": "stdout",
     "output_type": "stream",
     "text": [
      "Réussite en validation (sous-ensemble) 87.1%\n"
     ]
    }
   ],
   "source": [
    "res_test = np.sum(pred_y_lr == subtest_y) / float(len(subtest_y))\n",
    "                                       \n",
    "print(f\"Réussite en validation (sous-ensemble) {res_test:.1%}\")"
   ]
  },
  {
   "cell_type": "markdown",
   "id": "51c1db81",
   "metadata": {},
   "source": [
    "A comparer à la réussite sur le jeu d'entraînement :"
   ]
  },
  {
   "cell_type": "code",
   "execution_count": 14,
   "id": "61e9db57",
   "metadata": {},
   "outputs": [
    {
     "name": "stdout",
     "output_type": "stream",
     "text": [
      "Réussite en validation (sous-ensemble) 96.9%\n"
     ]
    }
   ],
   "source": [
    "pred_y_lr = lr.predict(subtrain_X)\n",
    "\n",
    "res_train = np.sum(pred_y_lr == subtrain_y) / float(len(subtrain_y))\n",
    "print(f\"Réussite en validation (sous-ensemble) {res_train:.1%}\")"
   ]
  },
  {
   "cell_type": "markdown",
   "id": "fcc3d0b7",
   "metadata": {},
   "source": [
    "Deux remarques importantes à ce stade :\n",
    "\n",
    "    1. On peut observer une nette différence entre les deux erreurs, signe d'un sur-apprentissage (*overfitting*)\n",
    "    2. Nous avons utilisé un même nom de variable (pred_y_lr) pour deux résultats différents : c'est une mauvaise habitude et nous allons utiliser 2 variables différentes pour la suite."
   ]
  },
  {
   "cell_type": "markdown",
   "id": "8fdc343b",
   "metadata": {},
   "source": [
    "Concernant le sur-apprentissage, une piste serait ici de régulariser le modèle avec un terme qui pénalise une trop grande dispersion des poids (régression ridge et lasso).\n",
    "Essayons par ex. la régression ridge :"
   ]
  },
  {
   "cell_type": "code",
   "execution_count": 15,
   "id": "2fc5ea40",
   "metadata": {},
   "outputs": [],
   "source": [
    "lr_ridge = RidgeClassifier(alpha=10.0)\n",
    "lr_ridge.fit(subtrain_X, subtrain_y)\n",
    "pred_train_lr_ridge = lr_ridge.predict(subtrain_X)\n",
    "pred_test_lr_ridge = lr_ridge.predict(subtest_X)"
   ]
  },
  {
   "cell_type": "markdown",
   "id": "cffeb084",
   "metadata": {},
   "source": [
    "Le paramètre *alpha* indique la force de la régularisation."
   ]
  },
  {
   "cell_type": "code",
   "execution_count": 16,
   "id": "392accff",
   "metadata": {},
   "outputs": [
    {
     "name": "stdout",
     "output_type": "stream",
     "text": [
      "Réussite sur :\n",
      "  - ensemble d'entraînement : 94.0%\n",
      "  - ensemble de test : 86.1%\n"
     ]
    }
   ],
   "source": [
    "res_train = np.sum(pred_train_lr_ridge == subtrain_y) / float(len(subtrain_y))\n",
    "res_test = np.sum(pred_test_lr_ridge == subtest_y) / float(len(subtest_y))\n",
    "\n",
    "print(f\"Réussite sur :\")\n",
    "print(f\"  - ensemble d'entraînement : {res_train:.1%}\")\n",
    "print(f\"  - ensemble de test : {res_test:.1%}\")"
   ]
  },
  {
   "cell_type": "markdown",
   "id": "99e145ab",
   "metadata": {},
   "source": [
    "On constate qu'on diminue le sur-apprentissage, mais au prix d'une réussite plus faible..."
   ]
  },
  {
   "cell_type": "markdown",
   "id": "a3d6000f",
   "metadata": {},
   "source": [
    "## Une évaluation plus robuste : la validation croisée"
   ]
  },
  {
   "cell_type": "markdown",
   "id": "48affcec",
   "metadata": {},
   "source": [
    "Il s'agit ici d'évaluation la capacité de l'algorithme choisi à résoudre la tâche de classification.\n",
    "L'objectif est donc plus de choisir l'algorithme que de trouver le modèle lui-même."
   ]
  },
  {
   "cell_type": "code",
   "execution_count": 17,
   "id": "16e1718f",
   "metadata": {},
   "outputs": [
    {
     "name": "stdout",
     "output_type": "stream",
     "text": [
      "Validation croisée : moyenne 85.0% et écart-type 0.02\n"
     ]
    }
   ],
   "source": [
    "seed = 7\n",
    "np.random.seed(seed)\n",
    "kfold = KFold(n_splits=10, shuffle=True, random_state=seed)\n",
    "\n",
    "results = cross_val_score(lr, subtrain_X, subtrain_y, cv=kfold)\n",
    "print(f\"Validation croisée : moyenne {results.mean():.1%} et écart-type {results.std():.2f}\")"
   ]
  },
  {
   "cell_type": "markdown",
   "id": "8040a9dd",
   "metadata": {},
   "source": [
    "Une fois l'algorithme choisi, il s'agit de réentraîner le modèle sur l'ensemble des données d'entraînement (cf. 3.1).\n",
    "\n",
    "Pour simplifier le code, on crée une fonction d'affichage des deux erreurs :"
   ]
  },
  {
   "cell_type": "code",
   "execution_count": 18,
   "id": "d04eba1c",
   "metadata": {},
   "outputs": [],
   "source": [
    "def print_error(nom_algo, pred_train, pred_test):\n",
    "    print(nom_algo + \" : \")\n",
    "    erreur_app = np.sum(pred_train == subtrain_y) / float(len(subtrain_y))\n",
    "    print(f\"  - erreur apparente : {erreur_app:.1%}\")\n",
    "    erreur_gen = np.sum(pred_test == subtest_y) / float(len(subtest_y))\n",
    "    print(f\"  - erreur en généralisation : {erreur_gen:.1%}\")                                                          "
   ]
  },
  {
   "cell_type": "markdown",
   "id": "f3c4fc52",
   "metadata": {},
   "source": [
    "## Machines à vecteurs supports"
   ]
  },
  {
   "cell_type": "code",
   "execution_count": 19,
   "id": "fdac577a",
   "metadata": {},
   "outputs": [
    {
     "name": "stdout",
     "output_type": "stream",
     "text": [
      "SVC linéaire : \n",
      "  - erreur apparente : 99.0%\n",
      "  - erreur en généralisation : 87.2%\n"
     ]
    }
   ],
   "source": [
    "svc_lin = SVC(kernel=\"linear\", degree=1)\n",
    "\n",
    "svc_lin.fit(subtrain_X, subtrain_y)\n",
    "\n",
    "pred_train_svc_lin = svc_lin.predict(subtrain_X)\n",
    "pred_test_svc_lin = svc_lin.predict(subtest_X)\n",
    "\n",
    "print_error(\"SVC linéaire\", pred_train_svc_lin, pred_test_svc_lin)"
   ]
  },
  {
   "cell_type": "code",
   "execution_count": 20,
   "id": "f030b87d",
   "metadata": {},
   "outputs": [
    {
     "name": "stdout",
     "output_type": "stream",
     "text": [
      "SVC poly degré 2 : \n",
      "  - erreur apparente : 100.0%\n",
      "  - erreur en généralisation : 86.8%\n"
     ]
    }
   ],
   "source": [
    "svc_poly2 = SVC(kernel=\"poly\", degree=2)\n",
    "\n",
    "svc_poly2.fit(subtrain_X, subtrain_y)\n",
    "\n",
    "pred_train_svc_poly2 = svc_poly2.predict(subtrain_X)\n",
    "pred_test_svc_poly2 = svc_poly2.predict(subtest_X)\n",
    "\n",
    "print_error(\"SVC poly degré 2\", pred_train_svc_poly2, pred_test_svc_poly2)"
   ]
  },
  {
   "cell_type": "markdown",
   "id": "c91e0170",
   "metadata": {},
   "source": [
    "## Arbres de décision"
   ]
  },
  {
   "cell_type": "code",
   "execution_count": 21,
   "id": "25f06511",
   "metadata": {},
   "outputs": [
    {
     "name": "stdout",
     "output_type": "stream",
     "text": [
      "XGBoost : \n",
      "  - erreur apparente : 99.6%\n",
      "  - erreur en généralisation : 79.3%\n"
     ]
    }
   ],
   "source": [
    "xgb = XGBClassifier(verbosity=0)\n",
    "\n",
    "xgb.fit(subtrain_X, subtrain_y)\n",
    "\n",
    "pred_train_xgb = xgb.predict(subtrain_X)\n",
    "pred_test_xgb = xgb.predict(subtest_X)\n",
    "\n",
    "print_error(\"XGBoost\", pred_train_xgb, pred_test_xgb)"
   ]
  },
  {
   "cell_type": "markdown",
   "id": "b16250ab",
   "metadata": {},
   "source": [
    "## Réseau de neurones simple"
   ]
  },
  {
   "cell_type": "code",
   "execution_count": 22,
   "id": "4a541f63",
   "metadata": {},
   "outputs": [
    {
     "name": "stdout",
     "output_type": "stream",
     "text": [
      "MLP 1 couche cachée : \n",
      "  - erreur apparente : 100.0%\n",
      "  - erreur en généralisation : 89.2%\n"
     ]
    }
   ],
   "source": [
    "mlp = MLPClassifier(solver='lbfgs', alpha=1e-5, hidden_layer_sizes=(3), random_state=1)\n",
    "\n",
    "mlp.fit(subtrain_X, subtrain_y)\n",
    "\n",
    "pred_train_mlp = mlp.predict(subtrain_X)\n",
    "pred_test_mlp = mlp.predict(subtest_X)\n",
    "\n",
    "print_error(\"MLP 1 couche cachée\", pred_train_mlp, pred_test_mlp)"
   ]
  },
  {
   "cell_type": "markdown",
   "id": "9d3b8755",
   "metadata": {},
   "source": [
    "# Affichage des résultats"
   ]
  },
  {
   "cell_type": "markdown",
   "id": "4cce10f6",
   "metadata": {},
   "source": [
    "Il faut créer une table qui résumé les principaux résultats obtenus."
   ]
  },
  {
   "cell_type": "code",
   "execution_count": 30,
   "id": "c3a7890e",
   "metadata": {},
   "outputs": [],
   "source": [
    "#fonction qui retourne les scores d'erreur\n",
    "def get_error(pred_train, pred_test):\n",
    "    erreur_app = np.sum(pred_train == subtrain_y) / float(len(subtrain_y))\n",
    "    erreur_gen = np.sum(pred_test == subtest_y) / float(len(subtest_y))\n",
    "    return erreur_app, erreur_gen"
   ]
  },
  {
   "cell_type": "code",
   "execution_count": 24,
   "id": "6f6a3aee",
   "metadata": {},
   "outputs": [],
   "source": [
    "#Calcul des erreurs\n",
    "\n",
    "pred_train_lr = lr.predict(subtrain_X)\n",
    "pred_test_lr = lr.predict(subtest_X)\n",
    "error_train_lr, error_test_lr = get_error(pred_train_lr, pred_test_lr)\n",
    "pred_train_lr_ridge = lr_ridge.predict(subtrain_X)\n",
    "pred_test_lr_ridge = lr_ridge.predict(subtest_X)\n",
    "error_train_lr_ridge, error_test_lr_ridge = get_error(pred_train_lr_ridge, pred_test_lr_ridge)\n",
    "error_train_svc_lin, error_test_svc_lin = get_error(pred_train_svc_lin, pred_test_svc_lin)\n",
    "error_train_svc_poly2, error_test_svc_poly2 = get_error(pred_train_svc_poly2, pred_test_svc_poly2)\n",
    "error_train_xgb, error_test_xgb = get_error(pred_train_xgb, pred_test_xgb)\n",
    "error_train_mlp, error_test_mlp = get_error(pred_train_mlp, pred_test_mlp)"
   ]
  },
  {
   "cell_type": "code",
   "execution_count": null,
   "id": "16309b48",
   "metadata": {},
   "outputs": [],
   "source": [
    "# formatage"
   ]
  },
  {
   "cell_type": "code",
   "execution_count": 25,
   "id": "a2b097c9",
   "metadata": {},
   "outputs": [],
   "source": [
    "noms_algo = [\"Régression logistique\", \"Classification Ridge\", \"SVM linéaire\", \"SVM polynôme 2\", \"XGBoost\", \"MLP 1 couche cachée\"]\n",
    "erreurs_app = [error_train_lr, error_train_lr_ridge, error_train_svc_lin, error_train_svc_poly2, error_train_xgb, error_train_mlp]\n",
    "erreurs_gen = [error_test_lr, error_test_lr_ridge, error_test_svc_lin, error_test_svc_poly2, error_test_xgb, error_test_mlp]"
   ]
  },
  {
   "cell_type": "code",
   "execution_count": 26,
   "id": "288b25c1",
   "metadata": {},
   "outputs": [],
   "source": [
    "res = pd.DataFrame({\"algo\" : noms_algo, \"erreur app\": erreurs_app, \"erreur gen\": erreurs_gen})"
   ]
  },
  {
   "cell_type": "code",
   "execution_count": 29,
   "id": "aac7c78a",
   "metadata": {},
   "outputs": [
    {
     "data": {
      "text/html": [
       "<style type=\"text/css\">\n",
       "</style>\n",
       "<table id=\"T_bcf1f\">\n",
       "  <thead>\n",
       "    <tr>\n",
       "      <th class=\"blank level0\" >&nbsp;</th>\n",
       "      <th id=\"T_bcf1f_level0_col0\" class=\"col_heading level0 col0\" >algo</th>\n",
       "      <th id=\"T_bcf1f_level0_col1\" class=\"col_heading level0 col1\" >erreur app</th>\n",
       "      <th id=\"T_bcf1f_level0_col2\" class=\"col_heading level0 col2\" >erreur gen</th>\n",
       "    </tr>\n",
       "  </thead>\n",
       "  <tbody>\n",
       "    <tr>\n",
       "      <th id=\"T_bcf1f_level0_row0\" class=\"row_heading level0 row0\" >0</th>\n",
       "      <td id=\"T_bcf1f_row0_col0\" class=\"data row0 col0\" >Régression logistique</td>\n",
       "      <td id=\"T_bcf1f_row0_col1\" class=\"data row0 col1\" >96.90%</td>\n",
       "      <td id=\"T_bcf1f_row0_col2\" class=\"data row0 col2\" >87.11%</td>\n",
       "    </tr>\n",
       "    <tr>\n",
       "      <th id=\"T_bcf1f_level0_row1\" class=\"row_heading level0 row1\" >1</th>\n",
       "      <td id=\"T_bcf1f_row1_col0\" class=\"data row1 col0\" >Classification Ridge</td>\n",
       "      <td id=\"T_bcf1f_row1_col1\" class=\"data row1 col1\" >93.95%</td>\n",
       "      <td id=\"T_bcf1f_row1_col2\" class=\"data row1 col2\" >86.11%</td>\n",
       "    </tr>\n",
       "    <tr>\n",
       "      <th id=\"T_bcf1f_level0_row2\" class=\"row_heading level0 row2\" >2</th>\n",
       "      <td id=\"T_bcf1f_row2_col0\" class=\"data row2 col0\" >SVM linéaire</td>\n",
       "      <td id=\"T_bcf1f_row2_col1\" class=\"data row2 col1\" >99.05%</td>\n",
       "      <td id=\"T_bcf1f_row2_col2\" class=\"data row2 col2\" >87.22%</td>\n",
       "    </tr>\n",
       "    <tr>\n",
       "      <th id=\"T_bcf1f_level0_row3\" class=\"row_heading level0 row3\" >3</th>\n",
       "      <td id=\"T_bcf1f_row3_col0\" class=\"data row3 col0\" >SVM polynôme 2</td>\n",
       "      <td id=\"T_bcf1f_row3_col1\" class=\"data row3 col1\" >100.00%</td>\n",
       "      <td id=\"T_bcf1f_row3_col2\" class=\"data row3 col2\" >86.78%</td>\n",
       "    </tr>\n",
       "    <tr>\n",
       "      <th id=\"T_bcf1f_level0_row4\" class=\"row_heading level0 row4\" >4</th>\n",
       "      <td id=\"T_bcf1f_row4_col0\" class=\"data row4 col0\" >XGBoost</td>\n",
       "      <td id=\"T_bcf1f_row4_col1\" class=\"data row4 col1\" >99.62%</td>\n",
       "      <td id=\"T_bcf1f_row4_col2\" class=\"data row4 col2\" >79.33%</td>\n",
       "    </tr>\n",
       "    <tr>\n",
       "      <th id=\"T_bcf1f_level0_row5\" class=\"row_heading level0 row5\" >5</th>\n",
       "      <td id=\"T_bcf1f_row5_col0\" class=\"data row5 col0\" >MLP 1 couche cachée</td>\n",
       "      <td id=\"T_bcf1f_row5_col1\" class=\"data row5 col1\" >100.00%</td>\n",
       "      <td id=\"T_bcf1f_row5_col2\" class=\"data row5 col2\" >89.22%</td>\n",
       "    </tr>\n",
       "  </tbody>\n",
       "</table>\n"
      ],
      "text/plain": [
       "<pandas.io.formats.style.Styler at 0x16da5c410>"
      ]
     },
     "execution_count": 29,
     "metadata": {},
     "output_type": "execute_result"
    }
   ],
   "source": [
    "res.style.format({\n",
    "    \"erreur app\": '{:,.2%}'.format,\n",
    "    \"erreur gen\": '{:,.2%}'.format\n",
    "})"
   ]
  },
  {
   "cell_type": "code",
   "execution_count": null,
   "id": "e7bc587e",
   "metadata": {},
   "outputs": [],
   "source": []
  }
 ],
 "metadata": {
  "hide_input": false,
  "kernelspec": {
   "display_name": "Python 3 (ipykernel)",
   "language": "python",
   "name": "python3"
  },
  "language_info": {
   "codemirror_mode": {
    "name": "ipython",
    "version": 3
   },
   "file_extension": ".py",
   "mimetype": "text/x-python",
   "name": "python",
   "nbconvert_exporter": "python",
   "pygments_lexer": "ipython3",
   "version": "3.11.5"
  },
  "toc": {
   "base_numbering": 1,
   "nav_menu": {},
   "number_sections": true,
   "sideBar": true,
   "skip_h1_title": false,
   "title_cell": "Table of Contents",
   "title_sidebar": "Contents",
   "toc_cell": false,
   "toc_position": {},
   "toc_section_display": true,
   "toc_window_display": false
  }
 },
 "nbformat": 4,
 "nbformat_minor": 5
}
