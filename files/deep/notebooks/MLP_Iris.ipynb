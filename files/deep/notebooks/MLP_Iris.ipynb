{
 "cells": [
  {
   "cell_type": "markdown",
   "metadata": {},
   "source": [
    "# Simple MLP on the Iris dataset"
   ]
  },
  {
   "cell_type": "markdown",
   "metadata": {},
   "source": [
    "This notebook is part of the course given by J. Velcin on Deep Learning at the University of Lyon 2."
   ]
  },
  {
   "cell_type": "markdown",
   "metadata": {},
   "source": [
    "Start with  simple sequential model"
   ]
  },
  {
   "cell_type": "code",
   "execution_count": 1,
   "metadata": {},
   "outputs": [
    {
     "name": "stdout",
     "output_type": "stream",
     "text": [
      "Init Plugin\n",
      "Init Graph Optimizer\n",
      "Init Kernel\n"
     ]
    },
    {
     "ename": "ModuleNotFoundError",
     "evalue": "No module named 'keras_preprocessing'",
     "output_type": "error",
     "traceback": [
      "\u001b[0;31m---------------------------------------------------------------------------\u001b[0m",
      "\u001b[0;31mModuleNotFoundError\u001b[0m                       Traceback (most recent call last)",
      "\u001b[0;32m/var/folders/44/_q8kssp12vb3ks1rlb59jm6m0000gp/T/ipykernel_28083/1189452185.py\u001b[0m in \u001b[0;36m<module>\u001b[0;34m\u001b[0m\n\u001b[0;32m----> 1\u001b[0;31m \u001b[0;32mfrom\u001b[0m \u001b[0mtensorflow\u001b[0m\u001b[0;34m.\u001b[0m\u001b[0mkeras\u001b[0m\u001b[0;34m.\u001b[0m\u001b[0mmodels\u001b[0m \u001b[0;32mimport\u001b[0m \u001b[0mSequential\u001b[0m\u001b[0;34m\u001b[0m\u001b[0;34m\u001b[0m\u001b[0m\n\u001b[0m\u001b[1;32m      2\u001b[0m \u001b[0;34m\u001b[0m\u001b[0m\n\u001b[1;32m      3\u001b[0m \u001b[0mmodel\u001b[0m \u001b[0;34m=\u001b[0m \u001b[0mSequential\u001b[0m\u001b[0;34m(\u001b[0m\u001b[0;34m)\u001b[0m\u001b[0;34m\u001b[0m\u001b[0;34m\u001b[0m\u001b[0m\n",
      "\u001b[0;32m~/arm/envs/metromap/lib/python3.9/site-packages/tensorflow/keras/__init__.py\u001b[0m in \u001b[0;36m<module>\u001b[0;34m\u001b[0m\n\u001b[1;32m     17\u001b[0m \u001b[0;32mfrom\u001b[0m \u001b[0;34m.\u001b[0m \u001b[0;32mimport\u001b[0m \u001b[0mcallbacks\u001b[0m\u001b[0;34m\u001b[0m\u001b[0;34m\u001b[0m\u001b[0m\n\u001b[1;32m     18\u001b[0m \u001b[0;32mfrom\u001b[0m \u001b[0;34m.\u001b[0m \u001b[0;32mimport\u001b[0m \u001b[0mconstraints\u001b[0m\u001b[0;34m\u001b[0m\u001b[0;34m\u001b[0m\u001b[0m\n\u001b[0;32m---> 19\u001b[0;31m \u001b[0;32mfrom\u001b[0m \u001b[0;34m.\u001b[0m \u001b[0;32mimport\u001b[0m \u001b[0mdatasets\u001b[0m\u001b[0;34m\u001b[0m\u001b[0;34m\u001b[0m\u001b[0m\n\u001b[0m\u001b[1;32m     20\u001b[0m \u001b[0;32mfrom\u001b[0m \u001b[0;34m.\u001b[0m \u001b[0;32mimport\u001b[0m \u001b[0mestimator\u001b[0m\u001b[0;34m\u001b[0m\u001b[0;34m\u001b[0m\u001b[0m\n\u001b[1;32m     21\u001b[0m \u001b[0;32mfrom\u001b[0m \u001b[0;34m.\u001b[0m \u001b[0;32mimport\u001b[0m \u001b[0mexperimental\u001b[0m\u001b[0;34m\u001b[0m\u001b[0;34m\u001b[0m\u001b[0m\n",
      "\u001b[0;32m~/arm/envs/metromap/lib/python3.9/site-packages/tensorflow/keras/datasets/__init__.py\u001b[0m in \u001b[0;36m<module>\u001b[0;34m\u001b[0m\n\u001b[1;32m     12\u001b[0m \u001b[0;32mfrom\u001b[0m \u001b[0;34m.\u001b[0m \u001b[0;32mimport\u001b[0m \u001b[0mcifar100\u001b[0m\u001b[0;34m\u001b[0m\u001b[0;34m\u001b[0m\u001b[0m\n\u001b[1;32m     13\u001b[0m \u001b[0;32mfrom\u001b[0m \u001b[0;34m.\u001b[0m \u001b[0;32mimport\u001b[0m \u001b[0mfashion_mnist\u001b[0m\u001b[0;34m\u001b[0m\u001b[0;34m\u001b[0m\u001b[0m\n\u001b[0;32m---> 14\u001b[0;31m \u001b[0;32mfrom\u001b[0m \u001b[0;34m.\u001b[0m \u001b[0;32mimport\u001b[0m \u001b[0mimdb\u001b[0m\u001b[0;34m\u001b[0m\u001b[0;34m\u001b[0m\u001b[0m\n\u001b[0m\u001b[1;32m     15\u001b[0m \u001b[0;32mfrom\u001b[0m \u001b[0;34m.\u001b[0m \u001b[0;32mimport\u001b[0m \u001b[0mmnist\u001b[0m\u001b[0;34m\u001b[0m\u001b[0;34m\u001b[0m\u001b[0m\n\u001b[1;32m     16\u001b[0m \u001b[0;32mfrom\u001b[0m \u001b[0;34m.\u001b[0m \u001b[0;32mimport\u001b[0m \u001b[0mreuters\u001b[0m\u001b[0;34m\u001b[0m\u001b[0;34m\u001b[0m\u001b[0m\n",
      "\u001b[0;32m~/arm/envs/metromap/lib/python3.9/site-packages/tensorflow/keras/datasets/imdb/__init__.py\u001b[0m in \u001b[0;36m<module>\u001b[0;34m\u001b[0m\n\u001b[1;32m      8\u001b[0m \u001b[0;32mimport\u001b[0m \u001b[0msys\u001b[0m \u001b[0;32mas\u001b[0m \u001b[0m_sys\u001b[0m\u001b[0;34m\u001b[0m\u001b[0;34m\u001b[0m\u001b[0m\n\u001b[1;32m      9\u001b[0m \u001b[0;34m\u001b[0m\u001b[0m\n\u001b[0;32m---> 10\u001b[0;31m \u001b[0;32mfrom\u001b[0m \u001b[0mtensorflow\u001b[0m\u001b[0;34m.\u001b[0m\u001b[0mpython\u001b[0m\u001b[0;34m.\u001b[0m\u001b[0mkeras\u001b[0m\u001b[0;34m.\u001b[0m\u001b[0mdatasets\u001b[0m\u001b[0;34m.\u001b[0m\u001b[0mimdb\u001b[0m \u001b[0;32mimport\u001b[0m \u001b[0mget_word_index\u001b[0m\u001b[0;34m\u001b[0m\u001b[0;34m\u001b[0m\u001b[0m\n\u001b[0m\u001b[1;32m     11\u001b[0m \u001b[0;32mfrom\u001b[0m \u001b[0mtensorflow\u001b[0m\u001b[0;34m.\u001b[0m\u001b[0mpython\u001b[0m\u001b[0;34m.\u001b[0m\u001b[0mkeras\u001b[0m\u001b[0;34m.\u001b[0m\u001b[0mdatasets\u001b[0m\u001b[0;34m.\u001b[0m\u001b[0mimdb\u001b[0m \u001b[0;32mimport\u001b[0m \u001b[0mload_data\u001b[0m\u001b[0;34m\u001b[0m\u001b[0;34m\u001b[0m\u001b[0m\n\u001b[1;32m     12\u001b[0m \u001b[0;34m\u001b[0m\u001b[0m\n",
      "\u001b[0;32m~/arm/envs/metromap/lib/python3.9/site-packages/tensorflow/python/keras/datasets/imdb.py\u001b[0m in \u001b[0;36m<module>\u001b[0;34m\u001b[0m\n\u001b[1;32m     19\u001b[0m \u001b[0;32mimport\u001b[0m \u001b[0mnumpy\u001b[0m \u001b[0;32mas\u001b[0m \u001b[0mnp\u001b[0m\u001b[0;34m\u001b[0m\u001b[0;34m\u001b[0m\u001b[0m\n\u001b[1;32m     20\u001b[0m \u001b[0;34m\u001b[0m\u001b[0m\n\u001b[0;32m---> 21\u001b[0;31m \u001b[0;32mfrom\u001b[0m \u001b[0mtensorflow\u001b[0m\u001b[0;34m.\u001b[0m\u001b[0mpython\u001b[0m\u001b[0;34m.\u001b[0m\u001b[0mkeras\u001b[0m\u001b[0;34m.\u001b[0m\u001b[0mpreprocessing\u001b[0m\u001b[0;34m.\u001b[0m\u001b[0msequence\u001b[0m \u001b[0;32mimport\u001b[0m \u001b[0m_remove_long_seq\u001b[0m\u001b[0;34m\u001b[0m\u001b[0;34m\u001b[0m\u001b[0m\n\u001b[0m\u001b[1;32m     22\u001b[0m \u001b[0;32mfrom\u001b[0m \u001b[0mtensorflow\u001b[0m\u001b[0;34m.\u001b[0m\u001b[0mpython\u001b[0m\u001b[0;34m.\u001b[0m\u001b[0mkeras\u001b[0m\u001b[0;34m.\u001b[0m\u001b[0mutils\u001b[0m\u001b[0;34m.\u001b[0m\u001b[0mdata_utils\u001b[0m \u001b[0;32mimport\u001b[0m \u001b[0mget_file\u001b[0m\u001b[0;34m\u001b[0m\u001b[0;34m\u001b[0m\u001b[0m\n\u001b[1;32m     23\u001b[0m \u001b[0;32mfrom\u001b[0m \u001b[0mtensorflow\u001b[0m\u001b[0;34m.\u001b[0m\u001b[0mpython\u001b[0m\u001b[0;34m.\u001b[0m\u001b[0mplatform\u001b[0m \u001b[0;32mimport\u001b[0m \u001b[0mtf_logging\u001b[0m \u001b[0;32mas\u001b[0m \u001b[0mlogging\u001b[0m\u001b[0;34m\u001b[0m\u001b[0;34m\u001b[0m\u001b[0m\n",
      "\u001b[0;32m~/arm/envs/metromap/lib/python3.9/site-packages/tensorflow/python/keras/preprocessing/__init__.py\u001b[0m in \u001b[0;36m<module>\u001b[0;34m\u001b[0m\n\u001b[1;32m     17\u001b[0m \u001b[0;31m# TODO(mihaimaruseac): remove the import of keras_preprocessing and injecting\u001b[0m\u001b[0;34m\u001b[0m\u001b[0;34m\u001b[0m\u001b[0m\n\u001b[1;32m     18\u001b[0m \u001b[0;31m# once we update to latest version of keras_preprocessing\u001b[0m\u001b[0;34m\u001b[0m\u001b[0;34m\u001b[0m\u001b[0m\n\u001b[0;32m---> 19\u001b[0;31m \u001b[0;32mimport\u001b[0m \u001b[0mkeras_preprocessing\u001b[0m\u001b[0;34m\u001b[0m\u001b[0;34m\u001b[0m\u001b[0m\n\u001b[0m\u001b[1;32m     20\u001b[0m \u001b[0;34m\u001b[0m\u001b[0m\n\u001b[1;32m     21\u001b[0m \u001b[0;32mfrom\u001b[0m \u001b[0mtensorflow\u001b[0m\u001b[0;34m.\u001b[0m\u001b[0mpython\u001b[0m\u001b[0;34m.\u001b[0m\u001b[0mkeras\u001b[0m \u001b[0;32mimport\u001b[0m \u001b[0mbackend\u001b[0m\u001b[0;34m\u001b[0m\u001b[0;34m\u001b[0m\u001b[0m\n",
      "\u001b[0;31mModuleNotFoundError\u001b[0m: No module named 'keras_preprocessing'"
     ]
    }
   ],
   "source": [
    "from tensorflow.keras.models import Sequential\n",
    "\n",
    "model = Sequential()"
   ]
  },
  {
   "cell_type": "markdown",
   "metadata": {},
   "source": [
    "It can be seen as a *pipeline* of modules.\n",
    "\n",
    "We define a simple network with:\n",
    "- an input layer of 4 variables\n",
    "- one single hidden layer of 64 cells\n",
    "- an output layer of 3 classes "
   ]
  },
  {
   "cell_type": "code",
   "execution_count": 2,
   "metadata": {},
   "outputs": [],
   "source": [
    "from tensorflow.keras.layers import Dense\n",
    "\n",
    "# 1st solution\n",
    "\n",
    "model.add(Dense(units=64, activation='relu', input_dim=4))\n",
    "#model.add(Dense(units=64, activation='sigmoid', input_dim=4))\n",
    "model.add(Dense(units=3, activation='softmax'))"
   ]
  },
  {
   "cell_type": "markdown",
   "metadata": {},
   "source": [
    "Alternatively, we can explicitely define the input layer this way:"
   ]
  },
  {
   "cell_type": "code",
   "execution_count": 3,
   "metadata": {},
   "outputs": [],
   "source": [
    "from tensorflow.keras.layers import Input\n",
    "from tensorflow.keras.models import Model\n",
    "\n",
    "# 2nd solution\n",
    "\n",
    "inputs = Input(shape=(4,)) # means 4-dimensional vectors\n",
    "x = Dense(units=64, activation='relu')(inputs)\n",
    "predictions = Dense(3, activation='softmax')(x)\n",
    "model = Model(inputs=inputs, outputs=predictions)"
   ]
  },
  {
   "cell_type": "markdown",
   "metadata": {},
   "source": [
    "We can look at the different tensors."
   ]
  },
  {
   "cell_type": "code",
   "execution_count": 5,
   "metadata": {},
   "outputs": [
    {
     "data": {
      "text/plain": [
       "<KerasTensor: shape=(None, 64) dtype=float32 (created by layer 'dense_2')>"
      ]
     },
     "execution_count": 5,
     "metadata": {},
     "output_type": "execute_result"
    }
   ],
   "source": [
    "inputs\n",
    "#x"
   ]
  },
  {
   "cell_type": "markdown",
   "metadata": {},
   "source": [
    "Interestingly, this model can be re-used in another (bigger) model."
   ]
  },
  {
   "cell_type": "markdown",
   "metadata": {},
   "source": [
    "We setup the model by defining the loss function, optimizer, evaluation measure."
   ]
  },
  {
   "cell_type": "code",
   "execution_count": 6,
   "metadata": {},
   "outputs": [],
   "source": [
    "model.compile(loss='categorical_crossentropy', # loss function\n",
    "              optimizer='sgd', # stochastic gradient descent\n",
    "              metrics=['accuracy'])"
   ]
  },
  {
   "cell_type": "code",
   "execution_count": 7,
   "metadata": {},
   "outputs": [
    {
     "name": "stdout",
     "output_type": "stream",
     "text": [
      "Model: \"model\"\n",
      "_________________________________________________________________\n",
      " Layer (type)                Output Shape              Param #   \n",
      "=================================================================\n",
      " input_1 (InputLayer)        [(None, 4)]               0         \n",
      "                                                                 \n",
      " dense_2 (Dense)             (None, 64)                320       \n",
      "                                                                 \n",
      " dense_3 (Dense)             (None, 3)                 195       \n",
      "                                                                 \n",
      "=================================================================\n",
      "Total params: 515\n",
      "Trainable params: 515\n",
      "Non-trainable params: 0\n",
      "_________________________________________________________________\n"
     ]
    }
   ],
   "source": [
    "model.summary()"
   ]
  },
  {
   "cell_type": "markdown",
   "metadata": {},
   "source": [
    "Now the classifer is ready for learning, similarly to any other model."
   ]
  },
  {
   "cell_type": "code",
   "execution_count": 8,
   "metadata": {},
   "outputs": [],
   "source": [
    "from sklearn.datasets import load_iris\n",
    "from sklearn.model_selection import train_test_split\n",
    "import numpy as np\n",
    "\n",
    "iris = load_iris()\n",
    "X, y = iris.data, iris.target\n",
    "train_X, test_X, train_y, test_y = train_test_split(X, y, \n",
    "                                                    train_size=0.5,\n",
    "                                                    test_size=0.5,\n",
    "                                                    random_state=123)"
   ]
  },
  {
   "cell_type": "markdown",
   "metadata": {},
   "source": [
    "Here, we need to map integers to binary codes:\n",
    "- 0 -> (1,0,0)\n",
    "- 1 -> (0,1,0)\n",
    "- 2 -> (0,0,1)"
   ]
  },
  {
   "cell_type": "code",
   "execution_count": 9,
   "metadata": {},
   "outputs": [],
   "source": [
    "from tensorflow.keras.utils import to_categorical\n",
    "train_y_binary = to_categorical(train_y)\n",
    "test_y_binary = to_categorical(test_y)\n",
    "#y_binary"
   ]
  },
  {
   "cell_type": "code",
   "execution_count": 10,
   "metadata": {},
   "outputs": [],
   "source": [
    "#train_X.shape\n",
    "import tensorflow as tf\n",
    "train_dataset = tf.data.Dataset.from_tensor_slices((train_X, train_y_binary))\n",
    "test_dataset = tf.data.Dataset.from_tensor_slices((test_X, test_y_binary))\n",
    "\n",
    "train_dataset = train_dataset.shuffle(5000).batch(4)\n"
   ]
  },
  {
   "cell_type": "code",
   "execution_count": 11,
   "metadata": {},
   "outputs": [],
   "source": [
    "# 3ème solution\n",
    "\n",
    "model_3 = tf.keras.Sequential([\n",
    "  tf.keras.layers.Flatten(),\n",
    "  tf.keras.layers.Dense(units=64, activation='relu'),\n",
    "  tf.keras.layers.Dense(3, activation='softmax')\n",
    "])\n",
    "\n",
    "#model_3.compile(optimizer='adam',\n",
    "#              loss=tf.keras.losses.SparseCategoricalCrossentropy(from_logits=True), \n",
    "#              metrics=['accuracy'])\n",
    "\n",
    "model_3.compile(loss='categorical_crossentropy', # loss function\n",
    "              optimizer='sgd', # stochastic gradient descent\n",
    "              metrics=['accuracy'])\n"
   ]
  },
  {
   "cell_type": "markdown",
   "metadata": {},
   "source": [
    "We can run the learning process on the dataset."
   ]
  },
  {
   "cell_type": "code",
   "execution_count": 12,
   "metadata": {},
   "outputs": [
    {
     "name": "stdout",
     "output_type": "stream",
     "text": [
      "Epoch 1/100\n"
     ]
    },
    {
     "name": "stderr",
     "output_type": "stream",
     "text": [
      "2022-10-27 09:05:19.012114: W tensorflow/core/platform/profile_utils/cpu_utils.cc:128] Failed to get CPU frequency: 0 Hz\n",
      "2022-10-27 09:05:19.012304: I tensorflow/core/grappler/optimizers/custom_graph_optimizer_registry.cc:114] Plugin optimizer for device_type GPU is enabled.\n"
     ]
    },
    {
     "name": "stdout",
     "output_type": "stream",
     "text": [
      "19/19 [==============================] - 1s 18ms/step - loss: 1.1478 - accuracy: 0.4400\n",
      "Epoch 2/100\n",
      "19/19 [==============================] - 0s 5ms/step - loss: 0.8340 - accuracy: 0.6267\n",
      "Epoch 3/100\n",
      "19/19 [==============================] - 0s 6ms/step - loss: 0.7204 - accuracy: 0.7067\n",
      "Epoch 4/100\n",
      "19/19 [==============================] - 0s 5ms/step - loss: 0.7273 - accuracy: 0.6000\n",
      "Epoch 5/100\n",
      "19/19 [==============================] - 0s 6ms/step - loss: 0.5723 - accuracy: 0.8267\n",
      "Epoch 6/100\n",
      "19/19 [==============================] - 0s 6ms/step - loss: 0.6195 - accuracy: 0.7467\n",
      "Epoch 7/100\n",
      "19/19 [==============================] - 0s 6ms/step - loss: 0.5551 - accuracy: 0.7600\n",
      "Epoch 8/100\n",
      "19/19 [==============================] - 0s 5ms/step - loss: 0.4636 - accuracy: 0.8400\n",
      "Epoch 9/100\n",
      "19/19 [==============================] - 0s 6ms/step - loss: 0.5130 - accuracy: 0.7733\n",
      "Epoch 10/100\n",
      "19/19 [==============================] - 0s 6ms/step - loss: 0.5135 - accuracy: 0.8000\n",
      "Epoch 11/100\n",
      "19/19 [==============================] - 0s 6ms/step - loss: 0.4819 - accuracy: 0.8133\n",
      "Epoch 12/100\n",
      "19/19 [==============================] - 0s 6ms/step - loss: 0.4530 - accuracy: 0.8133\n",
      "Epoch 13/100\n",
      "19/19 [==============================] - 0s 6ms/step - loss: 0.4152 - accuracy: 0.8400\n",
      "Epoch 14/100\n",
      "19/19 [==============================] - 0s 6ms/step - loss: 0.4218 - accuracy: 0.8533\n",
      "Epoch 15/100\n",
      "19/19 [==============================] - 0s 6ms/step - loss: 0.4197 - accuracy: 0.7733\n",
      "Epoch 16/100\n",
      "19/19 [==============================] - 0s 6ms/step - loss: 0.4515 - accuracy: 0.7867\n",
      "Epoch 17/100\n",
      "19/19 [==============================] - 0s 6ms/step - loss: 0.3631 - accuracy: 0.8667\n",
      "Epoch 18/100\n",
      "19/19 [==============================] - 0s 6ms/step - loss: 0.3937 - accuracy: 0.8400\n",
      "Epoch 19/100\n",
      "19/19 [==============================] - 0s 6ms/step - loss: 0.3719 - accuracy: 0.8800\n",
      "Epoch 20/100\n",
      "19/19 [==============================] - 0s 6ms/step - loss: 0.3431 - accuracy: 0.8933\n",
      "Epoch 21/100\n",
      "19/19 [==============================] - 0s 6ms/step - loss: 0.3326 - accuracy: 0.9200\n",
      "Epoch 22/100\n",
      "19/19 [==============================] - 0s 6ms/step - loss: 0.3024 - accuracy: 0.9067\n",
      "Epoch 23/100\n",
      "19/19 [==============================] - 0s 6ms/step - loss: 0.3559 - accuracy: 0.8533\n",
      "Epoch 24/100\n",
      "19/19 [==============================] - 0s 6ms/step - loss: 0.3269 - accuracy: 0.9467\n",
      "Epoch 25/100\n",
      "19/19 [==============================] - 0s 6ms/step - loss: 0.3019 - accuracy: 0.9067\n",
      "Epoch 26/100\n",
      "19/19 [==============================] - 0s 6ms/step - loss: 0.3078 - accuracy: 0.8933\n",
      "Epoch 27/100\n",
      "19/19 [==============================] - 0s 6ms/step - loss: 0.2838 - accuracy: 0.9467\n",
      "Epoch 28/100\n",
      "19/19 [==============================] - 0s 6ms/step - loss: 0.2854 - accuracy: 0.9733\n",
      "Epoch 29/100\n",
      "19/19 [==============================] - 0s 6ms/step - loss: 0.2601 - accuracy: 0.9733\n",
      "Epoch 30/100\n",
      "19/19 [==============================] - 0s 6ms/step - loss: 0.2905 - accuracy: 0.8933\n",
      "Epoch 31/100\n",
      "19/19 [==============================] - 0s 6ms/step - loss: 0.2692 - accuracy: 0.9200\n",
      "Epoch 32/100\n",
      "19/19 [==============================] - 0s 6ms/step - loss: 0.2410 - accuracy: 0.9200\n",
      "Epoch 33/100\n",
      "19/19 [==============================] - 0s 6ms/step - loss: 0.2476 - accuracy: 0.9333\n",
      "Epoch 34/100\n",
      "19/19 [==============================] - 0s 6ms/step - loss: 0.2568 - accuracy: 0.9200\n",
      "Epoch 35/100\n",
      "19/19 [==============================] - 0s 6ms/step - loss: 0.2318 - accuracy: 0.9733\n",
      "Epoch 36/100\n",
      "19/19 [==============================] - 0s 6ms/step - loss: 0.2333 - accuracy: 0.9867\n",
      "Epoch 37/100\n",
      "19/19 [==============================] - 0s 6ms/step - loss: 0.2263 - accuracy: 0.9200\n",
      "Epoch 38/100\n",
      "19/19 [==============================] - 0s 6ms/step - loss: 0.2245 - accuracy: 0.9467\n",
      "Epoch 39/100\n",
      "19/19 [==============================] - 0s 6ms/step - loss: 0.2306 - accuracy: 0.9733\n",
      "Epoch 40/100\n",
      "19/19 [==============================] - 0s 6ms/step - loss: 0.2078 - accuracy: 0.9333\n",
      "Epoch 41/100\n",
      "19/19 [==============================] - 0s 6ms/step - loss: 0.1952 - accuracy: 0.9600\n",
      "Epoch 42/100\n",
      "19/19 [==============================] - 0s 6ms/step - loss: 0.2046 - accuracy: 0.9333\n",
      "Epoch 43/100\n",
      "19/19 [==============================] - 0s 6ms/step - loss: 0.1964 - accuracy: 0.9733\n",
      "Epoch 44/100\n",
      "19/19 [==============================] - 0s 6ms/step - loss: 0.2084 - accuracy: 0.9467\n",
      "Epoch 45/100\n",
      "19/19 [==============================] - 0s 6ms/step - loss: 0.1950 - accuracy: 0.9867\n",
      "Epoch 46/100\n",
      "19/19 [==============================] - 0s 6ms/step - loss: 0.1809 - accuracy: 0.9467\n",
      "Epoch 47/100\n",
      "19/19 [==============================] - 0s 6ms/step - loss: 0.1759 - accuracy: 0.9600\n",
      "Epoch 48/100\n",
      "19/19 [==============================] - 0s 6ms/step - loss: 0.1927 - accuracy: 0.9600\n",
      "Epoch 49/100\n",
      "19/19 [==============================] - 0s 6ms/step - loss: 0.1796 - accuracy: 0.9733\n",
      "Epoch 50/100\n",
      "19/19 [==============================] - 0s 6ms/step - loss: 0.1872 - accuracy: 0.9467\n",
      "Epoch 51/100\n",
      "19/19 [==============================] - 0s 6ms/step - loss: 0.1646 - accuracy: 0.9867\n",
      "Epoch 52/100\n",
      "19/19 [==============================] - 0s 6ms/step - loss: 0.1704 - accuracy: 0.9733\n",
      "Epoch 53/100\n",
      "19/19 [==============================] - 0s 6ms/step - loss: 0.1882 - accuracy: 0.9600\n",
      "Epoch 54/100\n",
      "19/19 [==============================] - 0s 6ms/step - loss: 0.1673 - accuracy: 0.9600\n",
      "Epoch 55/100\n",
      "19/19 [==============================] - 0s 6ms/step - loss: 0.1709 - accuracy: 0.9600\n",
      "Epoch 56/100\n",
      "19/19 [==============================] - 0s 6ms/step - loss: 0.1660 - accuracy: 0.9600\n",
      "Epoch 57/100\n",
      "19/19 [==============================] - 0s 6ms/step - loss: 0.1630 - accuracy: 0.9733\n",
      "Epoch 58/100\n",
      "19/19 [==============================] - 0s 6ms/step - loss: 0.1661 - accuracy: 0.9333\n",
      "Epoch 59/100\n",
      "19/19 [==============================] - 0s 6ms/step - loss: 0.1489 - accuracy: 0.9600\n",
      "Epoch 60/100\n",
      "19/19 [==============================] - 0s 6ms/step - loss: 0.1570 - accuracy: 0.9467\n",
      "Epoch 61/100\n",
      "19/19 [==============================] - 0s 5ms/step - loss: 0.1674 - accuracy: 0.9333\n",
      "Epoch 62/100\n",
      "19/19 [==============================] - 0s 5ms/step - loss: 0.1690 - accuracy: 0.9467\n",
      "Epoch 63/100\n",
      "19/19 [==============================] - 0s 6ms/step - loss: 0.1500 - accuracy: 0.9467\n",
      "Epoch 64/100\n",
      "19/19 [==============================] - 0s 5ms/step - loss: 0.1643 - accuracy: 0.9467\n",
      "Epoch 65/100\n",
      "19/19 [==============================] - 0s 6ms/step - loss: 0.1544 - accuracy: 0.9600\n",
      "Epoch 66/100\n",
      "19/19 [==============================] - 0s 5ms/step - loss: 0.1656 - accuracy: 0.9467\n",
      "Epoch 67/100\n",
      "19/19 [==============================] - 0s 5ms/step - loss: 0.1538 - accuracy: 0.9600\n",
      "Epoch 68/100\n",
      "19/19 [==============================] - 0s 6ms/step - loss: 0.1414 - accuracy: 0.9867\n",
      "Epoch 69/100\n",
      "19/19 [==============================] - 0s 5ms/step - loss: 0.1533 - accuracy: 0.9600\n",
      "Epoch 70/100\n",
      "19/19 [==============================] - 0s 6ms/step - loss: 0.1296 - accuracy: 0.9733\n",
      "Epoch 71/100\n",
      "19/19 [==============================] - 0s 5ms/step - loss: 0.1286 - accuracy: 0.9733\n",
      "Epoch 72/100\n",
      "19/19 [==============================] - 0s 6ms/step - loss: 0.1459 - accuracy: 0.9600\n",
      "Epoch 73/100\n",
      "19/19 [==============================] - 0s 5ms/step - loss: 0.1295 - accuracy: 0.9733\n",
      "Epoch 74/100\n",
      "19/19 [==============================] - 0s 5ms/step - loss: 0.1433 - accuracy: 0.9600\n",
      "Epoch 75/100\n",
      "19/19 [==============================] - 0s 6ms/step - loss: 0.1445 - accuracy: 0.9600\n",
      "Epoch 76/100\n",
      "19/19 [==============================] - 0s 6ms/step - loss: 0.1337 - accuracy: 0.9600\n",
      "Epoch 77/100\n",
      "19/19 [==============================] - 0s 6ms/step - loss: 0.1417 - accuracy: 0.9600\n",
      "Epoch 78/100\n",
      "19/19 [==============================] - 0s 5ms/step - loss: 0.1542 - accuracy: 0.9333\n",
      "Epoch 79/100\n",
      "19/19 [==============================] - 0s 5ms/step - loss: 0.1322 - accuracy: 0.9733\n",
      "Epoch 80/100\n",
      "19/19 [==============================] - 0s 6ms/step - loss: 0.1288 - accuracy: 0.9867\n",
      "Epoch 81/100\n",
      "19/19 [==============================] - 0s 5ms/step - loss: 0.1467 - accuracy: 0.9467\n",
      "Epoch 82/100\n",
      "19/19 [==============================] - 0s 6ms/step - loss: 0.1443 - accuracy: 0.9333\n",
      "Epoch 83/100\n"
     ]
    },
    {
     "name": "stdout",
     "output_type": "stream",
     "text": [
      "19/19 [==============================] - 0s 6ms/step - loss: 0.1469 - accuracy: 0.9467\n",
      "Epoch 84/100\n",
      "19/19 [==============================] - 0s 5ms/step - loss: 0.1287 - accuracy: 0.9733\n",
      "Epoch 85/100\n",
      "19/19 [==============================] - 0s 5ms/step - loss: 0.1220 - accuracy: 0.9733\n",
      "Epoch 86/100\n",
      "19/19 [==============================] - 0s 6ms/step - loss: 0.1306 - accuracy: 0.9467\n",
      "Epoch 87/100\n",
      "19/19 [==============================] - 0s 5ms/step - loss: 0.1311 - accuracy: 0.9600\n",
      "Epoch 88/100\n",
      "19/19 [==============================] - 0s 5ms/step - loss: 0.1317 - accuracy: 0.9733\n",
      "Epoch 89/100\n",
      "19/19 [==============================] - 0s 6ms/step - loss: 0.1295 - accuracy: 0.9600\n",
      "Epoch 90/100\n",
      "19/19 [==============================] - 0s 6ms/step - loss: 0.1348 - accuracy: 0.9467\n",
      "Epoch 91/100\n",
      "19/19 [==============================] - 0s 6ms/step - loss: 0.1389 - accuracy: 0.9467\n",
      "Epoch 92/100\n",
      "19/19 [==============================] - 0s 6ms/step - loss: 0.1417 - accuracy: 0.9600\n",
      "Epoch 93/100\n",
      "19/19 [==============================] - 0s 6ms/step - loss: 0.1253 - accuracy: 0.9467\n",
      "Epoch 94/100\n",
      "19/19 [==============================] - 0s 5ms/step - loss: 0.1189 - accuracy: 0.9600\n",
      "Epoch 95/100\n",
      "19/19 [==============================] - 0s 6ms/step - loss: 0.1261 - accuracy: 0.9600\n",
      "Epoch 96/100\n",
      "19/19 [==============================] - 0s 5ms/step - loss: 0.1161 - accuracy: 0.9467\n",
      "Epoch 97/100\n",
      "19/19 [==============================] - 0s 6ms/step - loss: 0.1219 - accuracy: 0.9467\n",
      "Epoch 98/100\n",
      "19/19 [==============================] - 0s 5ms/step - loss: 0.1233 - accuracy: 0.9467\n",
      "Epoch 99/100\n",
      "19/19 [==============================] - 0s 6ms/step - loss: 0.1128 - accuracy: 0.9733\n",
      "Epoch 100/100\n",
      "19/19 [==============================] - 0s 6ms/step - loss: 0.1160 - accuracy: 0.9733\n"
     ]
    },
    {
     "data": {
      "text/plain": [
       "<keras.callbacks.History at 0x161951510>"
      ]
     },
     "execution_count": 12,
     "metadata": {},
     "output_type": "execute_result"
    }
   ],
   "source": [
    "#model.fit(train_X, train_y_binary, epochs=100, batch_size=10)\n",
    "#model.fit(train_dataset, epochs=100, batch_size=10)\n",
    "model_3.fit(train_dataset, epochs=100, batch_size=10)\n",
    "# 5 is clearly not enough, just for illustrating"
   ]
  },
  {
   "cell_type": "markdown",
   "metadata": {},
   "source": [
    "We can do all of this in an easier way by using the keras wrapper:"
   ]
  },
  {
   "cell_type": "code",
   "execution_count": 14,
   "metadata": {},
   "outputs": [],
   "source": [
    "# define baseline model\n",
    "def baseline_model(nb_neurones):\n",
    "    # create model\n",
    "    model = Sequential()\n",
    "    model.add(Dense(nb_neurones, input_dim=4, activation='relu'))\n",
    "    model.add(Dense(3, activation='softmax'))\n",
    "    # Compile model\n",
    "    model.compile(loss='categorical_crossentropy', optimizer='adam', metrics=['accuracy'])\n",
    "    return model"
   ]
  },
  {
   "cell_type": "code",
   "execution_count": 15,
   "metadata": {},
   "outputs": [
    {
     "name": "stderr",
     "output_type": "stream",
     "text": [
      "/var/folders/44/_q8kssp12vb3ks1rlb59jm6m0000gp/T/ipykernel_30015/1305886147.py:2: DeprecationWarning: KerasClassifier is deprecated, use Sci-Keras (https://github.com/adriangb/scikeras) instead. See https://www.adriangb.com/scikeras/stable/migration.html for help migrating.\n",
      "  estimator = KerasClassifier(build_fn=baseline_model, nb_neurones=8, epochs=100, batch_size=5, verbose=0)\n"
     ]
    }
   ],
   "source": [
    "from tensorflow.keras.wrappers.scikit_learn import KerasClassifier\n",
    "estimator = KerasClassifier(build_fn=baseline_model, nb_neurones=8, epochs=100, batch_size=5, verbose=0)"
   ]
  },
  {
   "cell_type": "code",
   "execution_count": 16,
   "metadata": {},
   "outputs": [
    {
     "name": "stderr",
     "output_type": "stream",
     "text": [
      "2022-10-27 09:06:49.772776: I tensorflow/core/grappler/optimizers/custom_graph_optimizer_registry.cc:114] Plugin optimizer for device_type GPU is enabled.\n"
     ]
    },
    {
     "data": {
      "text/plain": [
       "<keras.callbacks.History at 0x16433c040>"
      ]
     },
     "execution_count": 16,
     "metadata": {},
     "output_type": "execute_result"
    }
   ],
   "source": [
    "estimator.fit(train_X, train_y_binary)"
   ]
  },
  {
   "cell_type": "code",
   "execution_count": 17,
   "metadata": {},
   "outputs": [
    {
     "name": "stdout",
     "output_type": "stream",
     "text": [
      "3/3 [==============================] - 0s 4ms/step\n",
      "0.040000000000000036\n"
     ]
    },
    {
     "name": "stderr",
     "output_type": "stream",
     "text": [
      "2022-10-27 09:06:56.546116: I tensorflow/core/grappler/optimizers/custom_graph_optimizer_registry.cc:114] Plugin optimizer for device_type GPU is enabled.\n"
     ]
    }
   ],
   "source": [
    "from sklearn.metrics import zero_one_loss\n",
    "pred_y=estimator.predict(test_X)\n",
    "e=zero_one_loss(test_y, pred_y)\n",
    "print(e)"
   ]
  },
  {
   "cell_type": "markdown",
   "metadata": {},
   "source": [
    "We can monitor the learning process and even influence it with callbacks."
   ]
  },
  {
   "cell_type": "markdown",
   "metadata": {},
   "source": [
    "Let's monitor the accuracy for training and test sets."
   ]
  },
  {
   "cell_type": "code",
   "execution_count": 18,
   "metadata": {},
   "outputs": [
    {
     "name": "stderr",
     "output_type": "stream",
     "text": [
      "2022-10-27 09:07:36.304808: I tensorflow/core/grappler/optimizers/custom_graph_optimizer_registry.cc:114] Plugin optimizer for device_type GPU is enabled.\n",
      "2022-10-27 09:07:36.446505: I tensorflow/core/grappler/optimizers/custom_graph_optimizer_registry.cc:114] Plugin optimizer for device_type GPU is enabled.\n"
     ]
    }
   ],
   "source": [
    "#from keras.callbacks import History\n",
    "history = estimator.fit(train_X, train_y_binary, validation_split=0.33)\n",
    "# equivalent to: history = estimator.fit(train_X, train_y_binary, validation_split=0.33, callbacks=[History()])"
   ]
  },
  {
   "cell_type": "code",
   "execution_count": 24,
   "metadata": {},
   "outputs": [
    {
     "name": "stdout",
     "output_type": "stream",
     "text": [
      "dict_keys(['loss', 'accuracy', 'val_loss', 'val_accuracy', 'lr'])\n"
     ]
    },
    {
     "data": {
      "image/png": "[encoded data removed]",
      "text/plain": [
       "<Figure size 640x480 with 1 Axes>"
      ]
     },
     "metadata": {},
     "output_type": "display_data"
    },
    {
     "data": {
      "image/png": "[encoded data removed]",
      "text/plain": [
       "<Figure size 640x480 with 1 Axes>"
      ]
     },
     "metadata": {},
     "output_type": "display_data"
    }
   ],
   "source": [
    "# source: https://machinelearningmastery.com\n",
    "%matplotlib inline\n",
    "import matplotlib.pyplot as plt\n",
    "print(history.history.keys())\n",
    "# summarize history for accuracy\n",
    "plt.plot(history.history['accuracy'])\n",
    "plt.plot(history.history['val_accuracy'])\n",
    "plt.title('model accuracy')\n",
    "plt.ylabel('accuracy')\n",
    "plt.xlabel('epoch')\n",
    "plt.legend(['train', 'validation'], loc='upper left')\n",
    "plt.show()\n",
    "# summarize history for loss\n",
    "plt.plot(history.history['loss'])\n",
    "plt.plot(history.history['val_loss'])\n",
    "plt.title('model loss')\n",
    "plt.ylabel('loss')\n",
    "plt.xlabel('epoch')\n",
    "plt.legend(['train', 'validation'], loc='upper left')\n",
    "plt.show()"
   ]
  },
  {
   "cell_type": "code",
   "execution_count": 25,
   "metadata": {},
   "outputs": [
    {
     "name": "stderr",
     "output_type": "stream",
     "text": [
      "2022-10-27 09:13:02.236497: I tensorflow/core/grappler/optimizers/custom_graph_optimizer_registry.cc:114] Plugin optimizer for device_type GPU is enabled.\n",
      "2022-10-27 09:13:02.359787: I tensorflow/core/grappler/optimizers/custom_graph_optimizer_registry.cc:114] Plugin optimizer for device_type GPU is enabled.\n"
     ]
    },
    {
     "name": "stdout",
     "output_type": "stream",
     "text": [
      "3/3 [==============================] - 0s 3ms/step\n",
      "0.06666666666666665\n"
     ]
    },
    {
     "name": "stderr",
     "output_type": "stream",
     "text": [
      "2022-10-27 09:13:09.780339: I tensorflow/core/grappler/optimizers/custom_graph_optimizer_registry.cc:114] Plugin optimizer for device_type GPU is enabled.\n"
     ]
    }
   ],
   "source": [
    "# reducing the learning rate when the metrics stagnate\n",
    "from tensorflow.keras.callbacks import ReduceLROnPlateau\n",
    "reduce_lr = ReduceLROnPlateau(monitor='loss', factor=0.2,\n",
    "                              patience=5, min_lr=0.001)\n",
    "history = estimator.fit(train_X, train_y_binary, callbacks=[reduce_lr], validation_split=0.33)\n",
    "pred_y=estimator.predict(test_X)\n",
    "e=zero_one_loss(test_y, pred_y)\n",
    "print(e)"
   ]
  },
  {
   "cell_type": "code",
   "execution_count": 26,
   "metadata": {},
   "outputs": [
    {
     "name": "stdout",
     "output_type": "stream",
     "text": [
      "dict_keys(['loss', 'accuracy', 'val_loss', 'val_accuracy', 'lr'])\n"
     ]
    },
    {
     "data": {
      "image/png": "[encoded data removed]",
      "text/plain": [
       "<Figure size 640x480 with 1 Axes>"
      ]
     },
     "metadata": {},
     "output_type": "display_data"
    },
    {
     "data": {
      "image/png": "[encoded data removed]",
      "text/plain": [
       "<Figure size 640x480 with 1 Axes>"
      ]
     },
     "metadata": {},
     "output_type": "display_data"
    }
   ],
   "source": [
    "# source: https://machinelearningmastery.com\n",
    "import matplotlib.pyplot as plt\n",
    "print(history.history.keys())\n",
    "# summarize history for accuracy\n",
    "plt.plot(history.history['accuracy'])\n",
    "plt.plot(history.history['val_accuracy'])\n",
    "plt.title('model accuracy')\n",
    "plt.ylabel('accuracy')\n",
    "plt.xlabel('epoch')\n",
    "plt.legend(['train', 'validation'], loc='upper left')\n",
    "plt.show()\n",
    "# summarize history for loss\n",
    "plt.plot(history.history['loss'])\n",
    "plt.plot(history.history['val_loss'])\n",
    "plt.title('model loss')\n",
    "plt.ylabel('loss')\n",
    "plt.xlabel('epoch')\n",
    "plt.legend(['train', 'validation'], loc='upper left')\n",
    "plt.show()"
   ]
  },
  {
   "cell_type": "markdown",
   "metadata": {},
   "source": [
    "We can also use Tensorboard to have a better monitoring of the learning process."
   ]
  },
  {
   "cell_type": "code",
   "execution_count": 27,
   "metadata": {},
   "outputs": [
    {
     "name": "stderr",
     "output_type": "stream",
     "text": [
      "2022-10-27 09:13:10.101325: I tensorflow/core/grappler/optimizers/custom_graph_optimizer_registry.cc:114] Plugin optimizer for device_type GPU is enabled.\n",
      "2022-10-27 09:13:10.225071: I tensorflow/core/grappler/optimizers/custom_graph_optimizer_registry.cc:114] Plugin optimizer for device_type GPU is enabled.\n"
     ]
    }
   ],
   "source": [
    "#%load_ext tensorboard\n",
    "%reload_ext tensorboard\n",
    "\n",
    "import datetime\n",
    "\n",
    "from tensorflow.keras.callbacks import TensorBoard\n",
    "\n",
    "# where save the logs\n",
    "log_dir=\"logs/fit/\" + datetime.datetime.now().strftime(\"%Y%m%d-%H%M%S\")\n",
    "\n",
    "# the special tensorboard callback\n",
    "tensorboard_callback = TensorBoard(log_dir=log_dir, histogram_freq=1)\n",
    "\n",
    "# pay attention that we use keras here, not tf.keras\n",
    "\n",
    "history = estimator.fit(train_X, train_y_binary, validation_split=0.33, callbacks=[tensorboard_callback])"
   ]
  },
  {
   "cell_type": "code",
   "execution_count": 21,
   "metadata": {},
   "outputs": [
    {
     "data": {
      "text/html": [
       "\n",
       "      <iframe id=\"tensorboard-frame-896d934ab773b045\" width=\"100%\" height=\"800\" frameborder=\"0\">\n",
       "      </iframe>\n",
       "      <script>\n",
       "        (function() {\n",
       "          const frame = document.getElementById(\"tensorboard-frame-896d934ab773b045\");\n",
       "          const url = new URL(\"/\", window.location);\n",
       "          const port = 6006;\n",
       "          if (port) {\n",
       "            url.port = port;\n",
       "          }\n",
       "          frame.src = url;\n",
       "        })();\n",
       "      </script>\n",
       "    "
      ],
      "text/plain": [
       "<IPython.core.display.HTML object>"
      ]
     },
     "metadata": {},
     "output_type": "display_data"
    }
   ],
   "source": [
    "%tensorboard --logdir logs/fit"
   ]
  },
  {
   "cell_type": "code",
   "execution_count": null,
   "metadata": {},
   "outputs": [],
   "source": []
  }
 ],
 "metadata": {
  "hide_input": false,
  "kernelspec": {
   "display_name": "Python 3 (ipykernel)",
   "language": "python",
   "name": "python3"
  },
  "language_info": {
   "codemirror_mode": {
    "name": "ipython",
    "version": 3
   },
   "file_extension": ".py",
   "mimetype": "text/x-python",
   "name": "python",
   "nbconvert_exporter": "python",
   "pygments_lexer": "ipython3",
   "version": "3.10.6"
  },
  "toc": {
   "base_numbering": 1,
   "nav_menu": {},
   "number_sections": true,
   "sideBar": true,
   "skip_h1_title": false,
   "title_cell": "Table of Contents",
   "title_sidebar": "Contents",
   "toc_cell": false,
   "toc_position": {},
   "toc_section_display": true,
   "toc_window_display": false
  }
 },
 "nbformat": 4,
 "nbformat_minor": 2
}
