{
 "cells": [
  {
   "cell_type": "markdown",
   "metadata": {},
   "source": [
    "# Logistic regression as a perceptron with no hidden layer"
   ]
  },
  {
   "cell_type": "markdown",
   "metadata": {},
   "source": [
    "This notebook is part of the course given by J. Velcin on Deep Learning at the University of Lyon 2."
   ]
  },
  {
   "cell_type": "code",
   "execution_count": 19,
   "metadata": {},
   "outputs": [
    {
     "name": "stdout",
     "output_type": "stream",
     "text": [
      "2.10.0\n"
     ]
    }
   ],
   "source": [
    "import tensorflow as tf\n",
    "print(tf.__version__)"
   ]
  },
  {
   "cell_type": "code",
   "execution_count": 20,
   "metadata": {},
   "outputs": [],
   "source": [
    "from tensorflow.keras.models import Sequential\n",
    "\n",
    "model = Sequential()"
   ]
  },
  {
   "cell_type": "markdown",
   "metadata": {},
   "source": [
    "The LR can be seen as a *pipeline* of 2 modules:\n",
    "\n",
    "- an input layer of 4 variables\n",
    "- an output layer of 3 classes "
   ]
  },
  {
   "cell_type": "code",
   "execution_count": 21,
   "metadata": {},
   "outputs": [
    {
     "name": "stdout",
     "output_type": "stream",
     "text": [
      "Model: \"sequential_2\"\n",
      "_________________________________________________________________\n",
      " Layer (type)                Output Shape              Param #   \n",
      "=================================================================\n",
      " dense_1 (Dense)             (None, 3)                 15        \n",
      "                                                                 \n",
      "=================================================================\n",
      "Total params: 15\n",
      "Trainable params: 15\n",
      "Non-trainable params: 0\n",
      "_________________________________________________________________\n"
     ]
    }
   ],
   "source": [
    "#from keras.layers import Dense   # with TF 1\n",
    "from tensorflow.keras.layers import Dense   # with TF 2\n",
    "\n",
    "# solution 1 :\n",
    "model.add(Dense(units=3, activation='softmax', input_dim=4))\n",
    "\n",
    "# solution 2 :\n",
    "#model.add(Dense(units=3, activation='softmax', input_shape=(4,)))\n",
    "\n",
    "model.summary()"
   ]
  },
  {
   "cell_type": "markdown",
   "metadata": {},
   "source": [
    "We setup the model by defining the loss function, optimizer, evaluation measure."
   ]
  },
  {
   "cell_type": "code",
   "execution_count": 22,
   "metadata": {},
   "outputs": [],
   "source": [
    "model.compile(loss='categorical_crossentropy', # loss function\n",
    "              optimizer='sgd', # stochastic gradient descent\n",
    "              metrics=['accuracy'])"
   ]
  },
  {
   "cell_type": "markdown",
   "metadata": {},
   "source": [
    "Loading the iris dataset"
   ]
  },
  {
   "cell_type": "code",
   "execution_count": 23,
   "metadata": {},
   "outputs": [],
   "source": [
    "from sklearn.datasets import load_iris\n",
    "from sklearn.model_selection import train_test_split\n",
    "import numpy as np\n",
    "\n",
    "iris = load_iris()\n",
    "X, y = iris.data, iris.target\n",
    "train_X, test_X, train_y, test_y = train_test_split(X, y, \n",
    "                                                    train_size=0.5,\n",
    "                                                    test_size=0.5,\n",
    "                                                    random_state=123,\n",
    "                                                    stratify=y)"
   ]
  },
  {
   "cell_type": "markdown",
   "metadata": {},
   "source": [
    "We need to use a \"one hot encoding\" for the class to predict."
   ]
  },
  {
   "cell_type": "markdown",
   "metadata": {},
   "source": [
    "This means mapping integers to binary codes:\n",
    "- 0 -> (1,0,0)\n",
    "- 1 -> (0,1,0)\n",
    "- 2 -> (0,0,1)"
   ]
  },
  {
   "cell_type": "code",
   "execution_count": 24,
   "metadata": {},
   "outputs": [],
   "source": [
    "from tensorflow.keras.utils import to_categorical\n",
    "train_y_binary = to_categorical(train_y)\n",
    "test_y_binary = to_categorical(test_y)"
   ]
  },
  {
   "cell_type": "code",
   "execution_count": 25,
   "metadata": {},
   "outputs": [
    {
     "data": {
      "text/plain": [
       "array([[0., 1., 0.],\n",
       "       [0., 1., 0.],\n",
       "       [0., 1., 0.],\n",
       "       [1., 0., 0.],\n",
       "       [1., 0., 0.],\n",
       "       [0., 0., 1.],\n",
       "       [0., 1., 0.],\n",
       "       [0., 1., 0.],\n",
       "       [0., 1., 0.],\n",
       "       [1., 0., 0.]], dtype=float32)"
      ]
     },
     "execution_count": 25,
     "metadata": {},
     "output_type": "execute_result"
    }
   ],
   "source": [
    "#print(train_y[0:10])\n",
    "train_y_binary[0:10]"
   ]
  },
  {
   "cell_type": "markdown",
   "metadata": {},
   "source": [
    "Test the efficiency of the network without any learning:"
   ]
  },
  {
   "cell_type": "code",
   "execution_count": 26,
   "metadata": {},
   "outputs": [
    {
     "name": "stdout",
     "output_type": "stream",
     "text": [
      "3/3 [==============================] - 0s 9ms/step - loss: 2.1414 - accuracy: 0.3333\n",
      "test score:  2.1414175033569336\n",
      "test accuracy:  0.3333333432674408\n"
     ]
    },
    {
     "name": "stderr",
     "output_type": "stream",
     "text": [
      "2022-10-27 08:51:16.833062: I tensorflow/core/grappler/optimizers/custom_graph_optimizer_registry.cc:114] Plugin optimizer for device_type GPU is enabled.\n"
     ]
    }
   ],
   "source": [
    "score = model.evaluate(test_X, test_y_binary)\n",
    "print(\"test score: \", score[0])\n",
    "print(\"test accuracy: \", score[1])"
   ]
  },
  {
   "cell_type": "markdown",
   "metadata": {},
   "source": [
    "Let's do learning:"
   ]
  },
  {
   "cell_type": "code",
   "execution_count": 27,
   "metadata": {},
   "outputs": [
    {
     "name": "stdout",
     "output_type": "stream",
     "text": [
      "Epoch 1/100\n",
      "8/8 [==============================] - 0s 6ms/step - loss: 1.7743 - accuracy: 0.2933\n",
      "Epoch 2/100\n",
      "8/8 [==============================] - 0s 6ms/step - loss: 1.3616 - accuracy: 0.2800\n",
      "Epoch 3/100\n",
      "8/8 [==============================] - 0s 5ms/step - loss: 1.2511 - accuracy: 0.3867\n",
      "Epoch 4/100\n",
      "1/8 [==>...........................] - ETA: 0s - loss: 1.3001 - accuracy: 0.4000"
     ]
    },
    {
     "name": "stderr",
     "output_type": "stream",
     "text": [
      "2022-10-27 08:53:30.629380: I tensorflow/core/grappler/optimizers/custom_graph_optimizer_registry.cc:114] Plugin optimizer for device_type GPU is enabled.\n"
     ]
    },
    {
     "name": "stdout",
     "output_type": "stream",
     "text": [
      "8/8 [==============================] - 0s 5ms/step - loss: 1.1723 - accuracy: 0.4667\n",
      "Epoch 5/100\n",
      "8/8 [==============================] - 0s 5ms/step - loss: 1.1114 - accuracy: 0.4800\n",
      "Epoch 6/100\n",
      "8/8 [==============================] - 0s 5ms/step - loss: 1.0575 - accuracy: 0.4667\n",
      "Epoch 7/100\n",
      "8/8 [==============================] - 0s 5ms/step - loss: 1.0102 - accuracy: 0.4800\n",
      "Epoch 8/100\n",
      "8/8 [==============================] - 0s 5ms/step - loss: 0.9729 - accuracy: 0.5067\n",
      "Epoch 9/100\n",
      "8/8 [==============================] - 0s 5ms/step - loss: 0.9348 - accuracy: 0.6133\n",
      "Epoch 10/100\n",
      "8/8 [==============================] - 0s 5ms/step - loss: 0.8844 - accuracy: 0.6667\n",
      "Epoch 11/100\n",
      "8/8 [==============================] - 0s 6ms/step - loss: 0.8412 - accuracy: 0.6800\n",
      "Epoch 12/100\n",
      "8/8 [==============================] - 0s 5ms/step - loss: 0.8215 - accuracy: 0.7867\n",
      "Epoch 13/100\n",
      "8/8 [==============================] - 0s 5ms/step - loss: 0.7845 - accuracy: 0.8267\n",
      "Epoch 14/100\n",
      "8/8 [==============================] - 0s 6ms/step - loss: 0.7587 - accuracy: 0.8400\n",
      "Epoch 15/100\n",
      "8/8 [==============================] - 0s 5ms/step - loss: 0.7349 - accuracy: 0.7867\n",
      "Epoch 16/100\n",
      "8/8 [==============================] - 0s 5ms/step - loss: 0.7158 - accuracy: 0.7600\n",
      "Epoch 17/100\n",
      "8/8 [==============================] - 0s 6ms/step - loss: 0.7027 - accuracy: 0.8133\n",
      "Epoch 18/100\n",
      "8/8 [==============================] - 0s 6ms/step - loss: 0.6747 - accuracy: 0.7867\n",
      "Epoch 19/100\n",
      "8/8 [==============================] - 0s 5ms/step - loss: 0.6539 - accuracy: 0.8667\n",
      "Epoch 20/100\n",
      "8/8 [==============================] - 0s 6ms/step - loss: 0.6424 - accuracy: 0.8133\n",
      "Epoch 21/100\n",
      "8/8 [==============================] - 0s 5ms/step - loss: 0.6333 - accuracy: 0.8400\n",
      "Epoch 22/100\n",
      "8/8 [==============================] - 0s 5ms/step - loss: 0.6233 - accuracy: 0.8667\n",
      "Epoch 23/100\n",
      "8/8 [==============================] - 0s 5ms/step - loss: 0.6045 - accuracy: 0.7867\n",
      "Epoch 24/100\n",
      "8/8 [==============================] - 0s 6ms/step - loss: 0.5963 - accuracy: 0.8533\n",
      "Epoch 25/100\n",
      "8/8 [==============================] - 0s 6ms/step - loss: 0.5913 - accuracy: 0.7600\n",
      "Epoch 26/100\n",
      "8/8 [==============================] - 0s 5ms/step - loss: 0.5760 - accuracy: 0.8400\n",
      "Epoch 27/100\n",
      "8/8 [==============================] - 0s 5ms/step - loss: 0.5795 - accuracy: 0.8133\n",
      "Epoch 28/100\n",
      "8/8 [==============================] - 0s 6ms/step - loss: 0.5551 - accuracy: 0.8533\n",
      "Epoch 29/100\n",
      "8/8 [==============================] - 0s 6ms/step - loss: 0.5475 - accuracy: 0.8667\n",
      "Epoch 30/100\n",
      "8/8 [==============================] - 0s 5ms/step - loss: 0.5586 - accuracy: 0.7600\n",
      "Epoch 31/100\n",
      "8/8 [==============================] - 0s 5ms/step - loss: 0.5427 - accuracy: 0.8133\n",
      "Epoch 32/100\n",
      "8/8 [==============================] - 0s 6ms/step - loss: 0.5322 - accuracy: 0.8533\n",
      "Epoch 33/100\n",
      "8/8 [==============================] - 0s 5ms/step - loss: 0.5226 - accuracy: 0.8933\n",
      "Epoch 34/100\n",
      "8/8 [==============================] - 0s 6ms/step - loss: 0.5212 - accuracy: 0.8400\n",
      "Epoch 35/100\n",
      "8/8 [==============================] - 0s 6ms/step - loss: 0.5145 - accuracy: 0.8533\n",
      "Epoch 36/100\n",
      "8/8 [==============================] - 0s 6ms/step - loss: 0.5106 - accuracy: 0.8667\n",
      "Epoch 37/100\n",
      "8/8 [==============================] - 0s 5ms/step - loss: 0.4985 - accuracy: 0.9067\n",
      "Epoch 38/100\n",
      "8/8 [==============================] - 0s 6ms/step - loss: 0.4937 - accuracy: 0.8533\n",
      "Epoch 39/100\n",
      "8/8 [==============================] - 0s 6ms/step - loss: 0.4975 - accuracy: 0.8533\n",
      "Epoch 40/100\n",
      "8/8 [==============================] - 0s 6ms/step - loss: 0.4885 - accuracy: 0.8667\n",
      "Epoch 41/100\n",
      "8/8 [==============================] - 0s 6ms/step - loss: 0.4846 - accuracy: 0.8800\n",
      "Epoch 42/100\n",
      "8/8 [==============================] - 0s 6ms/step - loss: 0.4764 - accuracy: 0.9067\n",
      "Epoch 43/100\n",
      "8/8 [==============================] - 0s 6ms/step - loss: 0.4715 - accuracy: 0.8800\n",
      "Epoch 44/100\n",
      "8/8 [==============================] - 0s 6ms/step - loss: 0.4775 - accuracy: 0.8933\n",
      "Epoch 45/100\n",
      "8/8 [==============================] - 0s 6ms/step - loss: 0.4644 - accuracy: 0.8800\n",
      "Epoch 46/100\n",
      "8/8 [==============================] - 0s 6ms/step - loss: 0.4625 - accuracy: 0.8800\n",
      "Epoch 47/100\n",
      "8/8 [==============================] - 0s 6ms/step - loss: 0.4616 - accuracy: 0.8933\n",
      "Epoch 48/100\n",
      "8/8 [==============================] - 0s 6ms/step - loss: 0.4553 - accuracy: 0.8933\n",
      "Epoch 49/100\n",
      "8/8 [==============================] - 0s 6ms/step - loss: 0.4591 - accuracy: 0.8667\n",
      "Epoch 50/100\n",
      "8/8 [==============================] - 0s 6ms/step - loss: 0.4532 - accuracy: 0.8933\n",
      "Epoch 51/100\n",
      "8/8 [==============================] - 0s 6ms/step - loss: 0.4475 - accuracy: 0.8933\n",
      "Epoch 52/100\n",
      "8/8 [==============================] - 0s 6ms/step - loss: 0.4435 - accuracy: 0.9067\n",
      "Epoch 53/100\n",
      "8/8 [==============================] - 0s 6ms/step - loss: 0.4488 - accuracy: 0.8933\n",
      "Epoch 54/100\n",
      "8/8 [==============================] - 0s 6ms/step - loss: 0.4416 - accuracy: 0.9200\n",
      "Epoch 55/100\n",
      "8/8 [==============================] - 0s 6ms/step - loss: 0.4328 - accuracy: 0.8933\n",
      "Epoch 56/100\n",
      "8/8 [==============================] - 0s 6ms/step - loss: 0.4363 - accuracy: 0.9067\n",
      "Epoch 57/100\n",
      "8/8 [==============================] - 0s 6ms/step - loss: 0.4302 - accuracy: 0.9067\n",
      "Epoch 58/100\n",
      "8/8 [==============================] - 0s 5ms/step - loss: 0.4254 - accuracy: 0.9067\n",
      "Epoch 59/100\n",
      "8/8 [==============================] - 0s 5ms/step - loss: 0.4219 - accuracy: 0.9200\n",
      "Epoch 60/100\n",
      "8/8 [==============================] - 0s 5ms/step - loss: 0.4279 - accuracy: 0.8667\n",
      "Epoch 61/100\n",
      "8/8 [==============================] - 0s 5ms/step - loss: 0.4232 - accuracy: 0.9200\n",
      "Epoch 62/100\n",
      "8/8 [==============================] - 0s 5ms/step - loss: 0.4221 - accuracy: 0.8800\n",
      "Epoch 63/100\n",
      "8/8 [==============================] - 0s 5ms/step - loss: 0.4183 - accuracy: 0.8667\n",
      "Epoch 64/100\n",
      "8/8 [==============================] - 0s 6ms/step - loss: 0.4155 - accuracy: 0.9067\n",
      "Epoch 65/100\n",
      "8/8 [==============================] - 0s 6ms/step - loss: 0.4138 - accuracy: 0.9067\n",
      "Epoch 66/100\n",
      "8/8 [==============================] - 0s 6ms/step - loss: 0.4086 - accuracy: 0.8933\n",
      "Epoch 67/100\n",
      "8/8 [==============================] - 0s 6ms/step - loss: 0.4067 - accuracy: 0.9467\n",
      "Epoch 68/100\n",
      "8/8 [==============================] - 0s 6ms/step - loss: 0.4093 - accuracy: 0.9200\n",
      "Epoch 69/100\n",
      "8/8 [==============================] - 0s 6ms/step - loss: 0.4139 - accuracy: 0.9200\n",
      "Epoch 70/100\n",
      "8/8 [==============================] - 0s 5ms/step - loss: 0.4039 - accuracy: 0.9333\n",
      "Epoch 71/100\n",
      "8/8 [==============================] - 0s 5ms/step - loss: 0.3997 - accuracy: 0.9200\n",
      "Epoch 72/100\n",
      "8/8 [==============================] - 0s 5ms/step - loss: 0.3954 - accuracy: 0.9333\n",
      "Epoch 73/100\n",
      "8/8 [==============================] - 0s 6ms/step - loss: 0.3985 - accuracy: 0.9333\n",
      "Epoch 74/100\n",
      "8/8 [==============================] - 0s 6ms/step - loss: 0.3954 - accuracy: 0.9200\n",
      "Epoch 75/100\n",
      "8/8 [==============================] - 0s 5ms/step - loss: 0.3955 - accuracy: 0.9200\n",
      "Epoch 76/100\n",
      "8/8 [==============================] - 0s 5ms/step - loss: 0.3946 - accuracy: 0.9067\n",
      "Epoch 77/100\n",
      "8/8 [==============================] - 0s 6ms/step - loss: 0.3890 - accuracy: 0.9333\n",
      "Epoch 78/100\n",
      "8/8 [==============================] - 0s 6ms/step - loss: 0.3859 - accuracy: 0.9200\n",
      "Epoch 79/100\n",
      "8/8 [==============================] - 0s 6ms/step - loss: 0.3877 - accuracy: 0.8933\n",
      "Epoch 80/100\n",
      "8/8 [==============================] - 0s 5ms/step - loss: 0.3885 - accuracy: 0.9333\n",
      "Epoch 81/100\n",
      "8/8 [==============================] - 0s 5ms/step - loss: 0.3844 - accuracy: 0.9333\n",
      "Epoch 82/100\n",
      "8/8 [==============================] - 0s 5ms/step - loss: 0.3810 - accuracy: 0.9333\n",
      "Epoch 83/100\n",
      "8/8 [==============================] - 0s 5ms/step - loss: 0.3804 - accuracy: 0.9200\n",
      "Epoch 84/100\n",
      "8/8 [==============================] - 0s 5ms/step - loss: 0.3794 - accuracy: 0.9200\n",
      "Epoch 85/100\n",
      "8/8 [==============================] - 0s 5ms/step - loss: 0.3801 - accuracy: 0.9200\n",
      "Epoch 86/100\n",
      "8/8 [==============================] - 0s 5ms/step - loss: 0.3816 - accuracy: 0.9200\n",
      "Epoch 87/100\n"
     ]
    },
    {
     "name": "stdout",
     "output_type": "stream",
     "text": [
      "8/8 [==============================] - 0s 6ms/step - loss: 0.3808 - accuracy: 0.9067\n",
      "Epoch 88/100\n",
      "8/8 [==============================] - 0s 6ms/step - loss: 0.3750 - accuracy: 0.9467\n",
      "Epoch 89/100\n",
      "8/8 [==============================] - 0s 6ms/step - loss: 0.3717 - accuracy: 0.9200\n",
      "Epoch 90/100\n",
      "8/8 [==============================] - 0s 6ms/step - loss: 0.3703 - accuracy: 0.9600\n",
      "Epoch 91/100\n",
      "8/8 [==============================] - 0s 6ms/step - loss: 0.3664 - accuracy: 0.9200\n",
      "Epoch 92/100\n",
      "8/8 [==============================] - 0s 6ms/step - loss: 0.3678 - accuracy: 0.9200\n",
      "Epoch 93/100\n",
      "8/8 [==============================] - 0s 6ms/step - loss: 0.3673 - accuracy: 0.9200\n",
      "Epoch 94/100\n",
      "8/8 [==============================] - 0s 6ms/step - loss: 0.3672 - accuracy: 0.9333\n",
      "Epoch 95/100\n",
      "8/8 [==============================] - 0s 6ms/step - loss: 0.3674 - accuracy: 0.9333\n",
      "Epoch 96/100\n",
      "8/8 [==============================] - 0s 6ms/step - loss: 0.3670 - accuracy: 0.9067\n",
      "Epoch 97/100\n",
      "8/8 [==============================] - 0s 5ms/step - loss: 0.3623 - accuracy: 0.9333\n",
      "Epoch 98/100\n",
      "8/8 [==============================] - 0s 5ms/step - loss: 0.3640 - accuracy: 0.9200\n",
      "Epoch 99/100\n",
      "8/8 [==============================] - 0s 5ms/step - loss: 0.3567 - accuracy: 0.9333\n",
      "Epoch 100/100\n",
      "8/8 [==============================] - 0s 5ms/step - loss: 0.3626 - accuracy: 0.9200\n"
     ]
    }
   ],
   "source": [
    "history = model.fit(train_X, train_y_binary, batch_size=10, epochs=100)"
   ]
  },
  {
   "cell_type": "code",
   "execution_count": 10,
   "metadata": {},
   "outputs": [
    {
     "name": "stdout",
     "output_type": "stream",
     "text": [
      "3/3 [==============================] - 0s 5ms/step - loss: 0.3881 - accuracy: 0.9067\n",
      "test score:  0.38807371258735657\n",
      "test accuracy:  0.9066666960716248\n"
     ]
    }
   ],
   "source": [
    "score = model.evaluate(test_X, test_y_binary)\n",
    "print(\"test score: \", score[0])\n",
    "print(\"test accuracy: \", score[1])"
   ]
  },
  {
   "cell_type": "code",
   "execution_count": null,
   "metadata": {},
   "outputs": [],
   "source": []
  }
 ],
 "metadata": {
  "hide_input": false,
  "kernelspec": {
   "display_name": "Python 3 (ipykernel)",
   "language": "python",
   "name": "python3"
  },
  "language_info": {
   "codemirror_mode": {
    "name": "ipython",
    "version": 3
   },
   "file_extension": ".py",
   "mimetype": "text/x-python",
   "name": "python",
   "nbconvert_exporter": "python",
   "pygments_lexer": "ipython3",
   "version": "3.10.6"
  },
  "toc": {
   "base_numbering": 1,
   "nav_menu": {},
   "number_sections": true,
   "sideBar": true,
   "skip_h1_title": false,
   "title_cell": "Table of Contents",
   "title_sidebar": "Contents",
   "toc_cell": false,
   "toc_position": {},
   "toc_section_display": true,
   "toc_window_display": false
  }
 },
 "nbformat": 4,
 "nbformat_minor": 2
}
