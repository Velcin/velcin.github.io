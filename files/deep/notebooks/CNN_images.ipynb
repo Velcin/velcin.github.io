{
 "cells": [
  {
   "cell_type": "markdown",
   "id": "d83ef508",
   "metadata": {},
   "source": [
    "# TD : classification d'image avec un CNN"
   ]
  },
  {
   "cell_type": "markdown",
   "id": "1414747d",
   "metadata": {},
   "source": [
    "This notebook is part of the course given by J. Velcin on Deep Learning at the University of Lyon 2."
   ]
  },
  {
   "cell_type": "markdown",
   "id": "3d1b20a9",
   "metadata": {},
   "source": [
    "Les données sont là :\n",
    "\n",
    "https://www.kaggle.com/code/tamircip/simple-fruit-detector-by-cnn/data"
   ]
  },
  {
   "cell_type": "markdown",
   "id": "41a5c2ec",
   "metadata": {},
   "source": [
    "## Création du dataset"
   ]
  },
  {
   "cell_type": "code",
   "execution_count": 1,
   "id": "70e19523",
   "metadata": {},
   "outputs": [],
   "source": [
    "import tensorflow as tf\n",
    "import os"
   ]
  },
  {
   "cell_type": "code",
   "execution_count": 14,
   "id": "471e6411",
   "metadata": {},
   "outputs": [
    {
     "data": {
      "text/plain": [
       "'2.10.0'"
      ]
     },
     "execution_count": 14,
     "metadata": {},
     "output_type": "execute_result"
    }
   ],
   "source": [
    "tf.__version__"
   ]
  },
  {
   "cell_type": "code",
   "execution_count": 2,
   "id": "21ea3fd1",
   "metadata": {},
   "outputs": [
    {
     "data": {
      "text/plain": [
       "dict_keys(['apple', 'strawberry', 'lemon', 'mango', 'broccoli', 'grape', 'orange'])"
      ]
     },
     "execution_count": 2,
     "metadata": {},
     "output_type": "execute_result"
    }
   ],
   "source": [
    "list_dir = os.listdir('datasets/fruits/')\n",
    "data_raw = {}\n",
    "for l in list_dir:\n",
    "    data_raw[l] = []\n",
    "\n",
    "data_raw.keys()"
   ]
  },
  {
   "cell_type": "code",
   "execution_count": 3,
   "id": "ef0d4a6e",
   "metadata": {},
   "outputs": [],
   "source": [
    "#full_dataset = []\n",
    "#classes = []\n",
    "#for k in data_raw:\n",
    "#    full_dataset += data_raw[k]\n",
    "#    classes += [k]*len(data_raw[k])\n",
    "#dataset = tf.data.Dataset.from_tensor_slices(full_dataset)"
   ]
  },
  {
   "cell_type": "code",
   "execution_count": 4,
   "id": "21ba0494",
   "metadata": {},
   "outputs": [
    {
     "name": "stdout",
     "output_type": "stream",
     "text": [
      "['apple', 'strawberry', 'lemon', 'mango', 'broccoli', 'grape', 'orange']\n"
     ]
    }
   ],
   "source": [
    "classNames = list(data_raw.keys())\n",
    "print(classNames)"
   ]
  },
  {
   "cell_type": "code",
   "execution_count": 5,
   "id": "9017700c",
   "metadata": {},
   "outputs": [],
   "source": [
    "#.map(load_images,\n",
    "def load_image_classe(filename):\n",
    "    label = tf.strings.split(filename, sep='/')[-2]    \n",
    "    oneHot = label == classNames\n",
    "    classe = tf.argmax(oneHot)\n",
    "    raw = tf.io.read_file(filename)\n",
    "    image = tf.image.decode_png(raw, channels=3)\n",
    "    image = tf.image.resize(image, (32, 32)) / 255.0\n",
    "    return (image, classe)\n",
    "\n",
    "list_dir = os.listdir('datasets/fruits/')\n",
    "data_paths = []\n",
    "data_class = []\n",
    "for l in list_dir:\n",
    "    list_files = os.listdir('datasets/fruits/' + l + \"/\")\n",
    "    for f in list_files:\n",
    "        ext = os.path.splitext(f)[-1].lower()\n",
    "        if ((ext == \".png\") or (ext == \".jpg\") or (ext == \".jpeg\")):\n",
    "            data_paths.append('datasets/fruits/' + l + \"/\" + f)\n",
    "            data_class.append(l)"
   ]
  },
  {
   "cell_type": "code",
   "execution_count": 6,
   "id": "412341fe",
   "metadata": {},
   "outputs": [],
   "source": [
    "num_train = len(data_paths)"
   ]
  },
  {
   "cell_type": "code",
   "execution_count": 10,
   "id": "eee453be",
   "metadata": {},
   "outputs": [],
   "source": [
    "dataset = tf.data.Dataset.from_tensor_slices(data_paths)"
   ]
  },
  {
   "cell_type": "code",
   "execution_count": 11,
   "id": "950b7f53",
   "metadata": {},
   "outputs": [
    {
     "data": {
      "text/plain": [
       "<TensorSliceDataset element_spec=TensorSpec(shape=(), dtype=tf.string, name=None)>"
      ]
     },
     "execution_count": 11,
     "metadata": {},
     "output_type": "execute_result"
    }
   ],
   "source": [
    "dataset"
   ]
  },
  {
   "cell_type": "code",
   "execution_count": 12,
   "id": "20874939",
   "metadata": {},
   "outputs": [],
   "source": [
    "from tensorflow.data import AUTOTUNE\n",
    "\n",
    "BS = 64\n",
    "#NUM_STEPS = 1000\n",
    "\n",
    "dataset = (dataset\n",
    "    .shuffle(1024)\n",
    "    .map(load_image_classe, num_parallel_calls=AUTOTUNE)\n",
    "    .cache()\n",
    "    .repeat()\n",
    "    .batch(BS)\n",
    "    .prefetch(AUTOTUNE)\n",
    ")"
   ]
  },
  {
   "cell_type": "code",
   "execution_count": 13,
   "id": "10b11e9a",
   "metadata": {},
   "outputs": [
    {
     "data": {
      "text/plain": [
       "<PrefetchDataset element_spec=(TensorSpec(shape=(None, 32, 32, 3), dtype=tf.float32, name=None), TensorSpec(shape=(None,), dtype=tf.int64, name=None))>"
      ]
     },
     "execution_count": 13,
     "metadata": {},
     "output_type": "execute_result"
    }
   ],
   "source": [
    "dataset"
   ]
  },
  {
   "cell_type": "markdown",
   "id": "7ba0496f",
   "metadata": {},
   "source": [
    "## Architecture deep"
   ]
  },
  {
   "cell_type": "code",
   "execution_count": 13,
   "id": "210034e9",
   "metadata": {},
   "outputs": [],
   "source": [
    "# architecture proposée par T. Ciprut\n",
    "# cf. : https://www.kaggle.com/code/tamircip/simple-fruit-detector-by-cnn\n",
    "\n",
    "from tensorflow.keras.layers import Input, Conv2D, Dense, Flatten, Dropout, GlobalMaxPooling2D, MaxPooling2D, BatchNormalization\n",
    "from tensorflow.keras.models import Model\n",
    "\n",
    "def cnn_forfruits():\n",
    "    i = Input(shape=(32,32,3))\n",
    "    x = Conv2D(32, (3, 3), activation='relu', padding='same')(i)\n",
    "    x = BatchNormalization()(x)\n",
    "    x = MaxPooling2D((2, 2))(x)\n",
    "    x = Dropout(0.2)(x)\n",
    "    x = Conv2D(64, (3, 3), activation='relu', padding='same')(x)\n",
    "    x = BatchNormalization()(x)\n",
    "    x = MaxPooling2D((2, 2))(x)\n",
    "    x = Dropout(0.2)(x)\n",
    "    x = Conv2D(128, (3, 3), activation='relu', padding='same')(x)\n",
    "    x = BatchNormalization()(x)\n",
    "    x = MaxPooling2D((2, 2))(x)\n",
    "    x = Dropout(0.2)(x)\n",
    "    x = GlobalMaxPooling2D()(x)\n",
    "    x = Flatten()(x)\n",
    "    x = Dropout(0.2)(x)\n",
    "    x = Dense(512, activation='relu')(x)\n",
    "    x = Dropout(0.2)(x)\n",
    "    x = Dense(7, activation='softmax')(x)\n",
    "    return Model(i, x)\n",
    "\n",
    "model = cnn_forfruits()"
   ]
  },
  {
   "cell_type": "code",
   "execution_count": 14,
   "id": "9b851fce",
   "metadata": {},
   "outputs": [],
   "source": [
    "# first attempts\n",
    "\n",
    "model.compile(\n",
    "  optimizer='RMSprop',\n",
    "  loss='sparse_categorical_crossentropy',\n",
    "  metrics=['accuracy'])"
   ]
  },
  {
   "cell_type": "code",
   "execution_count": 17,
   "id": "1617e3b8",
   "metadata": {},
   "outputs": [
    {
     "name": "stdout",
     "output_type": "stream",
     "text": [
      "104\n"
     ]
    }
   ],
   "source": [
    "step_size = num_train//BS\n",
    "print(step_size)"
   ]
  },
  {
   "cell_type": "code",
   "execution_count": 18,
   "id": "ae14d06e",
   "metadata": {},
   "outputs": [
    {
     "data": {
      "text/plain": [
       "<tf.Tensor: shape=(), dtype=int64, numpy=-1>"
      ]
     },
     "execution_count": 18,
     "metadata": {},
     "output_type": "execute_result"
    }
   ],
   "source": [
    "tf.data.experimental.cardinality(dataset)"
   ]
  },
  {
   "cell_type": "code",
   "execution_count": 19,
   "id": "433fd43a",
   "metadata": {},
   "outputs": [
    {
     "name": "stdout",
     "output_type": "stream",
     "text": [
      "Epoch 1/100\n"
     ]
    },
    {
     "name": "stderr",
     "output_type": "stream",
     "text": [
      "2022-10-28 09:13:01.609172: W tensorflow/core/platform/profile_utils/cpu_utils.cc:128] Failed to get CPU frequency: 0 Hz\n",
      "2022-10-28 09:13:01.865856: I tensorflow/core/grappler/optimizers/custom_graph_optimizer_registry.cc:114] Plugin optimizer for device_type GPU is enabled.\n"
     ]
    },
    {
     "name": "stdout",
     "output_type": "stream",
     "text": [
      "104/104 [==============================] - 6s 35ms/step - loss: 2.1687 - accuracy: 0.4970\n",
      "Epoch 2/100\n",
      "104/104 [==============================] - 2s 15ms/step - loss: 1.8271 - accuracy: 0.3691\n",
      "Epoch 3/100\n",
      "104/104 [==============================] - 2s 15ms/step - loss: 1.9926 - accuracy: 0.2351\n",
      "Epoch 4/100\n",
      "104/104 [==============================] - 2s 16ms/step - loss: 1.8268 - accuracy: 0.2927\n",
      "Epoch 5/100\n",
      "104/104 [==============================] - 2s 15ms/step - loss: 1.7977 - accuracy: 0.3166\n",
      "Epoch 6/100\n",
      "104/104 [==============================] - 2s 15ms/step - loss: 1.8676 - accuracy: 0.3359\n",
      "Epoch 7/100\n",
      "104/104 [==============================] - 2s 15ms/step - loss: 1.8980 - accuracy: 0.2853\n",
      "Epoch 8/100\n",
      "104/104 [==============================] - 2s 15ms/step - loss: 1.8126 - accuracy: 0.3005\n",
      "Epoch 9/100\n",
      "104/104 [==============================] - 2s 15ms/step - loss: 1.8661 - accuracy: 0.2721\n",
      "Epoch 10/100\n",
      "104/104 [==============================] - 2s 15ms/step - loss: 1.7868 - accuracy: 0.3253\n",
      "Epoch 11/100\n",
      "104/104 [==============================] - 2s 15ms/step - loss: 1.7768 - accuracy: 0.3546\n",
      "Epoch 12/100\n",
      "104/104 [==============================] - 2s 16ms/step - loss: 1.8514 - accuracy: 0.3275\n",
      "Epoch 13/100\n",
      "104/104 [==============================] - 2s 15ms/step - loss: 1.7210 - accuracy: 0.3699\n",
      "Epoch 14/100\n",
      "104/104 [==============================] - 2s 16ms/step - loss: 1.8659 - accuracy: 0.3561\n",
      "Epoch 15/100\n",
      "104/104 [==============================] - 2s 15ms/step - loss: 1.8500 - accuracy: 0.3457\n",
      "Epoch 16/100\n",
      "104/104 [==============================] - 2s 15ms/step - loss: 1.7808 - accuracy: 0.3543\n",
      "Epoch 17/100\n",
      "104/104 [==============================] - 2s 16ms/step - loss: 1.8140 - accuracy: 0.3110\n",
      "Epoch 18/100\n",
      "104/104 [==============================] - 2s 16ms/step - loss: 1.6914 - accuracy: 0.3800\n",
      "Epoch 19/100\n",
      "104/104 [==============================] - 2s 16ms/step - loss: 1.8231 - accuracy: 0.3152\n",
      "Epoch 20/100\n",
      "104/104 [==============================] - 2s 16ms/step - loss: 1.7637 - accuracy: 0.2891\n",
      "Epoch 21/100\n",
      "104/104 [==============================] - 2s 16ms/step - loss: 1.7398 - accuracy: 0.3209\n",
      "Epoch 22/100\n",
      "104/104 [==============================] - 2s 16ms/step - loss: 1.8068 - accuracy: 0.3586\n",
      "Epoch 23/100\n",
      "104/104 [==============================] - 2s 16ms/step - loss: 1.8165 - accuracy: 0.3664\n",
      "Epoch 24/100\n",
      " 32/104 [========>.....................] - ETA: 1s - loss: 1.9232 - accuracy: 0.2017"
     ]
    },
    {
     "ename": "KeyboardInterrupt",
     "evalue": "",
     "output_type": "error",
     "traceback": [
      "\u001b[0;31m---------------------------------------------------------------------------\u001b[0m",
      "\u001b[0;31mKeyboardInterrupt\u001b[0m                         Traceback (most recent call last)",
      "Cell \u001b[0;32mIn [19], line 1\u001b[0m\n\u001b[0;32m----> 1\u001b[0m \u001b[43mmodel\u001b[49m\u001b[38;5;241;43m.\u001b[39;49m\u001b[43mfit\u001b[49m\u001b[43m(\u001b[49m\n\u001b[1;32m      2\u001b[0m \u001b[43m    \u001b[49m\u001b[43mdataset\u001b[49m\u001b[43m,\u001b[49m\n\u001b[1;32m      3\u001b[0m \u001b[43m    \u001b[49m\u001b[43mbatch_size\u001b[49m\u001b[43m \u001b[49m\u001b[38;5;241;43m=\u001b[39;49m\u001b[43m \u001b[49m\u001b[38;5;241;43m32\u001b[39;49m\u001b[43m,\u001b[49m\n\u001b[1;32m      4\u001b[0m \u001b[43m    \u001b[49m\u001b[43mepochs\u001b[49m\u001b[38;5;241;43m=\u001b[39;49m\u001b[38;5;241;43m100\u001b[39;49m\u001b[43m,\u001b[49m\n\u001b[1;32m      5\u001b[0m \u001b[43m    \u001b[49m\u001b[43msteps_per_epoch\u001b[49m\u001b[38;5;241;43m=\u001b[39;49m\u001b[43mstep_size\u001b[49m\n\u001b[1;32m      6\u001b[0m \u001b[43m)\u001b[49m\n",
      "File \u001b[0;32m~/miniforge3/envs/tf2022/lib/python3.10/site-packages/keras/utils/traceback_utils.py:65\u001b[0m, in \u001b[0;36mfilter_traceback.<locals>.error_handler\u001b[0;34m(*args, **kwargs)\u001b[0m\n\u001b[1;32m     63\u001b[0m filtered_tb \u001b[38;5;241m=\u001b[39m \u001b[38;5;28;01mNone\u001b[39;00m\n\u001b[1;32m     64\u001b[0m \u001b[38;5;28;01mtry\u001b[39;00m:\n\u001b[0;32m---> 65\u001b[0m     \u001b[38;5;28;01mreturn\u001b[39;00m \u001b[43mfn\u001b[49m\u001b[43m(\u001b[49m\u001b[38;5;241;43m*\u001b[39;49m\u001b[43margs\u001b[49m\u001b[43m,\u001b[49m\u001b[43m \u001b[49m\u001b[38;5;241;43m*\u001b[39;49m\u001b[38;5;241;43m*\u001b[39;49m\u001b[43mkwargs\u001b[49m\u001b[43m)\u001b[49m\n\u001b[1;32m     66\u001b[0m \u001b[38;5;28;01mexcept\u001b[39;00m \u001b[38;5;167;01mException\u001b[39;00m \u001b[38;5;28;01mas\u001b[39;00m e:\n\u001b[1;32m     67\u001b[0m     filtered_tb \u001b[38;5;241m=\u001b[39m _process_traceback_frames(e\u001b[38;5;241m.\u001b[39m__traceback__)\n",
      "File \u001b[0;32m~/miniforge3/envs/tf2022/lib/python3.10/site-packages/keras/engine/training.py:1570\u001b[0m, in \u001b[0;36mModel.fit\u001b[0;34m(self, x, y, batch_size, epochs, verbose, callbacks, validation_split, validation_data, shuffle, class_weight, sample_weight, initial_epoch, steps_per_epoch, validation_steps, validation_batch_size, validation_freq, max_queue_size, workers, use_multiprocessing)\u001b[0m\n\u001b[1;32m   1568\u001b[0m logs \u001b[38;5;241m=\u001b[39m tmp_logs\n\u001b[1;32m   1569\u001b[0m end_step \u001b[38;5;241m=\u001b[39m step \u001b[38;5;241m+\u001b[39m data_handler\u001b[38;5;241m.\u001b[39mstep_increment\n\u001b[0;32m-> 1570\u001b[0m \u001b[43mcallbacks\u001b[49m\u001b[38;5;241;43m.\u001b[39;49m\u001b[43mon_train_batch_end\u001b[49m\u001b[43m(\u001b[49m\u001b[43mend_step\u001b[49m\u001b[43m,\u001b[49m\u001b[43m \u001b[49m\u001b[43mlogs\u001b[49m\u001b[43m)\u001b[49m\n\u001b[1;32m   1571\u001b[0m \u001b[38;5;28;01mif\u001b[39;00m \u001b[38;5;28mself\u001b[39m\u001b[38;5;241m.\u001b[39mstop_training:\n\u001b[1;32m   1572\u001b[0m     \u001b[38;5;28;01mbreak\u001b[39;00m\n",
      "File \u001b[0;32m~/miniforge3/envs/tf2022/lib/python3.10/site-packages/keras/callbacks.py:470\u001b[0m, in \u001b[0;36mCallbackList.on_train_batch_end\u001b[0;34m(self, batch, logs)\u001b[0m\n\u001b[1;32m    463\u001b[0m \u001b[38;5;124;03m\"\"\"Calls the `on_train_batch_end` methods of its callbacks.\u001b[39;00m\n\u001b[1;32m    464\u001b[0m \n\u001b[1;32m    465\u001b[0m \u001b[38;5;124;03mArgs:\u001b[39;00m\n\u001b[1;32m    466\u001b[0m \u001b[38;5;124;03m    batch: Integer, index of batch within the current epoch.\u001b[39;00m\n\u001b[1;32m    467\u001b[0m \u001b[38;5;124;03m    logs: Dict. Aggregated metric results up until this batch.\u001b[39;00m\n\u001b[1;32m    468\u001b[0m \u001b[38;5;124;03m\"\"\"\u001b[39;00m\n\u001b[1;32m    469\u001b[0m \u001b[38;5;28;01mif\u001b[39;00m \u001b[38;5;28mself\u001b[39m\u001b[38;5;241m.\u001b[39m_should_call_train_batch_hooks:\n\u001b[0;32m--> 470\u001b[0m     \u001b[38;5;28;43mself\u001b[39;49m\u001b[38;5;241;43m.\u001b[39;49m\u001b[43m_call_batch_hook\u001b[49m\u001b[43m(\u001b[49m\u001b[43mModeKeys\u001b[49m\u001b[38;5;241;43m.\u001b[39;49m\u001b[43mTRAIN\u001b[49m\u001b[43m,\u001b[49m\u001b[43m \u001b[49m\u001b[38;5;124;43m\"\u001b[39;49m\u001b[38;5;124;43mend\u001b[39;49m\u001b[38;5;124;43m\"\u001b[39;49m\u001b[43m,\u001b[49m\u001b[43m \u001b[49m\u001b[43mbatch\u001b[49m\u001b[43m,\u001b[49m\u001b[43m \u001b[49m\u001b[43mlogs\u001b[49m\u001b[38;5;241;43m=\u001b[39;49m\u001b[43mlogs\u001b[49m\u001b[43m)\u001b[49m\n",
      "File \u001b[0;32m~/miniforge3/envs/tf2022/lib/python3.10/site-packages/keras/callbacks.py:317\u001b[0m, in \u001b[0;36mCallbackList._call_batch_hook\u001b[0;34m(self, mode, hook, batch, logs)\u001b[0m\n\u001b[1;32m    315\u001b[0m     \u001b[38;5;28mself\u001b[39m\u001b[38;5;241m.\u001b[39m_call_batch_begin_hook(mode, batch, logs)\n\u001b[1;32m    316\u001b[0m \u001b[38;5;28;01melif\u001b[39;00m hook \u001b[38;5;241m==\u001b[39m \u001b[38;5;124m\"\u001b[39m\u001b[38;5;124mend\u001b[39m\u001b[38;5;124m\"\u001b[39m:\n\u001b[0;32m--> 317\u001b[0m     \u001b[38;5;28;43mself\u001b[39;49m\u001b[38;5;241;43m.\u001b[39;49m\u001b[43m_call_batch_end_hook\u001b[49m\u001b[43m(\u001b[49m\u001b[43mmode\u001b[49m\u001b[43m,\u001b[49m\u001b[43m \u001b[49m\u001b[43mbatch\u001b[49m\u001b[43m,\u001b[49m\u001b[43m \u001b[49m\u001b[43mlogs\u001b[49m\u001b[43m)\u001b[49m\n\u001b[1;32m    318\u001b[0m \u001b[38;5;28;01melse\u001b[39;00m:\n\u001b[1;32m    319\u001b[0m     \u001b[38;5;28;01mraise\u001b[39;00m \u001b[38;5;167;01mValueError\u001b[39;00m(\n\u001b[1;32m    320\u001b[0m         \u001b[38;5;124mf\u001b[39m\u001b[38;5;124m\"\u001b[39m\u001b[38;5;124mUnrecognized hook: \u001b[39m\u001b[38;5;132;01m{\u001b[39;00mhook\u001b[38;5;132;01m}\u001b[39;00m\u001b[38;5;124m. \u001b[39m\u001b[38;5;124m\"\u001b[39m\n\u001b[1;32m    321\u001b[0m         \u001b[38;5;124m'\u001b[39m\u001b[38;5;124mExpected values are [\u001b[39m\u001b[38;5;124m\"\u001b[39m\u001b[38;5;124mbegin\u001b[39m\u001b[38;5;124m\"\u001b[39m\u001b[38;5;124m, \u001b[39m\u001b[38;5;124m\"\u001b[39m\u001b[38;5;124mend\u001b[39m\u001b[38;5;124m\"\u001b[39m\u001b[38;5;124m]\u001b[39m\u001b[38;5;124m'\u001b[39m\n\u001b[1;32m    322\u001b[0m     )\n",
      "File \u001b[0;32m~/miniforge3/envs/tf2022/lib/python3.10/site-packages/keras/callbacks.py:340\u001b[0m, in \u001b[0;36mCallbackList._call_batch_end_hook\u001b[0;34m(self, mode, batch, logs)\u001b[0m\n\u001b[1;32m    337\u001b[0m     batch_time \u001b[38;5;241m=\u001b[39m time\u001b[38;5;241m.\u001b[39mtime() \u001b[38;5;241m-\u001b[39m \u001b[38;5;28mself\u001b[39m\u001b[38;5;241m.\u001b[39m_batch_start_time\n\u001b[1;32m    338\u001b[0m     \u001b[38;5;28mself\u001b[39m\u001b[38;5;241m.\u001b[39m_batch_times\u001b[38;5;241m.\u001b[39mappend(batch_time)\n\u001b[0;32m--> 340\u001b[0m \u001b[38;5;28;43mself\u001b[39;49m\u001b[38;5;241;43m.\u001b[39;49m\u001b[43m_call_batch_hook_helper\u001b[49m\u001b[43m(\u001b[49m\u001b[43mhook_name\u001b[49m\u001b[43m,\u001b[49m\u001b[43m \u001b[49m\u001b[43mbatch\u001b[49m\u001b[43m,\u001b[49m\u001b[43m \u001b[49m\u001b[43mlogs\u001b[49m\u001b[43m)\u001b[49m\n\u001b[1;32m    342\u001b[0m \u001b[38;5;28;01mif\u001b[39;00m \u001b[38;5;28mlen\u001b[39m(\u001b[38;5;28mself\u001b[39m\u001b[38;5;241m.\u001b[39m_batch_times) \u001b[38;5;241m>\u001b[39m\u001b[38;5;241m=\u001b[39m \u001b[38;5;28mself\u001b[39m\u001b[38;5;241m.\u001b[39m_num_batches_for_timing_check:\n\u001b[1;32m    343\u001b[0m     end_hook_name \u001b[38;5;241m=\u001b[39m hook_name\n",
      "File \u001b[0;32m~/miniforge3/envs/tf2022/lib/python3.10/site-packages/keras/callbacks.py:388\u001b[0m, in \u001b[0;36mCallbackList._call_batch_hook_helper\u001b[0;34m(self, hook_name, batch, logs)\u001b[0m\n\u001b[1;32m    386\u001b[0m \u001b[38;5;28;01mfor\u001b[39;00m callback \u001b[38;5;129;01min\u001b[39;00m \u001b[38;5;28mself\u001b[39m\u001b[38;5;241m.\u001b[39mcallbacks:\n\u001b[1;32m    387\u001b[0m     hook \u001b[38;5;241m=\u001b[39m \u001b[38;5;28mgetattr\u001b[39m(callback, hook_name)\n\u001b[0;32m--> 388\u001b[0m     \u001b[43mhook\u001b[49m\u001b[43m(\u001b[49m\u001b[43mbatch\u001b[49m\u001b[43m,\u001b[49m\u001b[43m \u001b[49m\u001b[43mlogs\u001b[49m\u001b[43m)\u001b[49m\n\u001b[1;32m    390\u001b[0m \u001b[38;5;28;01mif\u001b[39;00m \u001b[38;5;28mself\u001b[39m\u001b[38;5;241m.\u001b[39m_check_timing:\n\u001b[1;32m    391\u001b[0m     \u001b[38;5;28;01mif\u001b[39;00m hook_name \u001b[38;5;129;01mnot\u001b[39;00m \u001b[38;5;129;01min\u001b[39;00m \u001b[38;5;28mself\u001b[39m\u001b[38;5;241m.\u001b[39m_hook_times:\n",
      "File \u001b[0;32m~/miniforge3/envs/tf2022/lib/python3.10/site-packages/keras/callbacks.py:1081\u001b[0m, in \u001b[0;36mProgbarLogger.on_train_batch_end\u001b[0;34m(self, batch, logs)\u001b[0m\n\u001b[1;32m   1080\u001b[0m \u001b[38;5;28;01mdef\u001b[39;00m \u001b[38;5;21mon_train_batch_end\u001b[39m(\u001b[38;5;28mself\u001b[39m, batch, logs\u001b[38;5;241m=\u001b[39m\u001b[38;5;28;01mNone\u001b[39;00m):\n\u001b[0;32m-> 1081\u001b[0m     \u001b[38;5;28;43mself\u001b[39;49m\u001b[38;5;241;43m.\u001b[39;49m\u001b[43m_batch_update_progbar\u001b[49m\u001b[43m(\u001b[49m\u001b[43mbatch\u001b[49m\u001b[43m,\u001b[49m\u001b[43m \u001b[49m\u001b[43mlogs\u001b[49m\u001b[43m)\u001b[49m\n",
      "File \u001b[0;32m~/miniforge3/envs/tf2022/lib/python3.10/site-packages/keras/callbacks.py:1157\u001b[0m, in \u001b[0;36mProgbarLogger._batch_update_progbar\u001b[0;34m(self, batch, logs)\u001b[0m\n\u001b[1;32m   1153\u001b[0m     \u001b[38;5;28mself\u001b[39m\u001b[38;5;241m.\u001b[39mseen \u001b[38;5;241m+\u001b[39m\u001b[38;5;241m=\u001b[39m add_seen\n\u001b[1;32m   1155\u001b[0m \u001b[38;5;28;01mif\u001b[39;00m \u001b[38;5;28mself\u001b[39m\u001b[38;5;241m.\u001b[39mverbose \u001b[38;5;241m==\u001b[39m \u001b[38;5;241m1\u001b[39m:\n\u001b[1;32m   1156\u001b[0m     \u001b[38;5;66;03m# Only block async when verbose = 1.\u001b[39;00m\n\u001b[0;32m-> 1157\u001b[0m     logs \u001b[38;5;241m=\u001b[39m \u001b[43mtf_utils\u001b[49m\u001b[38;5;241;43m.\u001b[39;49m\u001b[43msync_to_numpy_or_python_type\u001b[49m\u001b[43m(\u001b[49m\u001b[43mlogs\u001b[49m\u001b[43m)\u001b[49m\n\u001b[1;32m   1158\u001b[0m     \u001b[38;5;28mself\u001b[39m\u001b[38;5;241m.\u001b[39mprogbar\u001b[38;5;241m.\u001b[39mupdate(\u001b[38;5;28mself\u001b[39m\u001b[38;5;241m.\u001b[39mseen, \u001b[38;5;28mlist\u001b[39m(logs\u001b[38;5;241m.\u001b[39mitems()), finalize\u001b[38;5;241m=\u001b[39m\u001b[38;5;28;01mFalse\u001b[39;00m)\n",
      "File \u001b[0;32m~/miniforge3/envs/tf2022/lib/python3.10/site-packages/keras/utils/tf_utils.py:635\u001b[0m, in \u001b[0;36msync_to_numpy_or_python_type\u001b[0;34m(tensors)\u001b[0m\n\u001b[1;32m    632\u001b[0m         \u001b[38;5;28;01mreturn\u001b[39;00m t\n\u001b[1;32m    633\u001b[0m     \u001b[38;5;28;01mreturn\u001b[39;00m t\u001b[38;5;241m.\u001b[39mitem() \u001b[38;5;28;01mif\u001b[39;00m np\u001b[38;5;241m.\u001b[39mndim(t) \u001b[38;5;241m==\u001b[39m \u001b[38;5;241m0\u001b[39m \u001b[38;5;28;01melse\u001b[39;00m t\n\u001b[0;32m--> 635\u001b[0m \u001b[38;5;28;01mreturn\u001b[39;00m \u001b[43mtf\u001b[49m\u001b[38;5;241;43m.\u001b[39;49m\u001b[43mnest\u001b[49m\u001b[38;5;241;43m.\u001b[39;49m\u001b[43mmap_structure\u001b[49m\u001b[43m(\u001b[49m\u001b[43m_to_single_numpy_or_python_type\u001b[49m\u001b[43m,\u001b[49m\u001b[43m \u001b[49m\u001b[43mtensors\u001b[49m\u001b[43m)\u001b[49m\n",
      "File \u001b[0;32m~/miniforge3/envs/tf2022/lib/python3.10/site-packages/tensorflow/python/util/nest.py:917\u001b[0m, in \u001b[0;36mmap_structure\u001b[0;34m(func, *structure, **kwargs)\u001b[0m\n\u001b[1;32m    913\u001b[0m flat_structure \u001b[38;5;241m=\u001b[39m (flatten(s, expand_composites) \u001b[38;5;28;01mfor\u001b[39;00m s \u001b[38;5;129;01min\u001b[39;00m structure)\n\u001b[1;32m    914\u001b[0m entries \u001b[38;5;241m=\u001b[39m \u001b[38;5;28mzip\u001b[39m(\u001b[38;5;241m*\u001b[39mflat_structure)\n\u001b[1;32m    916\u001b[0m \u001b[38;5;28;01mreturn\u001b[39;00m pack_sequence_as(\n\u001b[0;32m--> 917\u001b[0m     structure[\u001b[38;5;241m0\u001b[39m], [func(\u001b[38;5;241m*\u001b[39mx) \u001b[38;5;28;01mfor\u001b[39;00m x \u001b[38;5;129;01min\u001b[39;00m entries],\n\u001b[1;32m    918\u001b[0m     expand_composites\u001b[38;5;241m=\u001b[39mexpand_composites)\n",
      "File \u001b[0;32m~/miniforge3/envs/tf2022/lib/python3.10/site-packages/tensorflow/python/util/nest.py:917\u001b[0m, in \u001b[0;36m<listcomp>\u001b[0;34m(.0)\u001b[0m\n\u001b[1;32m    913\u001b[0m flat_structure \u001b[38;5;241m=\u001b[39m (flatten(s, expand_composites) \u001b[38;5;28;01mfor\u001b[39;00m s \u001b[38;5;129;01min\u001b[39;00m structure)\n\u001b[1;32m    914\u001b[0m entries \u001b[38;5;241m=\u001b[39m \u001b[38;5;28mzip\u001b[39m(\u001b[38;5;241m*\u001b[39mflat_structure)\n\u001b[1;32m    916\u001b[0m \u001b[38;5;28;01mreturn\u001b[39;00m pack_sequence_as(\n\u001b[0;32m--> 917\u001b[0m     structure[\u001b[38;5;241m0\u001b[39m], [\u001b[43mfunc\u001b[49m\u001b[43m(\u001b[49m\u001b[38;5;241;43m*\u001b[39;49m\u001b[43mx\u001b[49m\u001b[43m)\u001b[49m \u001b[38;5;28;01mfor\u001b[39;00m x \u001b[38;5;129;01min\u001b[39;00m entries],\n\u001b[1;32m    918\u001b[0m     expand_composites\u001b[38;5;241m=\u001b[39mexpand_composites)\n",
      "File \u001b[0;32m~/miniforge3/envs/tf2022/lib/python3.10/site-packages/keras/utils/tf_utils.py:628\u001b[0m, in \u001b[0;36msync_to_numpy_or_python_type.<locals>._to_single_numpy_or_python_type\u001b[0;34m(t)\u001b[0m\n\u001b[1;32m    625\u001b[0m \u001b[38;5;28;01mdef\u001b[39;00m \u001b[38;5;21m_to_single_numpy_or_python_type\u001b[39m(t):\n\u001b[1;32m    626\u001b[0m     \u001b[38;5;66;03m# Don't turn ragged or sparse tensors to NumPy.\u001b[39;00m\n\u001b[1;32m    627\u001b[0m     \u001b[38;5;28;01mif\u001b[39;00m \u001b[38;5;28misinstance\u001b[39m(t, tf\u001b[38;5;241m.\u001b[39mTensor):\n\u001b[0;32m--> 628\u001b[0m         t \u001b[38;5;241m=\u001b[39m \u001b[43mt\u001b[49m\u001b[38;5;241;43m.\u001b[39;49m\u001b[43mnumpy\u001b[49m\u001b[43m(\u001b[49m\u001b[43m)\u001b[49m\n\u001b[1;32m    629\u001b[0m     \u001b[38;5;66;03m# Strings, ragged and sparse tensors don't have .item(). Return them\u001b[39;00m\n\u001b[1;32m    630\u001b[0m     \u001b[38;5;66;03m# as-is.\u001b[39;00m\n\u001b[1;32m    631\u001b[0m     \u001b[38;5;28;01mif\u001b[39;00m \u001b[38;5;129;01mnot\u001b[39;00m \u001b[38;5;28misinstance\u001b[39m(t, (np\u001b[38;5;241m.\u001b[39mndarray, np\u001b[38;5;241m.\u001b[39mgeneric)):\n",
      "File \u001b[0;32m~/miniforge3/envs/tf2022/lib/python3.10/site-packages/tensorflow/python/framework/ops.py:1157\u001b[0m, in \u001b[0;36m_EagerTensorBase.numpy\u001b[0;34m(self)\u001b[0m\n\u001b[1;32m   1134\u001b[0m \u001b[38;5;124;03m\"\"\"Copy of the contents of this Tensor into a NumPy array or scalar.\u001b[39;00m\n\u001b[1;32m   1135\u001b[0m \n\u001b[1;32m   1136\u001b[0m \u001b[38;5;124;03mUnlike NumPy arrays, Tensors are immutable, so this method has to copy\u001b[39;00m\n\u001b[0;32m   (...)\u001b[0m\n\u001b[1;32m   1154\u001b[0m \u001b[38;5;124;03m    NumPy dtype.\u001b[39;00m\n\u001b[1;32m   1155\u001b[0m \u001b[38;5;124;03m\"\"\"\u001b[39;00m\n\u001b[1;32m   1156\u001b[0m \u001b[38;5;66;03m# TODO(slebedev): Consider avoiding a copy for non-CPU or remote tensors.\u001b[39;00m\n\u001b[0;32m-> 1157\u001b[0m maybe_arr \u001b[38;5;241m=\u001b[39m \u001b[38;5;28;43mself\u001b[39;49m\u001b[38;5;241;43m.\u001b[39;49m\u001b[43m_numpy\u001b[49m\u001b[43m(\u001b[49m\u001b[43m)\u001b[49m  \u001b[38;5;66;03m# pylint: disable=protected-access\u001b[39;00m\n\u001b[1;32m   1158\u001b[0m \u001b[38;5;28;01mreturn\u001b[39;00m maybe_arr\u001b[38;5;241m.\u001b[39mcopy() \u001b[38;5;28;01mif\u001b[39;00m \u001b[38;5;28misinstance\u001b[39m(maybe_arr, np\u001b[38;5;241m.\u001b[39mndarray) \u001b[38;5;28;01melse\u001b[39;00m maybe_arr\n",
      "File \u001b[0;32m~/miniforge3/envs/tf2022/lib/python3.10/site-packages/tensorflow/python/framework/ops.py:1123\u001b[0m, in \u001b[0;36m_EagerTensorBase._numpy\u001b[0;34m(self)\u001b[0m\n\u001b[1;32m   1121\u001b[0m \u001b[38;5;28;01mdef\u001b[39;00m \u001b[38;5;21m_numpy\u001b[39m(\u001b[38;5;28mself\u001b[39m):\n\u001b[1;32m   1122\u001b[0m   \u001b[38;5;28;01mtry\u001b[39;00m:\n\u001b[0;32m-> 1123\u001b[0m     \u001b[38;5;28;01mreturn\u001b[39;00m \u001b[38;5;28;43mself\u001b[39;49m\u001b[38;5;241;43m.\u001b[39;49m\u001b[43m_numpy_internal\u001b[49m\u001b[43m(\u001b[49m\u001b[43m)\u001b[49m\n\u001b[1;32m   1124\u001b[0m   \u001b[38;5;28;01mexcept\u001b[39;00m core\u001b[38;5;241m.\u001b[39m_NotOkStatusException \u001b[38;5;28;01mas\u001b[39;00m e:  \u001b[38;5;66;03m# pylint: disable=protected-access\u001b[39;00m\n\u001b[1;32m   1125\u001b[0m     \u001b[38;5;28;01mraise\u001b[39;00m core\u001b[38;5;241m.\u001b[39m_status_to_exception(e) \u001b[38;5;28;01mfrom\u001b[39;00m \u001b[38;5;28mNone\u001b[39m\n",
      "\u001b[0;31mKeyboardInterrupt\u001b[0m: "
     ]
    }
   ],
   "source": [
    "model.fit(\n",
    "    dataset,\n",
    "    batch_size = 32,\n",
    "    epochs=100,\n",
    "    steps_per_epoch=step_size\n",
    ")"
   ]
  },
  {
   "cell_type": "code",
   "execution_count": 13,
   "id": "8492c6be",
   "metadata": {},
   "outputs": [],
   "source": [
    "# from: https://towardsdatascience.com/how-to-split-a-tensorflow-dataset-into-train-validation-and-test-sets-526c8dd29438\n",
    "\n",
    "def get_dataset_partitions_tf(ds, ds_size, train_split=0.8, val_split=0.1, test_split=0.1, shuffle=True, shuffle_size=10000):\n",
    "    assert (train_split + test_split + val_split) == 1\n",
    "    \n",
    "    if shuffle:\n",
    "        # Specify seed to always have the same split distribution between runs\n",
    "        ds = ds.shuffle(shuffle_size, seed=12)\n",
    "    \n",
    "    train_size = int(train_split * ds_size)\n",
    "    val_size = int(val_split * ds_size)\n",
    "    \n",
    "    train_ds = ds.take(train_size)    \n",
    "    val_ds = ds.skip(train_size).take(val_size)\n",
    "    test_ds = ds.skip(train_size).skip(val_size)\n",
    "    \n",
    "    return train_ds, val_ds, test_ds\n",
    "\n",
    "(trainset, valset, testset) = get_dataset_partitions_tf(dataset, num_train)"
   ]
  },
  {
   "cell_type": "code",
   "execution_count": 14,
   "id": "e2a297a0",
   "metadata": {},
   "outputs": [
    {
     "name": "stderr",
     "output_type": "stream",
     "text": [
      "2022-10-26 17:39:51.289032: W tensorflow/core/platform/profile_utils/cpu_utils.cc:128] Failed to get CPU frequency: 0 Hz\n"
     ]
    },
    {
     "name": "stdout",
     "output_type": "stream",
     "text": [
      "5350\n"
     ]
    }
   ],
   "source": [
    "num_train_set = len(list(trainset))\n",
    "print(num_train_set)\n",
    "step_size_train = num_train_set//BS"
   ]
  },
  {
   "cell_type": "code",
   "execution_count": 15,
   "id": "18a8db20",
   "metadata": {},
   "outputs": [],
   "source": [
    "model_2 = cnn_forfruits()\n",
    "model_2.compile(\n",
    "  optimizer='Adam',\n",
    "  loss='sparse_categorical_crossentropy',\n",
    "  metrics=['accuracy'])"
   ]
  },
  {
   "cell_type": "code",
   "execution_count": 16,
   "id": "091859fb",
   "metadata": {},
   "outputs": [
    {
     "name": "stdout",
     "output_type": "stream",
     "text": [
      "Epoch 1/200\n"
     ]
    },
    {
     "name": "stderr",
     "output_type": "stream",
     "text": [
      "2022-10-26 17:40:00.373043: I tensorflow/core/grappler/optimizers/custom_graph_optimizer_registry.cc:114] Plugin optimizer for device_type GPU is enabled.\n"
     ]
    },
    {
     "name": "stdout",
     "output_type": "stream",
     "text": [
      "80/83 [===========================>..] - ETA: 0s - loss: 2.6441 - accuracy: 0.2129"
     ]
    },
    {
     "name": "stderr",
     "output_type": "stream",
     "text": [
      "2022-10-26 17:40:03.171334: I tensorflow/core/grappler/optimizers/custom_graph_optimizer_registry.cc:114] Plugin optimizer for device_type GPU is enabled.\n"
     ]
    },
    {
     "name": "stdout",
     "output_type": "stream",
     "text": [
      "83/83 [==============================] - 15s 165ms/step - loss: 2.6354 - accuracy: 0.2112 - val_loss: 2.1205 - val_accuracy: 0.1506\n",
      "Epoch 2/200\n",
      "83/83 [==============================] - 9s 110ms/step - loss: 1.8567 - accuracy: 0.2982 - val_loss: 2.6713 - val_accuracy: 0.1404\n",
      "Epoch 3/200\n",
      "83/83 [==============================] - 9s 113ms/step - loss: 1.7397 - accuracy: 0.3334 - val_loss: 2.7362 - val_accuracy: 0.2055\n",
      "Epoch 4/200\n",
      "83/83 [==============================] - 9s 111ms/step - loss: 1.5738 - accuracy: 0.4091 - val_loss: 2.4835 - val_accuracy: 0.2367\n",
      "Epoch 5/200\n",
      "83/83 [==============================] - 8s 97ms/step - loss: 1.4993 - accuracy: 0.4509 - val_loss: 2.4571 - val_accuracy: 0.2268\n",
      "Epoch 6/200\n",
      "83/83 [==============================] - 9s 107ms/step - loss: 1.5229 - accuracy: 0.4196 - val_loss: 1.8232 - val_accuracy: 0.3190\n",
      "Epoch 7/200\n",
      "83/83 [==============================] - 8s 103ms/step - loss: 1.4150 - accuracy: 0.4765 - val_loss: 1.4859 - val_accuracy: 0.4431\n",
      "Epoch 8/200\n",
      "83/83 [==============================] - 8s 97ms/step - loss: 1.3073 - accuracy: 0.5164 - val_loss: 1.4178 - val_accuracy: 0.4678\n",
      "Epoch 9/200\n",
      "83/83 [==============================] - 8s 98ms/step - loss: 1.2526 - accuracy: 0.5354 - val_loss: 1.3646 - val_accuracy: 0.4965\n",
      "Epoch 10/200\n",
      "83/83 [==============================] - 9s 109ms/step - loss: 1.1005 - accuracy: 0.5936 - val_loss: 1.2289 - val_accuracy: 0.5418\n",
      "Epoch 11/200\n",
      "83/83 [==============================] - 9s 112ms/step - loss: 1.0786 - accuracy: 0.6018 - val_loss: 1.2638 - val_accuracy: 0.5314\n",
      "Epoch 12/200\n",
      "83/83 [==============================] - 8s 102ms/step - loss: 0.9472 - accuracy: 0.6540 - val_loss: 1.2582 - val_accuracy: 0.5335\n",
      "Epoch 13/200\n",
      "83/83 [==============================] - 9s 112ms/step - loss: 0.8431 - accuracy: 0.6931 - val_loss: 1.2613 - val_accuracy: 0.5365\n",
      "Epoch 14/200\n",
      "83/83 [==============================] - 8s 102ms/step - loss: 0.8921 - accuracy: 0.6864 - val_loss: 1.1670 - val_accuracy: 0.5587\n",
      "Epoch 15/200\n",
      "83/83 [==============================] - 8s 100ms/step - loss: 0.8195 - accuracy: 0.7029 - val_loss: 1.2770 - val_accuracy: 0.5221\n",
      "Epoch 16/200\n",
      "83/83 [==============================] - 9s 108ms/step - loss: 0.7418 - accuracy: 0.7415 - val_loss: 1.0663 - val_accuracy: 0.6107\n",
      "Epoch 17/200\n",
      "83/83 [==============================] - 8s 97ms/step - loss: 0.5884 - accuracy: 0.8001 - val_loss: 1.1084 - val_accuracy: 0.5846\n",
      "Epoch 18/200\n",
      "83/83 [==============================] - 8s 99ms/step - loss: 0.7202 - accuracy: 0.7540 - val_loss: 1.0621 - val_accuracy: 0.6121\n",
      "Epoch 19/200\n",
      "83/83 [==============================] - 9s 112ms/step - loss: 0.7584 - accuracy: 0.7221 - val_loss: 1.0511 - val_accuracy: 0.6217\n",
      "Epoch 20/200\n",
      "83/83 [==============================] - 8s 101ms/step - loss: 0.4966 - accuracy: 0.8240 - val_loss: 1.1658 - val_accuracy: 0.5508\n",
      "Epoch 21/200\n",
      "83/83 [==============================] - 9s 114ms/step - loss: 0.5148 - accuracy: 0.8213 - val_loss: 1.2751 - val_accuracy: 0.5439\n",
      "Epoch 22/200\n",
      "83/83 [==============================] - 8s 100ms/step - loss: 0.4470 - accuracy: 0.8402 - val_loss: 1.0121 - val_accuracy: 0.6263\n",
      "Epoch 23/200\n",
      "83/83 [==============================] - 9s 105ms/step - loss: 0.3798 - accuracy: 0.8663 - val_loss: 1.1420 - val_accuracy: 0.5912\n",
      "Epoch 24/200\n",
      "83/83 [==============================] - 8s 100ms/step - loss: 0.3544 - accuracy: 0.8818 - val_loss: 1.1064 - val_accuracy: 0.6086\n",
      "Epoch 25/200\n",
      "83/83 [==============================] - 9s 111ms/step - loss: 0.2763 - accuracy: 0.9083 - val_loss: 1.1233 - val_accuracy: 0.6041\n",
      "Epoch 26/200\n",
      "83/83 [==============================] - 9s 110ms/step - loss: 0.3377 - accuracy: 0.8840 - val_loss: 1.2451 - val_accuracy: 0.5590\n",
      "Epoch 27/200\n",
      "83/83 [==============================] - 8s 93ms/step - loss: 0.2973 - accuracy: 0.8944 - val_loss: 1.1725 - val_accuracy: 0.6021\n",
      "Epoch 28/200\n",
      "83/83 [==============================] - 9s 108ms/step - loss: 0.3725 - accuracy: 0.8701 - val_loss: 1.0767 - val_accuracy: 0.6199\n",
      "Epoch 29/200\n",
      "83/83 [==============================] - 8s 101ms/step - loss: 0.2693 - accuracy: 0.9015 - val_loss: 1.0838 - val_accuracy: 0.6120\n",
      "Epoch 30/200\n",
      "83/83 [==============================] - 9s 110ms/step - loss: 0.2090 - accuracy: 0.9255 - val_loss: 1.0398 - val_accuracy: 0.6352\n",
      "Epoch 31/200\n",
      "83/83 [==============================] - 8s 97ms/step - loss: 0.2279 - accuracy: 0.9228 - val_loss: 1.0058 - val_accuracy: 0.6430\n",
      "Epoch 32/200\n",
      "83/83 [==============================] - 9s 108ms/step - loss: 0.2408 - accuracy: 0.9159 - val_loss: 1.1326 - val_accuracy: 0.6135\n",
      "Epoch 33/200\n",
      "83/83 [==============================] - 8s 102ms/step - loss: 0.1536 - accuracy: 0.9480 - val_loss: 1.0521 - val_accuracy: 0.6493\n",
      "Epoch 34/200\n",
      "83/83 [==============================] - 9s 111ms/step - loss: 0.1588 - accuracy: 0.9445 - val_loss: 1.1434 - val_accuracy: 0.6025\n",
      "Epoch 35/200\n",
      "83/83 [==============================] - 8s 95ms/step - loss: 0.1360 - accuracy: 0.9559 - val_loss: 1.1144 - val_accuracy: 0.6337\n",
      "Epoch 36/200\n",
      "83/83 [==============================] - 8s 93ms/step - loss: 0.1271 - accuracy: 0.9571 - val_loss: 1.2432 - val_accuracy: 0.6200\n",
      "Epoch 37/200\n",
      "83/83 [==============================] - 9s 111ms/step - loss: 0.1479 - accuracy: 0.9480 - val_loss: 1.1792 - val_accuracy: 0.6371\n",
      "Epoch 38/200\n",
      "83/83 [==============================] - 8s 99ms/step - loss: 0.1482 - accuracy: 0.9505 - val_loss: 1.1670 - val_accuracy: 0.6411\n",
      "Epoch 39/200\n",
      "83/83 [==============================] - 8s 96ms/step - loss: 0.1118 - accuracy: 0.9631 - val_loss: 1.1909 - val_accuracy: 0.6394\n",
      "Epoch 40/200\n",
      "83/83 [==============================] - 8s 100ms/step - loss: 0.0826 - accuracy: 0.9721 - val_loss: 1.1008 - val_accuracy: 0.6558\n",
      "Epoch 41/200\n",
      "83/83 [==============================] - 8s 100ms/step - loss: 0.1213 - accuracy: 0.9633 - val_loss: 1.1623 - val_accuracy: 0.6514\n",
      "Epoch 42/200\n",
      "83/83 [==============================] - 9s 104ms/step - loss: 0.0871 - accuracy: 0.9688 - val_loss: 1.1695 - val_accuracy: 0.6395\n",
      "Epoch 43/200\n",
      "83/83 [==============================] - 9s 111ms/step - loss: 0.0630 - accuracy: 0.9780 - val_loss: 1.1675 - val_accuracy: 0.6575\n",
      "Epoch 44/200\n",
      "83/83 [==============================] - 9s 113ms/step - loss: 0.0599 - accuracy: 0.9787 - val_loss: 1.1961 - val_accuracy: 0.6501\n",
      "Epoch 45/200\n",
      "83/83 [==============================] - 8s 97ms/step - loss: 0.0899 - accuracy: 0.9714 - val_loss: 1.1705 - val_accuracy: 0.6345\n",
      "Epoch 46/200\n",
      "83/83 [==============================] - 8s 96ms/step - loss: 0.2636 - accuracy: 0.9142 - val_loss: 1.3491 - val_accuracy: 0.6069\n",
      "Epoch 47/200\n",
      "83/83 [==============================] - 8s 101ms/step - loss: 0.2549 - accuracy: 0.9149 - val_loss: 1.0985 - val_accuracy: 0.6508\n",
      "Epoch 48/200\n",
      "83/83 [==============================] - 9s 107ms/step - loss: 0.0968 - accuracy: 0.9697 - val_loss: 1.2132 - val_accuracy: 0.6348\n",
      "Epoch 49/200\n",
      "83/83 [==============================] - 8s 103ms/step - loss: 0.0739 - accuracy: 0.9787 - val_loss: 1.1284 - val_accuracy: 0.6560\n",
      "Epoch 50/200\n",
      "83/83 [==============================] - 9s 110ms/step - loss: 0.0717 - accuracy: 0.9763 - val_loss: 1.0817 - val_accuracy: 0.6821\n",
      "Epoch 51/200\n",
      "83/83 [==============================] - 8s 98ms/step - loss: 0.0563 - accuracy: 0.9817 - val_loss: 1.0271 - val_accuracy: 0.6879\n",
      "Epoch 52/200\n",
      "83/83 [==============================] - 8s 101ms/step - loss: 0.0480 - accuracy: 0.9821 - val_loss: 1.2788 - val_accuracy: 0.6421\n",
      "Epoch 53/200\n",
      "83/83 [==============================] - 8s 95ms/step - loss: 0.0438 - accuracy: 0.9846 - val_loss: 1.0532 - val_accuracy: 0.6756\n",
      "Epoch 54/200\n",
      "83/83 [==============================] - 9s 109ms/step - loss: 0.0683 - accuracy: 0.9797 - val_loss: 1.3456 - val_accuracy: 0.6490\n",
      "Epoch 55/200\n",
      "83/83 [==============================] - 8s 96ms/step - loss: 0.0471 - accuracy: 0.9846 - val_loss: 1.3356 - val_accuracy: 0.6276\n",
      "Epoch 56/200\n",
      "83/83 [==============================] - 9s 104ms/step - loss: 0.0330 - accuracy: 0.9910 - val_loss: 1.1982 - val_accuracy: 0.6539\n",
      "Epoch 57/200\n",
      "83/83 [==============================] - 8s 98ms/step - loss: 0.0354 - accuracy: 0.9887 - val_loss: 1.2771 - val_accuracy: 0.6686\n",
      "Epoch 58/200\n",
      "83/83 [==============================] - 8s 93ms/step - loss: 0.0453 - accuracy: 0.9842 - val_loss: 1.5348 - val_accuracy: 0.6237\n",
      "Epoch 59/200\n",
      "83/83 [==============================] - 9s 106ms/step - loss: 0.1361 - accuracy: 0.9561 - val_loss: 1.4582 - val_accuracy: 0.6309\n",
      "Epoch 60/200\n",
      "83/83 [==============================] - 9s 107ms/step - loss: 0.1193 - accuracy: 0.9607 - val_loss: 1.3904 - val_accuracy: 0.6208\n",
      "Epoch 61/200\n",
      "83/83 [==============================] - 9s 110ms/step - loss: 0.0896 - accuracy: 0.9691 - val_loss: 1.2904 - val_accuracy: 0.6580\n",
      "Epoch 62/200\n",
      "83/83 [==============================] - 8s 100ms/step - loss: 0.0982 - accuracy: 0.9691 - val_loss: 1.2700 - val_accuracy: 0.6585\n",
      "Epoch 63/200\n",
      "83/83 [==============================] - 9s 105ms/step - loss: 0.1149 - accuracy: 0.9590 - val_loss: 1.3511 - val_accuracy: 0.6436\n",
      "Epoch 64/200\n",
      "83/83 [==============================] - 9s 111ms/step - loss: 0.1104 - accuracy: 0.9629 - val_loss: 1.2960 - val_accuracy: 0.6434\n",
      "Epoch 65/200\n",
      "38/83 [============>.................] - ETA: 0s - loss: 0.0810 - accuracy: 0.9741WARNING:tensorflow:Your input ran out of data; interrupting training. Make sure that your dataset or generator can generate at least `steps_per_epoch * epochs` batches (in this case, 16600 batches). You may need to use the repeat() function when building your dataset.\n",
      "83/83 [==============================] - 8s 98ms/step - loss: 0.0810 - accuracy: 0.9741 - val_loss: 1.3612 - val_accuracy: 0.6303\n"
     ]
    },
    {
     "data": {
      "text/plain": [
       "<keras.callbacks.History at 0x17ba3d8d0>"
      ]
     },
     "execution_count": 16,
     "metadata": {},
     "output_type": "execute_result"
    }
   ],
   "source": [
    "model_2.fit(\n",
    "    trainset,\n",
    "    validation_data=valset,\n",
    "    batch_size = 32,\n",
    "    epochs=200,\n",
    "    steps_per_epoch=step_size_train\n",
    ")"
   ]
  },
  {
   "cell_type": "markdown",
   "id": "eced9617",
   "metadata": {},
   "source": [
    "## Prédiction avec le modèle"
   ]
  },
  {
   "cell_type": "code",
   "execution_count": 17,
   "id": "6e19bd97",
   "metadata": {},
   "outputs": [],
   "source": [
    "testGen = iter(testset)"
   ]
  },
  {
   "cell_type": "code",
   "execution_count": 18,
   "id": "d338bb27",
   "metadata": {},
   "outputs": [
    {
     "data": {
      "image/png": "[encoded data removed]",
      "text/plain": [
       "<Figure size 640x480 with 1 Axes>"
      ]
     },
     "metadata": {},
     "output_type": "display_data"
    }
   ],
   "source": [
    "import matplotlib.pyplot as plt\n",
    "\n",
    "next_ex = testGen.get_next()\n",
    "im_test1 = next_ex[0][1]\n",
    "plt.imshow(im_test1)\n",
    "plt.show()"
   ]
  },
  {
   "cell_type": "code",
   "execution_count": 19,
   "id": "2c96c1a7",
   "metadata": {},
   "outputs": [
    {
     "name": "stdout",
     "output_type": "stream",
     "text": [
      "2/2 [==============================] - 0s 4ms/step\n"
     ]
    },
    {
     "name": "stderr",
     "output_type": "stream",
     "text": [
      "2022-10-26 17:52:09.771785: I tensorflow/core/grappler/optimizers/custom_graph_optimizer_registry.cc:114] Plugin optimizer for device_type GPU is enabled.\n"
     ]
    }
   ],
   "source": [
    "p = model_2.predict(next_ex[0])"
   ]
  },
  {
   "cell_type": "code",
   "execution_count": 20,
   "id": "20db9d12",
   "metadata": {},
   "outputs": [
    {
     "data": {
      "text/plain": [
       "array([1.7131143e-03, 2.8854184e-04, 7.7329350e-05, 6.9396345e-05,\n",
       "       9.9767154e-01, 1.7934456e-04, 7.1081274e-07], dtype=float32)"
      ]
     },
     "execution_count": 20,
     "metadata": {},
     "output_type": "execute_result"
    }
   ],
   "source": [
    "p[1]"
   ]
  },
  {
   "cell_type": "code",
   "execution_count": 21,
   "id": "4bd22a24",
   "metadata": {},
   "outputs": [
    {
     "data": {
      "text/plain": [
       "['apple', 'strawberry', 'lemon', 'mango', 'broccoli', 'grape', 'orange']"
      ]
     },
     "execution_count": 21,
     "metadata": {},
     "output_type": "execute_result"
    }
   ],
   "source": [
    "classNames"
   ]
  },
  {
   "cell_type": "code",
   "execution_count": 22,
   "id": "ee8272a1",
   "metadata": {},
   "outputs": [
    {
     "data": {
      "text/plain": [
       "<tf.Tensor: shape=(), dtype=int64, numpy=4>"
      ]
     },
     "execution_count": 22,
     "metadata": {},
     "output_type": "execute_result"
    }
   ],
   "source": [
    "next_ex[1][1]"
   ]
  },
  {
   "cell_type": "code",
   "execution_count": null,
   "id": "eded7834",
   "metadata": {},
   "outputs": [],
   "source": []
  }
 ],
 "metadata": {
  "hide_input": false,
  "kernelspec": {
   "display_name": "Python 3 (ipykernel)",
   "language": "python",
   "name": "python3"
  },
  "language_info": {
   "codemirror_mode": {
    "name": "ipython",
    "version": 3
   },
   "file_extension": ".py",
   "mimetype": "text/x-python",
   "name": "python",
   "nbconvert_exporter": "python",
   "pygments_lexer": "ipython3",
   "version": "3.10.6"
  },
  "toc": {
   "base_numbering": 1,
   "nav_menu": {},
   "number_sections": true,
   "sideBar": true,
   "skip_h1_title": false,
   "title_cell": "Table of Contents",
   "title_sidebar": "Contents",
   "toc_cell": false,
   "toc_position": {},
   "toc_section_display": true,
   "toc_window_display": false
  }
 },
 "nbformat": 4,
 "nbformat_minor": 5
}
