{
 "cells": [
  {
   "cell_type": "markdown",
   "metadata": {},
   "source": [
    "# Introduction à la programmation Python\n",
    "\n",
    "Julien Velcin, laboratoire ERIC, Université Lyon 2\n",
    "\n",
    "Formation doctorale de l'UdL (2022-2023)"
   ]
  },
  {
   "cell_type": "markdown",
   "metadata": {},
   "source": [
    "## Première partie : (quelques) fonctionnalités élémentaires de Python"
   ]
  },
  {
   "cell_type": "markdown",
   "metadata": {},
   "source": [
    "Affectez les valeurs 2 et 18.2 aux variables *x* et *y*, puis faites-en le produit"
   ]
  },
  {
   "cell_type": "code",
   "execution_count": 156,
   "metadata": {},
   "outputs": [
    {
     "data": {
      "text/plain": [
       "36.4"
      ]
     },
     "execution_count": 156,
     "metadata": {},
     "output_type": "execute_result"
    }
   ],
   "source": [
    "x = 2\n",
    "y = 18.2\n",
    "x*y"
   ]
  },
  {
   "cell_type": "markdown",
   "metadata": {},
   "source": [
    "Ecrivez une fonction *prod(x,y)* qui, à partir de deux valeurs, retourne leur produit."
   ]
  },
  {
   "cell_type": "code",
   "execution_count": 157,
   "metadata": {
    "slideshow": {
     "slide_type": "-"
    }
   },
   "outputs": [],
   "source": [
    "def prod(x, y):\n",
    "    return x*y"
   ]
  },
  {
   "cell_type": "markdown",
   "metadata": {},
   "source": [
    "Testez votre fonction."
   ]
  },
  {
   "cell_type": "code",
   "execution_count": 158,
   "metadata": {},
   "outputs": [
    {
     "data": {
      "text/plain": [
       "6"
      ]
     },
     "execution_count": 158,
     "metadata": {},
     "output_type": "execute_result"
    }
   ],
   "source": [
    "prod(2,3)"
   ]
  },
  {
   "cell_type": "markdown",
   "metadata": {},
   "source": [
    "Ecrivez une fonction *prod_add(x,y)* qui, à partir de deux valeurs, retourne à la fois leur produit et leur somme dans un *tuple* (càd une liste de deux valeurs) "
   ]
  },
  {
   "cell_type": "code",
   "execution_count": 159,
   "metadata": {},
   "outputs": [],
   "source": [
    "def prod_add(x,y):\n",
    "    s = x+y\n",
    "    p = x*y\n",
    "    return p,s"
   ]
  },
  {
   "cell_type": "markdown",
   "metadata": {},
   "source": [
    "Puis testez-là."
   ]
  },
  {
   "cell_type": "code",
   "execution_count": 160,
   "metadata": {},
   "outputs": [
    {
     "name": "stdout",
     "output_type": "stream",
     "text": [
      "Le produit est 24 et la somme est 14\n"
     ]
    }
   ],
   "source": [
    "produit, somme = prod_add(2,12)\n",
    "print(f\"Le produit est {produit} et la somme est {somme}\")"
   ]
  },
  {
   "cell_type": "markdown",
   "metadata": {},
   "source": [
    "Utilisez votre fonction pour afficher, à l'aide d'une boucle, le résultat pour les couples de valeur x dans {0..10} et y = x+2 (c'est-à-dire : (0,2), (1, 3), etc.). Vous utiliserez la fonction *range*."
   ]
  },
  {
   "cell_type": "code",
   "execution_count": 161,
   "metadata": {},
   "outputs": [
    {
     "name": "stdout",
     "output_type": "stream",
     "text": [
      "(0,2)\n",
      "(1,3)\n",
      "(2,4)\n",
      "(3,5)\n",
      "(4,6)\n",
      "(5,7)\n",
      "(6,8)\n",
      "(7,9)\n",
      "(8,10)\n",
      "(9,11)\n",
      "(10,12)\n"
     ]
    }
   ],
   "source": [
    "for x in range(11):\n",
    "    y = x + 2\n",
    "    #print(f\"({x},{y})\")\n",
    "    #print(\"(\" + str(x) + \",\" + str(y) + \")\")\n",
    "    print(\"({},{})\".format(x,y))"
   ]
  },
  {
   "cell_type": "markdown",
   "metadata": {},
   "source": [
    "Exécutez les mêmes instructions mais, cette fois, enregistrez les tuples résultants à l'intérieur d'une liste que vous appelerez *coll*."
   ]
  },
  {
   "cell_type": "code",
   "execution_count": 162,
   "metadata": {},
   "outputs": [
    {
     "name": "stdout",
     "output_type": "stream",
     "text": [
      "[(0, 2), (1, 3), (2, 4), (3, 5), (4, 6), (5, 7), (6, 8), (7, 9), (8, 10), (9, 11), (10, 12)]\n"
     ]
    }
   ],
   "source": [
    "coll = []\n",
    "for x in range(11):\n",
    "    y = x + 2    \n",
    "    #coll = coll + [(x,y)]\n",
    "    coll.append((x,y))\n",
    "print(coll)"
   ]
  },
  {
   "cell_type": "markdown",
   "metadata": {},
   "source": [
    "Parcourez la collection à l'aide d'une boucle *for* et affichez chaque élément de la manière suivante grâce à la fonction *print* :\n",
    "\n",
    "Pour x=0 et y=2, x+y=2 et x\\*y=0\n",
    "\n",
    "Pour x=1 et y=3, x+y=4 et x\\*y=3\n",
    "\n",
    "..."
   ]
  },
  {
   "cell_type": "code",
   "execution_count": 163,
   "metadata": {},
   "outputs": [],
   "source": [
    "# Solution avec une \"compréhension de liste\" :\n",
    "coll = [(x, x+2) for x in range(11)]"
   ]
  },
  {
   "cell_type": "code",
   "execution_count": 164,
   "metadata": {},
   "outputs": [
    {
     "name": "stdout",
     "output_type": "stream",
     "text": [
      "Pour x=0 et y=2, x+y=2 et x*y=0\n",
      "Pour x=1 et y=3, x+y=4 et x*y=3\n",
      "Pour x=2 et y=4, x+y=6 et x*y=8\n",
      "Pour x=3 et y=5, x+y=8 et x*y=15\n",
      "Pour x=4 et y=6, x+y=10 et x*y=24\n",
      "Pour x=5 et y=7, x+y=12 et x*y=35\n",
      "Pour x=6 et y=8, x+y=14 et x*y=48\n",
      "Pour x=7 et y=9, x+y=16 et x*y=63\n",
      "Pour x=8 et y=10, x+y=18 et x*y=80\n",
      "Pour x=9 et y=11, x+y=20 et x*y=99\n",
      "Pour x=10 et y=12, x+y=22 et x*y=120\n"
     ]
    }
   ],
   "source": [
    "#for e in coll:\n",
    "for x,y in coll:\n",
    "    #(x,y) = e\n",
    "    (p,s) = prod_add(x,y)\n",
    "    print(f\"Pour x={x} et y={y}, x+y={s} et x*y={p}\")"
   ]
  },
  {
   "cell_type": "markdown",
   "metadata": {},
   "source": [
    "Construisez une variable dictionnaire, nommée *dico*, qui utilise la collection *coll* afin d'attribuer la valeur *y* à la clef *x* pour chaque couple *(x,y)* contenu dans la collection. Par exemple, on souhaite obtenir :\n",
    "\n",
    "dico = { 0: 2,\n",
    "  3: 4,\n",
    "  ...\n",
    "}"
   ]
  },
  {
   "cell_type": "code",
   "execution_count": 165,
   "metadata": {},
   "outputs": [],
   "source": [
    "dico = {}\n",
    "for x,y in coll:\n",
    "    dico[x] = y"
   ]
  },
  {
   "cell_type": "markdown",
   "metadata": {
    "slideshow": {
     "slide_type": "-"
    }
   },
   "source": [
    "Affichez le contenu de quelques valeurs du dictionnaire, puis la liste des valeurs (via *values()*) et des clefs (via *keys()*), afin de vérifier que tout s'est bien passé."
   ]
  },
  {
   "cell_type": "code",
   "execution_count": 166,
   "metadata": {},
   "outputs": [
    {
     "name": "stdout",
     "output_type": "stream",
     "text": [
      "Valeur pour la clef 7, ie dico[7] : 9\n",
      "Valeur pour la clef 3, ie dico[3] : 5\n",
      "Liste des valeurs : dict_values([2, 3, 4, 5, 6, 7, 8, 9, 10, 11, 12])\n",
      "Liste des clefs : dict_keys([0, 1, 2, 3, 4, 5, 6, 7, 8, 9, 10])\n"
     ]
    }
   ],
   "source": [
    "print(f\"Valeur pour la clef 7, ie dico[7] : {dico[7]}\")\n",
    "print(f\"Valeur pour la clef 3, ie dico[3] : {dico[3]}\")\n",
    "print(f\"Liste des valeurs : {dico.values()}\")\n",
    "print(f\"Liste des clefs : {dico.keys()}\")"
   ]
  },
  {
   "cell_type": "markdown",
   "metadata": {},
   "source": [
    "## Deuxième partie : lecture d'un fichier de données et premières manipulations avec Pandas"
   ]
  },
  {
   "cell_type": "markdown",
   "metadata": {},
   "source": [
    "Commençons par essayer de charger en mémoire un jeu de données issues du site des données ouvertes par le Grand Lyon sur les randonnées recensées dans la région.\n",
    "\n",
    "Les données se trouve dans un fichier en ligne (ici : https://data.grandlyon.com/jeux-de-donnees/boucles-randonnee-metropole-lyon/donnees) mais vous pouvez aussi les télécharger directement depuis [ce lien](https://velcin.github.io/files/python/datasets/evg_esp_veg.envpdiprboucle.json). L'important est de sauvegarder ce fichier sur votre machine, près de votre notebook."
   ]
  },
  {
   "cell_type": "markdown",
   "metadata": {},
   "source": [
    "Pour charger le jeu de données avec Python, utilisez la fonction *load* de la librairie *json* sur le fichier que vous devez ouvrir en lecture avec la fonction *open*. Enregistrez le résultat dans la variable *d_json*.\n",
    "\n",
    "N'hésitez pas à vous aider du site suivant :\n",
    "\n",
    "https://www.programiz.com/python-programming/json"
   ]
  },
  {
   "cell_type": "code",
   "execution_count": 167,
   "metadata": {},
   "outputs": [],
   "source": [
    "import json\n",
    "\n",
    "# si le fichier se trouve directement à côté du notebook :\n",
    "filename = \"datasets/evg_esp_veg.envpdiprboucle.json\"\n",
    "# si le fichier se trouve dans le répertoire \"datasets“ :\n",
    "#filename = \"datasets/evg_esp_veg.envpdiprboucle.json\"\n",
    "\n",
    "with open(filename, 'r') as f:\n",
    "     d_json = json.load(f)"
   ]
  },
  {
   "cell_type": "markdown",
   "metadata": {},
   "source": [
    "La variable que vous venez de charger est un dictionnaire, vous pouvez le vérifier avec la commande *type*. Observez les clefs (fonction *keys()*) et essayez d'avoir accès aux champs du jeu de données et à la liste des randonnées."
   ]
  },
  {
   "cell_type": "code",
   "execution_count": 168,
   "metadata": {},
   "outputs": [
    {
     "name": "stdout",
     "output_type": "stream",
     "text": [
      "Type de l'objet : <class 'dict'>\n",
      "Voilà les clefs : dict_keys(['fields', 'values', 'nb_results', 'table_href', 'layer_name'])\n"
     ]
    }
   ],
   "source": [
    "print(f\"Type de l'objet : {type(d_json)}\")\n",
    "print(f\"Voilà les clefs : {d_json.keys()}\")"
   ]
  },
  {
   "cell_type": "markdown",
   "metadata": {},
   "source": [
    "Enregistrez la liste des champs dans une variable *var* et les randonnées dans une variable *rando*. Vérifiez le nombre d'enregistrements et essayez d'avoir accès aux valeurs."
   ]
  },
  {
   "cell_type": "code",
   "execution_count": 169,
   "metadata": {},
   "outputs": [
    {
     "data": {
      "text/plain": [
       "{'ydepart': 45.83256712,\n",
       " 'nom': 'Fort de Vancia',\n",
       " 'descriptif': \"Traversez le vallon duRavinet rejoingnez le fort de Vancia. Achevé en 1878, ce fort faisait parti d'une ceintuire de 14 bastions dextinés à protéger Lyon des attaques prussiennes.\",\n",
       " 'depart': 'Sathonay-Village-Le Bourg',\n",
       " 'cheminement_retour': None,\n",
       " 'difficulte': 'moyen',\n",
       " 'cheminement_aller': \"l'Eglise > la Villotière > le Ravin > Paul Chevallier > Parc Brosset > Semailles > Eglise de Vancia > Château Bérard > Fort de Vancia > Fort de Vancia > les Epalloux > la Villotière > l'Eglise > Le Bourg\",\n",
       " 'longueur': '11,4 km',\n",
       " 'temps_parcours': '185 min',\n",
       " 'commune_depart': 'Sathonay-Village',\n",
       " 'code_insee': '69293',\n",
       " 'denivele': '66 m',\n",
       " 'gid': 1,\n",
       " 'vocation': None,\n",
       " 'identifiant': 357,\n",
       " 'xdepart': 4.87895226,\n",
       " 'observation': None}"
      ]
     },
     "execution_count": 169,
     "metadata": {},
     "output_type": "execute_result"
    }
   ],
   "source": [
    "var = d_json[\"fields\"]\n",
    "rando = d_json[\"values\"]\n",
    "rando[0]\n",
    "#rando[0][\"descriptif\"]"
   ]
  },
  {
   "cell_type": "markdown",
   "metadata": {},
   "source": [
    "Quelle est la taille du jeu de données, càd le nombre de lignes ? Quel est le nom de la randonnée de la ligne 10 ?"
   ]
  },
  {
   "cell_type": "code",
   "execution_count": 170,
   "metadata": {},
   "outputs": [
    {
     "name": "stdout",
     "output_type": "stream",
     "text": [
      "La taille du jeu de donénes est 61\n",
      "Le nom de la rando 10 est : Le Bois des Côtes\n"
     ]
    }
   ],
   "source": [
    "print(f\"La taille du jeu de donénes est {len(rando)}\")\n",
    "nom = rando[10][\"nom\"]\n",
    "print(f\"Le nom de la rando 10 est : {nom}\")"
   ]
  },
  {
   "cell_type": "markdown",
   "metadata": {},
   "source": [
    "Pour rendre ces données pleinement utilisables, nous allons convertir le fichier *json* en format tabulaire avec la librairie *pandas*. Il vous suffit de créer un DataFrame à partir de la variable *rando* à l'aide de la fonction *DataFrame.from_dict*"
   ]
  },
  {
   "cell_type": "code",
   "execution_count": 171,
   "metadata": {},
   "outputs": [],
   "source": [
    "import pandas as pd\n",
    "\n",
    "df_rando = pd.DataFrame.from_dict(rando)"
   ]
  },
  {
   "cell_type": "markdown",
   "metadata": {},
   "source": [
    "Vous pouvez vérifier les dimensions de votre tableau à l'aide de l'attribut *shape* de l'object que vous venez de créer."
   ]
  },
  {
   "cell_type": "code",
   "execution_count": 172,
   "metadata": {},
   "outputs": [
    {
     "data": {
      "text/plain": [
       "(61, 17)"
      ]
     },
     "execution_count": 172,
     "metadata": {},
     "output_type": "execute_result"
    }
   ],
   "source": [
    "df_rando.shape"
   ]
  },
  {
   "cell_type": "markdown",
   "metadata": {},
   "source": [
    "*df.head()* et *df.tail()* permettent d'avoir un aperçu (respectivement) du début et la fin de l'objet DataFrame. Essayez ces commandes."
   ]
  },
  {
   "cell_type": "code",
   "execution_count": 173,
   "metadata": {},
   "outputs": [
    {
     "data": {
      "text/html": [
       "<div>\n",
       "<style scoped>\n",
       "    .dataframe tbody tr th:only-of-type {\n",
       "        vertical-align: middle;\n",
       "    }\n",
       "\n",
       "    .dataframe tbody tr th {\n",
       "        vertical-align: top;\n",
       "    }\n",
       "\n",
       "    .dataframe thead th {\n",
       "        text-align: right;\n",
       "    }\n",
       "</style>\n",
       "<table border=\"1\" class=\"dataframe\">\n",
       "  <thead>\n",
       "    <tr style=\"text-align: right;\">\n",
       "      <th></th>\n",
       "      <th>ydepart</th>\n",
       "      <th>nom</th>\n",
       "      <th>descriptif</th>\n",
       "      <th>depart</th>\n",
       "      <th>cheminement_retour</th>\n",
       "      <th>difficulte</th>\n",
       "      <th>cheminement_aller</th>\n",
       "      <th>longueur</th>\n",
       "      <th>temps_parcours</th>\n",
       "      <th>commune_depart</th>\n",
       "      <th>code_insee</th>\n",
       "      <th>denivele</th>\n",
       "      <th>gid</th>\n",
       "      <th>vocation</th>\n",
       "      <th>identifiant</th>\n",
       "      <th>xdepart</th>\n",
       "      <th>observation</th>\n",
       "    </tr>\n",
       "  </thead>\n",
       "  <tbody>\n",
       "    <tr>\n",
       "      <th>0</th>\n",
       "      <td>45.832567</td>\n",
       "      <td>Fort de Vancia</td>\n",
       "      <td>Traversez le vallon duRavinet rejoingnez le fo...</td>\n",
       "      <td>Sathonay-Village-Le Bourg</td>\n",
       "      <td>None</td>\n",
       "      <td>moyen</td>\n",
       "      <td>l'Eglise &gt; la Villotière &gt; le Ravin &gt; Paul Che...</td>\n",
       "      <td>11,4 km</td>\n",
       "      <td>185 min</td>\n",
       "      <td>Sathonay-Village</td>\n",
       "      <td>69293</td>\n",
       "      <td>66 m</td>\n",
       "      <td>1</td>\n",
       "      <td>None</td>\n",
       "      <td>357</td>\n",
       "      <td>4.878952</td>\n",
       "      <td>None</td>\n",
       "    </tr>\n",
       "    <tr>\n",
       "      <th>1</th>\n",
       "      <td>45.806121</td>\n",
       "      <td>Boucle du Bois de la Lune</td>\n",
       "      <td>C'est un parcours à l'ombre bien appréciable p...</td>\n",
       "      <td>Parking du Lac</td>\n",
       "      <td>None</td>\n",
       "      <td>moyen</td>\n",
       "      <td>Le Lac &gt; L'Hippodrome &gt; Bois de la Lune &gt; Les ...</td>\n",
       "      <td>9,7 km</td>\n",
       "      <td>150 min</td>\n",
       "      <td>La Tour-de-Salvagny</td>\n",
       "      <td>69250</td>\n",
       "      <td>94 m</td>\n",
       "      <td>2</td>\n",
       "      <td>pédestre-équestre</td>\n",
       "      <td>492</td>\n",
       "      <td>4.720176</td>\n",
       "      <td>None</td>\n",
       "    </tr>\n",
       "    <tr>\n",
       "      <th>2</th>\n",
       "      <td>45.784920</td>\n",
       "      <td>À la découverte du Parc de Lacroix-Laval</td>\n",
       "      <td>None</td>\n",
       "      <td>Belle Etoile</td>\n",
       "      <td>None</td>\n",
       "      <td>facile</td>\n",
       "      <td>Les Cinq Vallons &gt; Les Varennes &gt; Barilly &gt; Cl...</td>\n",
       "      <td>5 km</td>\n",
       "      <td>140 min</td>\n",
       "      <td>Marcy-l'Étoile</td>\n",
       "      <td>69127</td>\n",
       "      <td>28 m</td>\n",
       "      <td>3</td>\n",
       "      <td>pédestre</td>\n",
       "      <td>500</td>\n",
       "      <td>4.717710</td>\n",
       "      <td>None</td>\n",
       "    </tr>\n",
       "    <tr>\n",
       "      <th>3</th>\n",
       "      <td>45.774629</td>\n",
       "      <td>Ruisseau des Planches</td>\n",
       "      <td>Cette promenade parcours les vallons boisés de...</td>\n",
       "      <td>Écully - Village</td>\n",
       "      <td>None</td>\n",
       "      <td>difficile</td>\n",
       "      <td>Le Calabert &gt; Chemin des Rivières &gt; Fontville ...</td>\n",
       "      <td>11,1 km</td>\n",
       "      <td>170 min</td>\n",
       "      <td>Écully</td>\n",
       "      <td>69081</td>\n",
       "      <td>167 m</td>\n",
       "      <td>4</td>\n",
       "      <td>pédestre-VTT</td>\n",
       "      <td>510</td>\n",
       "      <td>4.778837</td>\n",
       "      <td>None</td>\n",
       "    </tr>\n",
       "    <tr>\n",
       "      <th>4</th>\n",
       "      <td>45.810110</td>\n",
       "      <td>Tour de Saint-Didier</td>\n",
       "      <td>En partant du bourg, on rejoint par le chemin ...</td>\n",
       "      <td>Le Bourg</td>\n",
       "      <td>None</td>\n",
       "      <td>difficile</td>\n",
       "      <td>Les Barres &gt; Les Primevères &gt; En Arche &gt; Senti...</td>\n",
       "      <td>11,2 km</td>\n",
       "      <td>180 min</td>\n",
       "      <td>Saint-Didier-au-Mont-d'Or</td>\n",
       "      <td>69194</td>\n",
       "      <td>332 m</td>\n",
       "      <td>30</td>\n",
       "      <td>None</td>\n",
       "      <td>609</td>\n",
       "      <td>4.798420</td>\n",
       "      <td>None</td>\n",
       "    </tr>\n",
       "  </tbody>\n",
       "</table>\n",
       "</div>"
      ],
      "text/plain": [
       "     ydepart                                       nom  ...   xdepart observation\n",
       "0  45.832567                            Fort de Vancia  ...  4.878952        None\n",
       "1  45.806121                 Boucle du Bois de la Lune  ...  4.720176        None\n",
       "2  45.784920  À la découverte du Parc de Lacroix-Laval  ...  4.717710        None\n",
       "3  45.774629                     Ruisseau des Planches  ...  4.778837        None\n",
       "4  45.810110                      Tour de Saint-Didier  ...  4.798420        None\n",
       "\n",
       "[5 rows x 17 columns]"
      ]
     },
     "execution_count": 173,
     "metadata": {},
     "output_type": "execute_result"
    }
   ],
   "source": [
    "df_rando.head()\n",
    "#df_rando.tail()"
   ]
  },
  {
   "cell_type": "markdown",
   "metadata": {},
   "source": [
    "Les commandes *loc* et *iloc* permettent d'accéder facilement à une partie du tableau, par exemple :\n",
    "\n",
    "*df.iloc[:, 1:4]* signifie qu'on veut accéder à toutes les lignes (*:*) et aux colonnes 1 à 4 (*1:4*). Avec *loc*, il est possible d'accéder aux colonnes via leur nom tandis que *iloc* fonctionne uniquement avec des index entiers.\n",
    "\n",
    "Testez cette fonctionnalité."
   ]
  },
  {
   "cell_type": "code",
   "execution_count": 174,
   "metadata": {},
   "outputs": [
    {
     "data": {
      "text/plain": [
       "0    Sathonay-Village-Le Bourg\n",
       "1               Parking du Lac\n",
       "2                 Belle Etoile\n",
       "Name: depart, dtype: object"
      ]
     },
     "execution_count": 174,
     "metadata": {},
     "output_type": "execute_result"
    }
   ],
   "source": [
    "#df_rando.iloc[0:2, 1:3]\n",
    "df_rando.loc[0:2, \"depart\"]"
   ]
  },
  {
   "cell_type": "markdown",
   "metadata": {},
   "source": [
    "Accéder aux données d'une colonne devient aisée puisqu'il suffit de mentionner le nom de la variable, avant d'y appliquer différents traitements (ex. calculer une moyenne, un max, etc.) :\n",
    "\n",
    "df[\"nom de la colonne\"]\n",
    "\n",
    "auquel on applique les commandes *mean()*, *max()*...\n",
    "\n",
    "Pour tester cela, utilisez la commande *value_counts()* qui calcule la distribution des valeurs pour une variable catégorielle. Vous testerez avec la variable *difficulte* de la randonnée."
   ]
  },
  {
   "cell_type": "code",
   "execution_count": 175,
   "metadata": {
    "scrolled": true
   },
   "outputs": [
    {
     "data": {
      "text/plain": [
       "moyen        26\n",
       "facile       24\n",
       "difficile    10\n",
       "Name: difficulte, dtype: int64"
      ]
     },
     "execution_count": 175,
     "metadata": {},
     "output_type": "execute_result"
    }
   ],
   "source": [
    "df_rando[\"difficulte\"].value_counts()"
   ]
  },
  {
   "cell_type": "markdown",
   "metadata": {},
   "source": [
    "Pour manipuler certaines données, il peut être nécessaire de faire des traitements préalables. Par exemple, il est nécessaire pour la variable *temps_parcours* de retirer la fin de la chaîne de caractère (en l'occurrence les 4 derniers caractères \" min\").\n",
    "\n",
    "Commencez par visualiser la colonne correspondante."
   ]
  },
  {
   "cell_type": "code",
   "execution_count": 176,
   "metadata": {},
   "outputs": [
    {
     "name": "stdout",
     "output_type": "stream",
     "text": [
      "0     185 min\n",
      "1     150 min\n",
      "2     140 min\n",
      "3     170 min\n",
      "4     180 min\n",
      "       ...   \n",
      "56     60 min\n",
      "57     60 min\n",
      "58     45 min\n",
      "59     90 min\n",
      "60     45 min\n",
      "Name: temps_parcours, Length: 61, dtype: object\n"
     ]
    }
   ],
   "source": [
    "tp = df_rando[\"temps_parcours\"]\n",
    "print(tp)"
   ]
  },
  {
   "cell_type": "markdown",
   "metadata": {},
   "source": [
    "Construisez une nouvelle série en transformant ces valeurs en nombres entiers correspondants, débarassés de l'unité de mesure. Une solution élégante consiste à utilisation une liste \"compréhensible\" (*list comprehension*) mais vous pouvez construire une solution plus simple avec une boucle."
   ]
  },
  {
   "cell_type": "code",
   "execution_count": 177,
   "metadata": {},
   "outputs": [],
   "source": [
    "#int(tp[0][0:3]) # garder les 3 premiers caractères\n",
    "#int(tp[0][:-4]) # retirer les 4 derniers caractères\n",
    "# int() permet de convertir la chaîne de caractères en entier pour les calculs qui suivent\n",
    "\n",
    "nouvelles_valeurs = []\n",
    "for v in tp:\n",
    "    nouvelles_valeurs.append(int(v[:-4]))    \n",
    "    \n",
    "# avec une liste compréhensive :\n",
    "#nouvelles_valeurs = [int(v[:-4]) for v in tp]\n",
    "\n",
    "#print(nouvelles_valeurs)\n",
    "\n",
    "df_rando[\"temps_parcours\"] = nouvelles_valeurs"
   ]
  },
  {
   "cell_type": "code",
   "execution_count": 178,
   "metadata": {},
   "outputs": [
    {
     "data": {
      "text/html": [
       "<div>\n",
       "<style scoped>\n",
       "    .dataframe tbody tr th:only-of-type {\n",
       "        vertical-align: middle;\n",
       "    }\n",
       "\n",
       "    .dataframe tbody tr th {\n",
       "        vertical-align: top;\n",
       "    }\n",
       "\n",
       "    .dataframe thead th {\n",
       "        text-align: right;\n",
       "    }\n",
       "</style>\n",
       "<table border=\"1\" class=\"dataframe\">\n",
       "  <thead>\n",
       "    <tr style=\"text-align: right;\">\n",
       "      <th></th>\n",
       "      <th>ydepart</th>\n",
       "      <th>nom</th>\n",
       "      <th>descriptif</th>\n",
       "      <th>depart</th>\n",
       "      <th>cheminement_retour</th>\n",
       "      <th>difficulte</th>\n",
       "      <th>cheminement_aller</th>\n",
       "      <th>longueur</th>\n",
       "      <th>temps_parcours</th>\n",
       "      <th>commune_depart</th>\n",
       "      <th>code_insee</th>\n",
       "      <th>denivele</th>\n",
       "      <th>gid</th>\n",
       "      <th>vocation</th>\n",
       "      <th>identifiant</th>\n",
       "      <th>xdepart</th>\n",
       "      <th>observation</th>\n",
       "    </tr>\n",
       "  </thead>\n",
       "  <tbody>\n",
       "    <tr>\n",
       "      <th>0</th>\n",
       "      <td>45.832567</td>\n",
       "      <td>Fort de Vancia</td>\n",
       "      <td>Traversez le vallon duRavinet rejoingnez le fo...</td>\n",
       "      <td>Sathonay-Village-Le Bourg</td>\n",
       "      <td>None</td>\n",
       "      <td>moyen</td>\n",
       "      <td>l'Eglise &gt; la Villotière &gt; le Ravin &gt; Paul Che...</td>\n",
       "      <td>11,4 km</td>\n",
       "      <td>185</td>\n",
       "      <td>Sathonay-Village</td>\n",
       "      <td>69293</td>\n",
       "      <td>66 m</td>\n",
       "      <td>1</td>\n",
       "      <td>None</td>\n",
       "      <td>357</td>\n",
       "      <td>4.878952</td>\n",
       "      <td>None</td>\n",
       "    </tr>\n",
       "    <tr>\n",
       "      <th>1</th>\n",
       "      <td>45.806121</td>\n",
       "      <td>Boucle du Bois de la Lune</td>\n",
       "      <td>C'est un parcours à l'ombre bien appréciable p...</td>\n",
       "      <td>Parking du Lac</td>\n",
       "      <td>None</td>\n",
       "      <td>moyen</td>\n",
       "      <td>Le Lac &gt; L'Hippodrome &gt; Bois de la Lune &gt; Les ...</td>\n",
       "      <td>9,7 km</td>\n",
       "      <td>150</td>\n",
       "      <td>La Tour-de-Salvagny</td>\n",
       "      <td>69250</td>\n",
       "      <td>94 m</td>\n",
       "      <td>2</td>\n",
       "      <td>pédestre-équestre</td>\n",
       "      <td>492</td>\n",
       "      <td>4.720176</td>\n",
       "      <td>None</td>\n",
       "    </tr>\n",
       "    <tr>\n",
       "      <th>2</th>\n",
       "      <td>45.784920</td>\n",
       "      <td>À la découverte du Parc de Lacroix-Laval</td>\n",
       "      <td>None</td>\n",
       "      <td>Belle Etoile</td>\n",
       "      <td>None</td>\n",
       "      <td>facile</td>\n",
       "      <td>Les Cinq Vallons &gt; Les Varennes &gt; Barilly &gt; Cl...</td>\n",
       "      <td>5 km</td>\n",
       "      <td>140</td>\n",
       "      <td>Marcy-l'Étoile</td>\n",
       "      <td>69127</td>\n",
       "      <td>28 m</td>\n",
       "      <td>3</td>\n",
       "      <td>pédestre</td>\n",
       "      <td>500</td>\n",
       "      <td>4.717710</td>\n",
       "      <td>None</td>\n",
       "    </tr>\n",
       "    <tr>\n",
       "      <th>3</th>\n",
       "      <td>45.774629</td>\n",
       "      <td>Ruisseau des Planches</td>\n",
       "      <td>Cette promenade parcours les vallons boisés de...</td>\n",
       "      <td>Écully - Village</td>\n",
       "      <td>None</td>\n",
       "      <td>difficile</td>\n",
       "      <td>Le Calabert &gt; Chemin des Rivières &gt; Fontville ...</td>\n",
       "      <td>11,1 km</td>\n",
       "      <td>170</td>\n",
       "      <td>Écully</td>\n",
       "      <td>69081</td>\n",
       "      <td>167 m</td>\n",
       "      <td>4</td>\n",
       "      <td>pédestre-VTT</td>\n",
       "      <td>510</td>\n",
       "      <td>4.778837</td>\n",
       "      <td>None</td>\n",
       "    </tr>\n",
       "    <tr>\n",
       "      <th>4</th>\n",
       "      <td>45.810110</td>\n",
       "      <td>Tour de Saint-Didier</td>\n",
       "      <td>En partant du bourg, on rejoint par le chemin ...</td>\n",
       "      <td>Le Bourg</td>\n",
       "      <td>None</td>\n",
       "      <td>difficile</td>\n",
       "      <td>Les Barres &gt; Les Primevères &gt; En Arche &gt; Senti...</td>\n",
       "      <td>11,2 km</td>\n",
       "      <td>180</td>\n",
       "      <td>Saint-Didier-au-Mont-d'Or</td>\n",
       "      <td>69194</td>\n",
       "      <td>332 m</td>\n",
       "      <td>30</td>\n",
       "      <td>None</td>\n",
       "      <td>609</td>\n",
       "      <td>4.798420</td>\n",
       "      <td>None</td>\n",
       "    </tr>\n",
       "  </tbody>\n",
       "</table>\n",
       "</div>"
      ],
      "text/plain": [
       "     ydepart                                       nom  ...   xdepart observation\n",
       "0  45.832567                            Fort de Vancia  ...  4.878952        None\n",
       "1  45.806121                 Boucle du Bois de la Lune  ...  4.720176        None\n",
       "2  45.784920  À la découverte du Parc de Lacroix-Laval  ...  4.717710        None\n",
       "3  45.774629                     Ruisseau des Planches  ...  4.778837        None\n",
       "4  45.810110                      Tour de Saint-Didier  ...  4.798420        None\n",
       "\n",
       "[5 rows x 17 columns]"
      ]
     },
     "execution_count": 178,
     "metadata": {},
     "output_type": "execute_result"
    }
   ],
   "source": [
    "df_rando.head()"
   ]
  },
  {
   "cell_type": "markdown",
   "metadata": {},
   "source": [
    "A présent que la variable a bien été convertie en numérique, vous pouvez appliquer les opérateurs classiques comme la moyenne (fonction *mean()*).\n",
    "\n",
    "En pandas, cela donne pour une série s :\n",
    "\n",
    "s.mean()"
   ]
  },
  {
   "cell_type": "code",
   "execution_count": 179,
   "metadata": {},
   "outputs": [
    {
     "name": "stdout",
     "output_type": "stream",
     "text": [
      "Le temps de parcours moyen est 111.56 minutes.\n"
     ]
    }
   ],
   "source": [
    "print(\"Le temps de parcours moyen est {:.2f} minutes.\".format(df_rando[\"temps_parcours\"].mean()))"
   ]
  },
  {
   "cell_type": "markdown",
   "metadata": {},
   "source": [
    "La librairie *pandas* permet des traitements plus avancés, inspirés des bases de données. Il est ainsi possible de regrouper les lignes en fonction des valeurs d'une colonne (opération *group by*) puis réaliser des opérations statistiques.\n",
    "\n",
    "Essayez de calculer le temps de parcours moyen pour les randonnées de chaque niveau de difficulté.\n",
    "\n",
    "Vous pouvez aller voir sur le site :\n",
    "\n",
    "https://pandas.pydata.org/pandas-docs/stable/reference/api/pandas.DataFrame.groupby.html"
   ]
  },
  {
   "cell_type": "code",
   "execution_count": 181,
   "metadata": {},
   "outputs": [
    {
     "data": {
      "text/html": [
       "<div>\n",
       "<style scoped>\n",
       "    .dataframe tbody tr th:only-of-type {\n",
       "        vertical-align: middle;\n",
       "    }\n",
       "\n",
       "    .dataframe tbody tr th {\n",
       "        vertical-align: top;\n",
       "    }\n",
       "\n",
       "    .dataframe thead th {\n",
       "        text-align: right;\n",
       "    }\n",
       "</style>\n",
       "<table border=\"1\" class=\"dataframe\">\n",
       "  <thead>\n",
       "    <tr style=\"text-align: right;\">\n",
       "      <th></th>\n",
       "      <th>temps_parcours</th>\n",
       "    </tr>\n",
       "    <tr>\n",
       "      <th>difficulte</th>\n",
       "      <th></th>\n",
       "    </tr>\n",
       "  </thead>\n",
       "  <tbody>\n",
       "    <tr>\n",
       "      <th>difficile</th>\n",
       "      <td>136.000000</td>\n",
       "    </tr>\n",
       "    <tr>\n",
       "      <th>facile</th>\n",
       "      <td>78.958333</td>\n",
       "    </tr>\n",
       "    <tr>\n",
       "      <th>moyen</th>\n",
       "      <td>135.769231</td>\n",
       "    </tr>\n",
       "  </tbody>\n",
       "</table>\n",
       "</div>"
      ],
      "text/plain": [
       "            temps_parcours\n",
       "difficulte                \n",
       "difficile       136.000000\n",
       "facile           78.958333\n",
       "moyen           135.769231"
      ]
     },
     "execution_count": 181,
     "metadata": {},
     "output_type": "execute_result"
    }
   ],
   "source": [
    "dif_moyennes = df_rando.groupby(\"difficulte\")\n",
    "# numeric_only permet de ne faire la moyenne que sur les colonnes où c'est possible\n",
    "dif_moyennes[[\"difficulte\", \"temps_parcours\"]].mean(numeric_only=True)"
   ]
  },
  {
   "cell_type": "markdown",
   "metadata": {},
   "source": [
    "Charger des données depuis un fichier *csv* ou *xlsx* est également très facile. Nous verrons un exemple plus loin."
   ]
  },
  {
   "cell_type": "markdown",
   "metadata": {},
   "source": [
    "## Troisième partie : visualisation avec Matplotlib"
   ]
  },
  {
   "cell_type": "code",
   "execution_count": 102,
   "metadata": {},
   "outputs": [],
   "source": [
    "import matplotlib\n",
    "\n",
    "%matplotlib inline"
   ]
  },
  {
   "cell_type": "markdown",
   "metadata": {},
   "source": [
    "Pour commencer, on peut vouloir afficher un diagramme en barre sur le contenu d'une série, par exemple la distribution selon une certaine variable. Pour cela, il suffit d'invoquer la fonction *plot.bar()* à partir d'une série *pandas*, c'est-à-dire :\n",
    "\n",
    "ma_série.plot.bar()"
   ]
  },
  {
   "cell_type": "markdown",
   "metadata": {},
   "source": [
    "Pour commencer, afficher le diagramme correspondant au nombre de randonnées pour chaque niveau de difficulté (facile, moyen difficile)."
   ]
  },
  {
   "cell_type": "code",
   "execution_count": 112,
   "metadata": {},
   "outputs": [
    {
     "data": {
      "text/plain": [
       "<AxesSubplot: >"
      ]
     },
     "execution_count": 112,
     "metadata": {},
     "output_type": "execute_result"
    },
    {
     "data": {
      "image/png": "[encoded data removed]",
      "text/plain": [
       "<Figure size 640x480 with 1 Axes>"
      ]
     },
     "metadata": {},
     "output_type": "display_data"
    }
   ],
   "source": [
    "df_rando[\"difficulte\"].value_counts().plot.bar()"
   ]
  },
  {
   "cell_type": "markdown",
   "metadata": {},
   "source": [
    "On peut vouloir ordonner en fonction de l'ordre alphabétique des index (ici, les noms des catégories). Dans ce cas, il faut utiliser la fonction *sort_index()* sur la série comportant les données à afficher.\n",
    "\n",
    "Affichez à nouveau le diagramme en barres mais avec un tri sur les index."
   ]
  },
  {
   "cell_type": "code",
   "execution_count": 150,
   "metadata": {},
   "outputs": [
    {
     "data": {
      "text/plain": [
       "<AxesSubplot: >"
      ]
     },
     "execution_count": 150,
     "metadata": {},
     "output_type": "execute_result"
    },
    {
     "data": {
      "image/png": "[encoded data removed]",
      "text/plain": [
       "<Figure size 640x480 with 1 Axes>"
      ]
     },
     "metadata": {},
     "output_type": "display_data"
    }
   ],
   "source": [
    "df_rando[\"difficulte\"].value_counts().sort_index().plot.bar()"
   ]
  },
  {
   "cell_type": "markdown",
   "metadata": {},
   "source": [
    "Affichez le diagramme sous forme de camembert à l'aide de la commande *plot.pie()*."
   ]
  },
  {
   "cell_type": "code",
   "execution_count": 113,
   "metadata": {},
   "outputs": [
    {
     "data": {
      "text/plain": [
       "<AxesSubplot: ylabel='difficulte'>"
      ]
     },
     "execution_count": 113,
     "metadata": {},
     "output_type": "execute_result"
    },
    {
     "data": {
      "image/png": "[encoded data removed]",
      "text/plain": [
       "<Figure size 640x480 with 1 Axes>"
      ]
     },
     "metadata": {},
     "output_type": "display_data"
    }
   ],
   "source": [
    "df_rando[\"difficulte\"].value_counts().plot.pie()"
   ]
  },
  {
   "cell_type": "markdown",
   "metadata": {},
   "source": [
    "Ajoutez l'option *figsize=(6,6)* en paramètre de la fonction *pie()* pour changer la taille de votre figure."
   ]
  },
  {
   "cell_type": "code",
   "execution_count": null,
   "metadata": {},
   "outputs": [],
   "source": []
  },
  {
   "cell_type": "markdown",
   "metadata": {},
   "source": [
    "La librairie permet bien sûr d'afficher des graphiques pour des variables quantitatives. Pour l'illustration, nous allons afficher un graphique de dispersion (*scatter plot*) entre les variables *longueur* et *temps_parcours* afin de voir s'il existe une corrélation entre les deux (spoiler alert : oui)."
   ]
  },
  {
   "cell_type": "markdown",
   "metadata": {},
   "source": [
    "Pour commencer, nettoyez la colonne correspondant à la variable *longueur* afin qu'elle contiennent une variable réelle. L'opération est très similaire à celle sur le temps, mais il faudra aussi remplacer la chaîne d'un nombre en français (ex. 12,5) par l'équivalent en anglais (ex. 12.5). Pour cela, vous pouvez utiliser la fonction *replace* des chaînes de caractères :\n",
    "\n",
    "ma_chaine = \"12,5\"\n",
    "\n",
    "ma_chaine.replace(\",\", \".\")"
   ]
  },
  {
   "cell_type": "code",
   "execution_count": 183,
   "metadata": {},
   "outputs": [],
   "source": [
    "long = df_rando[\"longueur\"]\n",
    "\n",
    "df_rando[\"longueur\"] = [float(ch.replace(\",\",\".\")[0:-3]) for ch in long]\n",
    "#ch[0:4]\n",
    "#ma_chaine = \"12,5\"\n",
    "#float(ma_chaine.replace(\",\",\".\"))"
   ]
  },
  {
   "cell_type": "code",
   "execution_count": 184,
   "metadata": {},
   "outputs": [
    {
     "data": {
      "text/html": [
       "<div>\n",
       "<style scoped>\n",
       "    .dataframe tbody tr th:only-of-type {\n",
       "        vertical-align: middle;\n",
       "    }\n",
       "\n",
       "    .dataframe tbody tr th {\n",
       "        vertical-align: top;\n",
       "    }\n",
       "\n",
       "    .dataframe thead th {\n",
       "        text-align: right;\n",
       "    }\n",
       "</style>\n",
       "<table border=\"1\" class=\"dataframe\">\n",
       "  <thead>\n",
       "    <tr style=\"text-align: right;\">\n",
       "      <th></th>\n",
       "      <th>ydepart</th>\n",
       "      <th>nom</th>\n",
       "      <th>descriptif</th>\n",
       "      <th>depart</th>\n",
       "      <th>cheminement_retour</th>\n",
       "      <th>difficulte</th>\n",
       "      <th>cheminement_aller</th>\n",
       "      <th>longueur</th>\n",
       "      <th>temps_parcours</th>\n",
       "      <th>commune_depart</th>\n",
       "      <th>code_insee</th>\n",
       "      <th>denivele</th>\n",
       "      <th>gid</th>\n",
       "      <th>vocation</th>\n",
       "      <th>identifiant</th>\n",
       "      <th>xdepart</th>\n",
       "      <th>observation</th>\n",
       "    </tr>\n",
       "  </thead>\n",
       "  <tbody>\n",
       "    <tr>\n",
       "      <th>0</th>\n",
       "      <td>45.832567</td>\n",
       "      <td>Fort de Vancia</td>\n",
       "      <td>Traversez le vallon duRavinet rejoingnez le fo...</td>\n",
       "      <td>Sathonay-Village-Le Bourg</td>\n",
       "      <td>None</td>\n",
       "      <td>moyen</td>\n",
       "      <td>l'Eglise &gt; la Villotière &gt; le Ravin &gt; Paul Che...</td>\n",
       "      <td>11.4</td>\n",
       "      <td>185</td>\n",
       "      <td>Sathonay-Village</td>\n",
       "      <td>69293</td>\n",
       "      <td>66 m</td>\n",
       "      <td>1</td>\n",
       "      <td>None</td>\n",
       "      <td>357</td>\n",
       "      <td>4.878952</td>\n",
       "      <td>None</td>\n",
       "    </tr>\n",
       "    <tr>\n",
       "      <th>1</th>\n",
       "      <td>45.806121</td>\n",
       "      <td>Boucle du Bois de la Lune</td>\n",
       "      <td>C'est un parcours à l'ombre bien appréciable p...</td>\n",
       "      <td>Parking du Lac</td>\n",
       "      <td>None</td>\n",
       "      <td>moyen</td>\n",
       "      <td>Le Lac &gt; L'Hippodrome &gt; Bois de la Lune &gt; Les ...</td>\n",
       "      <td>9.7</td>\n",
       "      <td>150</td>\n",
       "      <td>La Tour-de-Salvagny</td>\n",
       "      <td>69250</td>\n",
       "      <td>94 m</td>\n",
       "      <td>2</td>\n",
       "      <td>pédestre-équestre</td>\n",
       "      <td>492</td>\n",
       "      <td>4.720176</td>\n",
       "      <td>None</td>\n",
       "    </tr>\n",
       "    <tr>\n",
       "      <th>2</th>\n",
       "      <td>45.784920</td>\n",
       "      <td>À la découverte du Parc de Lacroix-Laval</td>\n",
       "      <td>None</td>\n",
       "      <td>Belle Etoile</td>\n",
       "      <td>None</td>\n",
       "      <td>facile</td>\n",
       "      <td>Les Cinq Vallons &gt; Les Varennes &gt; Barilly &gt; Cl...</td>\n",
       "      <td>5.0</td>\n",
       "      <td>140</td>\n",
       "      <td>Marcy-l'Étoile</td>\n",
       "      <td>69127</td>\n",
       "      <td>28 m</td>\n",
       "      <td>3</td>\n",
       "      <td>pédestre</td>\n",
       "      <td>500</td>\n",
       "      <td>4.717710</td>\n",
       "      <td>None</td>\n",
       "    </tr>\n",
       "    <tr>\n",
       "      <th>3</th>\n",
       "      <td>45.774629</td>\n",
       "      <td>Ruisseau des Planches</td>\n",
       "      <td>Cette promenade parcours les vallons boisés de...</td>\n",
       "      <td>Écully - Village</td>\n",
       "      <td>None</td>\n",
       "      <td>difficile</td>\n",
       "      <td>Le Calabert &gt; Chemin des Rivières &gt; Fontville ...</td>\n",
       "      <td>11.1</td>\n",
       "      <td>170</td>\n",
       "      <td>Écully</td>\n",
       "      <td>69081</td>\n",
       "      <td>167 m</td>\n",
       "      <td>4</td>\n",
       "      <td>pédestre-VTT</td>\n",
       "      <td>510</td>\n",
       "      <td>4.778837</td>\n",
       "      <td>None</td>\n",
       "    </tr>\n",
       "    <tr>\n",
       "      <th>4</th>\n",
       "      <td>45.810110</td>\n",
       "      <td>Tour de Saint-Didier</td>\n",
       "      <td>En partant du bourg, on rejoint par le chemin ...</td>\n",
       "      <td>Le Bourg</td>\n",
       "      <td>None</td>\n",
       "      <td>difficile</td>\n",
       "      <td>Les Barres &gt; Les Primevères &gt; En Arche &gt; Senti...</td>\n",
       "      <td>11.2</td>\n",
       "      <td>180</td>\n",
       "      <td>Saint-Didier-au-Mont-d'Or</td>\n",
       "      <td>69194</td>\n",
       "      <td>332 m</td>\n",
       "      <td>30</td>\n",
       "      <td>None</td>\n",
       "      <td>609</td>\n",
       "      <td>4.798420</td>\n",
       "      <td>None</td>\n",
       "    </tr>\n",
       "  </tbody>\n",
       "</table>\n",
       "</div>"
      ],
      "text/plain": [
       "     ydepart                                       nom  ...   xdepart observation\n",
       "0  45.832567                            Fort de Vancia  ...  4.878952        None\n",
       "1  45.806121                 Boucle du Bois de la Lune  ...  4.720176        None\n",
       "2  45.784920  À la découverte du Parc de Lacroix-Laval  ...  4.717710        None\n",
       "3  45.774629                     Ruisseau des Planches  ...  4.778837        None\n",
       "4  45.810110                      Tour de Saint-Didier  ...  4.798420        None\n",
       "\n",
       "[5 rows x 17 columns]"
      ]
     },
     "execution_count": 184,
     "metadata": {},
     "output_type": "execute_result"
    }
   ],
   "source": [
    "df_rando.head()"
   ]
  },
  {
   "cell_type": "code",
   "execution_count": 145,
   "metadata": {},
   "outputs": [],
   "source": [
    "# petite digression :\n",
    "\n",
    "# attention, comme pour les listes les dataframes sont mutables et doivent être copiées\n",
    "# si vous voulez avoir deux objets différents\n",
    "\n",
    "df_2 = df_rando.copy()\n",
    "df_2.loc[0,\"nom\"] = \"Superbe balade sur les quais\""
   ]
  },
  {
   "cell_type": "code",
   "execution_count": 147,
   "metadata": {},
   "outputs": [
    {
     "data": {
      "text/html": [
       "<div>\n",
       "<style scoped>\n",
       "    .dataframe tbody tr th:only-of-type {\n",
       "        vertical-align: middle;\n",
       "    }\n",
       "\n",
       "    .dataframe tbody tr th {\n",
       "        vertical-align: top;\n",
       "    }\n",
       "\n",
       "    .dataframe thead th {\n",
       "        text-align: right;\n",
       "    }\n",
       "</style>\n",
       "<table border=\"1\" class=\"dataframe\">\n",
       "  <thead>\n",
       "    <tr style=\"text-align: right;\">\n",
       "      <th></th>\n",
       "      <th>ydepart</th>\n",
       "      <th>nom</th>\n",
       "      <th>descriptif</th>\n",
       "      <th>depart</th>\n",
       "      <th>cheminement_retour</th>\n",
       "      <th>difficulte</th>\n",
       "      <th>cheminement_aller</th>\n",
       "      <th>longueur</th>\n",
       "      <th>temps_parcours</th>\n",
       "      <th>commune_depart</th>\n",
       "      <th>code_insee</th>\n",
       "      <th>denivele</th>\n",
       "      <th>gid</th>\n",
       "      <th>vocation</th>\n",
       "      <th>identifiant</th>\n",
       "      <th>xdepart</th>\n",
       "      <th>observation</th>\n",
       "    </tr>\n",
       "  </thead>\n",
       "  <tbody>\n",
       "    <tr>\n",
       "      <th>0</th>\n",
       "      <td>45.832567</td>\n",
       "      <td>Superbe balade sur les quais</td>\n",
       "      <td>Traversez le vallon duRavinet rejoingnez le fo...</td>\n",
       "      <td>Sathonay-Village-Le Bourg</td>\n",
       "      <td>None</td>\n",
       "      <td>moyen</td>\n",
       "      <td>l'Eglise &gt; la Villotière &gt; le Ravin &gt; Paul Che...</td>\n",
       "      <td>11,4 km</td>\n",
       "      <td>185 min</td>\n",
       "      <td>Sathonay-Village</td>\n",
       "      <td>69293</td>\n",
       "      <td>66 m</td>\n",
       "      <td>1</td>\n",
       "      <td>None</td>\n",
       "      <td>357</td>\n",
       "      <td>4.878952</td>\n",
       "      <td>None</td>\n",
       "    </tr>\n",
       "    <tr>\n",
       "      <th>1</th>\n",
       "      <td>45.806121</td>\n",
       "      <td>Boucle du Bois de la Lune</td>\n",
       "      <td>C'est un parcours à l'ombre bien appréciable p...</td>\n",
       "      <td>Parking du Lac</td>\n",
       "      <td>None</td>\n",
       "      <td>moyen</td>\n",
       "      <td>Le Lac &gt; L'Hippodrome &gt; Bois de la Lune &gt; Les ...</td>\n",
       "      <td>9,7 km</td>\n",
       "      <td>150 min</td>\n",
       "      <td>La Tour-de-Salvagny</td>\n",
       "      <td>69250</td>\n",
       "      <td>94 m</td>\n",
       "      <td>2</td>\n",
       "      <td>pédestre-équestre</td>\n",
       "      <td>492</td>\n",
       "      <td>4.720176</td>\n",
       "      <td>None</td>\n",
       "    </tr>\n",
       "    <tr>\n",
       "      <th>2</th>\n",
       "      <td>45.784920</td>\n",
       "      <td>À la découverte du Parc de Lacroix-Laval</td>\n",
       "      <td>None</td>\n",
       "      <td>Belle Etoile</td>\n",
       "      <td>None</td>\n",
       "      <td>facile</td>\n",
       "      <td>Les Cinq Vallons &gt; Les Varennes &gt; Barilly &gt; Cl...</td>\n",
       "      <td>5 km</td>\n",
       "      <td>140 min</td>\n",
       "      <td>Marcy-l'Étoile</td>\n",
       "      <td>69127</td>\n",
       "      <td>28 m</td>\n",
       "      <td>3</td>\n",
       "      <td>pédestre</td>\n",
       "      <td>500</td>\n",
       "      <td>4.717710</td>\n",
       "      <td>None</td>\n",
       "    </tr>\n",
       "    <tr>\n",
       "      <th>3</th>\n",
       "      <td>45.774629</td>\n",
       "      <td>Ruisseau des Planches</td>\n",
       "      <td>Cette promenade parcours les vallons boisés de...</td>\n",
       "      <td>Écully - Village</td>\n",
       "      <td>None</td>\n",
       "      <td>difficile</td>\n",
       "      <td>Le Calabert &gt; Chemin des Rivières &gt; Fontville ...</td>\n",
       "      <td>11,1 km</td>\n",
       "      <td>170 min</td>\n",
       "      <td>Écully</td>\n",
       "      <td>69081</td>\n",
       "      <td>167 m</td>\n",
       "      <td>4</td>\n",
       "      <td>pédestre-VTT</td>\n",
       "      <td>510</td>\n",
       "      <td>4.778837</td>\n",
       "      <td>None</td>\n",
       "    </tr>\n",
       "    <tr>\n",
       "      <th>4</th>\n",
       "      <td>45.810110</td>\n",
       "      <td>Tour de Saint-Didier</td>\n",
       "      <td>En partant du bourg, on rejoint par le chemin ...</td>\n",
       "      <td>Le Bourg</td>\n",
       "      <td>None</td>\n",
       "      <td>difficile</td>\n",
       "      <td>Les Barres &gt; Les Primevères &gt; En Arche &gt; Senti...</td>\n",
       "      <td>11,2 km</td>\n",
       "      <td>180 min</td>\n",
       "      <td>Saint-Didier-au-Mont-d'Or</td>\n",
       "      <td>69194</td>\n",
       "      <td>332 m</td>\n",
       "      <td>30</td>\n",
       "      <td>None</td>\n",
       "      <td>609</td>\n",
       "      <td>4.798420</td>\n",
       "      <td>None</td>\n",
       "    </tr>\n",
       "  </tbody>\n",
       "</table>\n",
       "</div>"
      ],
      "text/plain": [
       "     ydepart                                       nom  ...   xdepart observation\n",
       "0  45.832567              Superbe balade sur les quais  ...  4.878952        None\n",
       "1  45.806121                 Boucle du Bois de la Lune  ...  4.720176        None\n",
       "2  45.784920  À la découverte du Parc de Lacroix-Laval  ...  4.717710        None\n",
       "3  45.774629                     Ruisseau des Planches  ...  4.778837        None\n",
       "4  45.810110                      Tour de Saint-Didier  ...  4.798420        None\n",
       "\n",
       "[5 rows x 17 columns]"
      ]
     },
     "execution_count": 147,
     "metadata": {},
     "output_type": "execute_result"
    }
   ],
   "source": [
    "df_2.head()"
   ]
  },
  {
   "cell_type": "markdown",
   "metadata": {},
   "source": [
    "A présent, vous pouvez croiser les deux variables avec la commande scatter :\n",
    "    \n",
    "df.plot.scatter(x = nom_var_1, y = nom_var_2)"
   ]
  },
  {
   "cell_type": "code",
   "execution_count": 186,
   "metadata": {},
   "outputs": [
    {
     "data": {
      "text/plain": [
       "<AxesSubplot: xlabel='longueur', ylabel='temps_parcours'>"
      ]
     },
     "execution_count": 186,
     "metadata": {},
     "output_type": "execute_result"
    },
    {
     "data": {
      "image/png": "[encoded data removed]",
      "text/plain": [
       "<Figure size 640x480 with 1 Axes>"
      ]
     },
     "metadata": {},
     "output_type": "display_data"
    }
   ],
   "source": [
    "df_rando.plot.scatter(x=\"longueur\", y=\"temps_parcours\")"
   ]
  },
  {
   "cell_type": "markdown",
   "metadata": {},
   "source": [
    "La commande *scatter* retourne un objet qui permet de modifier les caractéristiques du graphique, comme son titre, ses axes, etc.\n",
    "\n",
    "ax = df.plot.scatter(x = nom_var_1, y = nom_var_2)\n",
    "\n",
    "ax.set_title(\"...\")\n",
    "\n",
    "ax.set_xlabel(...\")\n",
    "\n",
    "(etc.)\n",
    "\n",
    "Améliorez la lisibilité de votre figure en lui donnant un titre et en précisant les unités des deux axes."
   ]
  },
  {
   "cell_type": "code",
   "execution_count": null,
   "metadata": {},
   "outputs": [],
   "source": []
  },
  {
   "cell_type": "markdown",
   "metadata": {},
   "source": [
    "Il est bien sûr possible d'afficher plusieurs séries, avec chacune son label et sa couleur, voire d'attribuer des formes ou des gradients de couleur aux points. Pandas reposant sur Matplotlib, les possibilités sont nombreuses."
   ]
  },
  {
   "cell_type": "markdown",
   "metadata": {},
   "source": [
    "Pour plus de visualisations avec Pandas :\n",
    "    \n",
    "https://pandas.pydata.org/pandas-docs/stable/user_guide/visualization.html\n",
    "\n",
    "La page suivante donne une galerie assez exhaustive des possibilités :\n",
    "\n",
    "https://matplotlib.org/gallery/index.html"
   ]
  },
  {
   "cell_type": "markdown",
   "metadata": {},
   "source": [
    "## Quatrième partie : analyse de données Velib"
   ]
  },
  {
   "cell_type": "markdown",
   "metadata": {},
   "source": [
    "L'objectif de cette dernière partie est de charger des données depuis Excel et de faire quelques analyses en utilisant notamment la librairie *numpy*."
   ]
  },
  {
   "cell_type": "markdown",
   "metadata": {},
   "source": [
    "La première étape consiste à charger les données Velib qui ont été rassemblés et utilisés la première fois dans le travail suivant :\n",
    "\n",
    "C. Bouveyron, E. Côme and J. Jacques, The discriminative functional mixture model for the analysis of bike sharing systems, Preprint HAL n.01024186, University Paris Descartes, 2014."
   ]
  },
  {
   "cell_type": "markdown",
   "metadata": {},
   "source": [
    "Pour cela, utilisez la fonction *read_excel* de pandas sur le fichier qui vous est fourni afin de créer 4 variables de type DataFrame.\n",
    "\n",
    "Il faut préciser en paramètre le nom du feuillet grâce à l'argument *sheet_name*.\n",
    "\n",
    "Si le tableau ne comporte pas de titres aux colonnes, il faut préciser l'argument *header=None*."
   ]
  },
  {
   "cell_type": "code",
   "execution_count": 193,
   "metadata": {},
   "outputs": [],
   "source": [
    "util = pd.read_excel(\"datasets/velib.xlsx\", sheet_name=\"util\", header=None)\n",
    "noms = pd.read_excel(\"datasets/velib.xlsx\", sheet_name=\"noms\", header=None)\n",
    "dates = pd.read_excel(\"datasets/velib.xlsx\", sheet_name=\"dates\", header=None)\n",
    "hills = pd.read_excel(\"datasets/velib.xlsx\", sheet_name=\"hills\", header=None)"
   ]
  },
  {
   "cell_type": "markdown",
   "metadata": {},
   "source": [
    "Vérifiez la taille de chacun de vos variables grâce à l'attribut *shape*, ainsi que le début de chacun des tableaux."
   ]
  },
  {
   "cell_type": "code",
   "execution_count": 194,
   "metadata": {},
   "outputs": [
    {
     "name": "stdout",
     "output_type": "stream",
     "text": [
      "(1190, 182)\n",
      "(1189, 2)\n",
      "(181, 2)\n",
      "(1189, 2)\n"
     ]
    }
   ],
   "source": [
    "print(util.shape)\n",
    "print(noms.shape)\n",
    "print(dates.shape)\n",
    "print(hills.shape)"
   ]
  },
  {
   "cell_type": "markdown",
   "metadata": {},
   "source": [
    "Créez deux dictionnaires *nom2id* et *id2nom* afin de créer une correspondance entre l'identifiant de la station (faîtes-la commencer à 0) et son nom. Vous pouvez utiliser la fonction *strip()* qui permet d'éliminer les espaces en début et fin de chaîne."
   ]
  },
  {
   "cell_type": "code",
   "execution_count": 207,
   "metadata": {},
   "outputs": [
    {
     "name": "stdout",
     "output_type": "stream",
     "text": [
      "Nom de la station au début : \" EURYALE DEHAYNIN\" et après nettoyage : \"EURYALE DEHAYNIN\"\n",
      "Le nom EURYALE DEHAYNIN est associé à 1\n",
      "Le nom LEMERCIER est associé à 2\n",
      "Le nom MEZIERES RENNES est associé à 3\n",
      "Le nom FARMAN est associé à 4\n",
      "Le nom QUAI DE LA RAPEE est associé à 5\n",
      "Le nom CHOISY POINT D'IVRY est associé à 6\n",
      "Le nom PORTE DE VILLIERS est associé à 7\n",
      "Le nom STALINGRAD (FONTENAY SOUS BOIS) est associé à 8\n",
      "Le nom GARE RER (JOINVILLE) est associé à 9\n",
      "Le nom MOUFFETARD EPEE DE BOIS est associé à 10\n",
      "Le nom PELLEPORT est associé à 11\n"
     ]
    }
   ],
   "source": [
    "noms_clean = [n.strip() for n in noms[1]]\n",
    "print(f\"Nom de la station au début : \\\"{noms[1][0]}\\\" et après nettoyage : \\\"{noms_clean[0]}\\\"\")\n",
    "\n",
    "identifiants = noms[0]\n",
    "\n",
    "# je veux associer noms_clean[0] à identifiants[0], et ainsi de suite\n",
    "\n",
    "k=0\n",
    "for (n, i) in zip(noms_clean,identifiants):\n",
    "    print(f\"Le nom {n} est associé à {i}\")\n",
    "    k += 1\n",
    "    if k>10:\n",
    "        break\n",
    "\n",
    "nom2id = {}\n",
    "id2nom = {}\n",
    "for (n, i) in zip(noms_clean,identifiants):\n",
    "    nom2id[n] = i\n",
    "    id2nom[i] = n\n",
    "    \n",
    "# alternative avec la fonction dict()\n",
    "#nom2id = dict(zip(noms_clean,identifiants))\n",
    "#id2nom = dict(zip(identifiants,noms_clean))"
   ]
  },
  {
   "cell_type": "markdown",
   "metadata": {},
   "source": [
    "Testez vos dictionnaires."
   ]
  },
  {
   "cell_type": "code",
   "execution_count": 208,
   "metadata": {},
   "outputs": [
    {
     "data": {
      "text/plain": [
       "11"
      ]
     },
     "execution_count": 208,
     "metadata": {},
     "output_type": "execute_result"
    }
   ],
   "source": [
    "nom2id[\"PELLEPORT\"]\n",
    "#id2nom[11]"
   ]
  },
  {
   "cell_type": "markdown",
   "metadata": {},
   "source": [
    "En utilisant la librairie *numpy*, créez un tableau *numpy.array* qui regroupe la charge d'utilisation des stations au fil du temps. Attention à ne pas conserver les intitulés des lignes et colonnes. Vérifiez la dimension du tableau qui devrait être de 1189 lignes les stations) et 181 colonnes (dates)."
   ]
  },
  {
   "cell_type": "code",
   "execution_count": 4,
   "metadata": {},
   "outputs": [],
   "source": [
    "import numpy as np\n"
   ]
  },
  {
   "cell_type": "markdown",
   "metadata": {},
   "source": [
    "Calculez la charge totale des stations à l'aide de la fonction *sum* appliquée au tableau. Le paramètre *axis* permet de préciser si la somme est réalisée par ligne (1) ou par colonne (0).\n",
    "\n",
    "Affichez ensuite la charge de la station EVANGILE."
   ]
  },
  {
   "cell_type": "code",
   "execution_count": null,
   "metadata": {},
   "outputs": [],
   "source": []
  },
  {
   "cell_type": "markdown",
   "metadata": {},
   "source": [
    "On pourra remarquer que ces opérations auraient pu être réalisées directement avec *pandas*, mais l'objectif consistait ici à s'entraîner à utiliser *numpy*."
   ]
  },
  {
   "cell_type": "markdown",
   "metadata": {},
   "source": [
    "Créez un tableau DataFrame comportant les informations : nom de la station, installation sur une colline (ou pas), charge totale de la station. Pour cela, vous pouvez instancier ce type d'objet à l'aide d'un dictionnaire ainsi :\n",
    "\n",
    "*pandas.DataFrame({\"nom colonne 1\" : liste de valeurs, \"nom colonne 2\" : liste de valeurs, etc.})*"
   ]
  },
  {
   "cell_type": "code",
   "execution_count": null,
   "metadata": {},
   "outputs": [],
   "source": []
  },
  {
   "cell_type": "markdown",
   "metadata": {},
   "source": [
    "Vérifiez que le tableau a bien été construit."
   ]
  },
  {
   "cell_type": "code",
   "execution_count": null,
   "metadata": {},
   "outputs": [],
   "source": []
  },
  {
   "cell_type": "markdown",
   "metadata": {},
   "source": [
    "A présent, utilisez la fonction *groupby* de pandas pour calculer des statistiques sur l'utilisation des stations en fonction de leur positionnement (ou non) sur une colline."
   ]
  },
  {
   "cell_type": "code",
   "execution_count": null,
   "metadata": {},
   "outputs": [],
   "source": []
  },
  {
   "cell_type": "markdown",
   "metadata": {},
   "source": [
    "D'autres exercices sont intéressants avec ces données :\n",
    "\n",
    "- afficher les courbes de charges de certaines stations (utilisation de matplotlib)\n",
    "- classification non supervisée (*clustering*) pour regrouper les stations présentant le même profil"
   ]
  },
  {
   "cell_type": "code",
   "execution_count": null,
   "metadata": {},
   "outputs": [],
   "source": []
  }
 ],
 "metadata": {
  "celltoolbar": "Slideshow",
  "hide_input": false,
  "kernelspec": {
   "display_name": "Python 3 (ipykernel)",
   "language": "python",
   "name": "python3"
  },
  "language_info": {
   "codemirror_mode": {
    "name": "ipython",
    "version": 3
   },
   "file_extension": ".py",
   "mimetype": "text/x-python",
   "name": "python",
   "nbconvert_exporter": "python",
   "pygments_lexer": "ipython3",
   "version": "3.10.6"
  },
  "toc": {
   "base_numbering": 1,
   "nav_menu": {},
   "number_sections": true,
   "sideBar": true,
   "skip_h1_title": false,
   "title_cell": "Table of Contents",
   "title_sidebar": "Contents",
   "toc_cell": false,
   "toc_position": {},
   "toc_section_display": true,
   "toc_window_display": false
  }
 },
 "nbformat": 4,
 "nbformat_minor": 4
}
