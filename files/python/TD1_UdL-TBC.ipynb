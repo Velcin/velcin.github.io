{
 "cells": [
  {
   "cell_type": "markdown",
   "metadata": {},
   "source": [
    "# Introduction à la programmation Python\n",
    "\n",
    "Julien Velcin, laboratoire ERIC, Université Lyon 2\n",
    "\n",
    "Formation doctorale de l'UdL (2023-2024)"
   ]
  },
  {
   "cell_type": "markdown",
   "metadata": {},
   "source": [
    "## Première partie : (quelques) fonctionnalités élémentaires de Python"
   ]
  },
  {
   "cell_type": "markdown",
   "metadata": {},
   "source": [
    "Affectez les valeurs 2 et 18.2 aux variables *x* et *y*, puis faites-en le produit"
   ]
  },
  {
   "cell_type": "code",
   "execution_count": null,
   "metadata": {},
   "outputs": [],
   "source": [
    "# à compléter"
   ]
  },
  {
   "cell_type": "markdown",
   "metadata": {},
   "source": [
    "Ecrivez une fonction *prod(x,y)* qui, à partir de deux valeurs, retourne leur produit."
   ]
  },
  {
   "cell_type": "code",
   "execution_count": 6,
   "metadata": {
    "slideshow": {
     "slide_type": "-"
    }
   },
   "outputs": [],
   "source": [
    "# à compléter"
   ]
  },
  {
   "cell_type": "markdown",
   "metadata": {},
   "source": [
    "Testez votre fonction."
   ]
  },
  {
   "cell_type": "code",
   "execution_count": null,
   "metadata": {},
   "outputs": [],
   "source": [
    "# à compléter"
   ]
  },
  {
   "cell_type": "markdown",
   "metadata": {},
   "source": [
    "Ecrivez une fonction *prod_add(x,y)* qui, à partir de deux valeurs, retourne à la fois leur produit et leur somme dans un *tuple* (càd une liste de deux valeurs) "
   ]
  },
  {
   "cell_type": "code",
   "execution_count": 12,
   "metadata": {},
   "outputs": [],
   "source": [
    "# à compléter"
   ]
  },
  {
   "cell_type": "markdown",
   "metadata": {},
   "source": [
    "Puis testez-là."
   ]
  },
  {
   "cell_type": "code",
   "execution_count": null,
   "metadata": {},
   "outputs": [],
   "source": [
    "# à compléter"
   ]
  },
  {
   "cell_type": "markdown",
   "metadata": {},
   "source": [
    "Utilisez votre fonction pour afficher, à l'aide d'une boucle, le résultat pour les couples de valeur x dans {0..10} et y = x+2 (c'est-à-dire : (0,2), (1, 3), etc.). Vous utiliserez la fonction *range*."
   ]
  },
  {
   "cell_type": "code",
   "execution_count": null,
   "metadata": {},
   "outputs": [],
   "source": [
    "# à compléter"
   ]
  },
  {
   "cell_type": "markdown",
   "metadata": {},
   "source": [
    "Enregistrez les couples de valeurs (x, y) à l'intérieur d'une liste que vous appelerez *coll*."
   ]
  },
  {
   "cell_type": "code",
   "execution_count": 18,
   "metadata": {},
   "outputs": [],
   "source": [
    "# à compléter"
   ]
  },
  {
   "cell_type": "markdown",
   "metadata": {},
   "source": [
    "Parcourez la collection à l'aide d'une boucle *for* et affichez le résultat de l'addition et du produit pour chaque élément de la manière suivante grâce à la fonction *print* et à la fonction que vous avez implémenté plus haut :\n",
    "\n",
    "Pour x=0 et y=2, x+y=2 et x\\*y=0\n",
    "\n",
    "Pour x=0 et y=2, x+y=2 et x\\*y=0\n",
    "\n",
    "..."
   ]
  },
  {
   "cell_type": "code",
   "execution_count": null,
   "metadata": {},
   "outputs": [],
   "source": [
    "# à compléter"
   ]
  },
  {
   "cell_type": "markdown",
   "metadata": {},
   "source": [
    "Construisez une variable dictionnaire, nommée *dico*, qui utilise la collection *coll* afin d'attribuer la valeur *y* à la clef *x* pour chaque couple *(x,y)* contenu dans la collection. Par exemple, on souhaite obtenir :\n",
    "\n",
    "dico = { 0: 2,\n",
    "  1: 3,\n",
    "  ...\n",
    "}"
   ]
  },
  {
   "cell_type": "code",
   "execution_count": 28,
   "metadata": {},
   "outputs": [],
   "source": [
    "# à compléter"
   ]
  },
  {
   "cell_type": "markdown",
   "metadata": {
    "slideshow": {
     "slide_type": "-"
    }
   },
   "source": [
    "Affichez le contenu de quelques valeurs du dictionnaire, puis la liste des valeurs (via *values()*) et des clefs (via *keys()*), afin de vérifier que tout s'est bien passé."
   ]
  },
  {
   "cell_type": "code",
   "execution_count": null,
   "metadata": {},
   "outputs": [],
   "source": [
    "# à compléter"
   ]
  },
  {
   "cell_type": "markdown",
   "metadata": {},
   "source": [
    "## Deuxième partie : lecture d'un fichier de données et premières manipulations avec Pandas"
   ]
  },
  {
   "cell_type": "markdown",
   "metadata": {},
   "source": [
    "Commençons par essayer de charger en mémoire un jeu de données issues du site des données ouvertes par le Grand Lyon sur les randonnées recensées dans la région.\n",
    "\n",
    "Les données se trouve dans un fichier en ligne (ici : https://data.grandlyon.com/jeux-de-donnees/boucles-randonnee-metropole-lyon/donnees) mais vous pouvez aussi les télécharger directement depuis [ce lien](datasets/evg_esp_veg.envpdiprboucle.json). L'important est de sauvegarder ce fichier sur votre machine, près de votre notebook."
   ]
  },
  {
   "cell_type": "markdown",
   "metadata": {},
   "source": [
    "Pour charger le jeu de données avec Python, utilisez la fonction *load* de la librairie *json* sur le fichier que vous devez ouvrir en lecture avec la fonction *open*. Enregistrez le résultat dans la variable *d_json*.\n",
    "\n",
    "N'hésitez pas à vous aider du site suivant :\n",
    "\n",
    "https://www.programiz.com/python-programming/json"
   ]
  },
  {
   "cell_type": "code",
   "execution_count": 45,
   "metadata": {},
   "outputs": [],
   "source": [
    "# à compléter"
   ]
  },
  {
   "cell_type": "markdown",
   "metadata": {},
   "source": [
    "La variable que vous venez de charger est un dictionnaire, vous pouvez le vérifier avec la commande *type*. Observez les clefs (fonction *keys()*) et essayez d'avoir accès aux champs du jeu de données et à la liste des randonnées."
   ]
  },
  {
   "cell_type": "code",
   "execution_count": null,
   "metadata": {},
   "outputs": [],
   "source": [
    "# à compléter"
   ]
  },
  {
   "cell_type": "markdown",
   "metadata": {},
   "source": [
    "Enregistrez la liste des champs dans une variable *var* et les randonnées dans une variable *rando*. Vérifiez le nombre d'enregistrements et essayez d'avoir accès aux valeurs."
   ]
  },
  {
   "cell_type": "code",
   "execution_count": null,
   "metadata": {},
   "outputs": [],
   "source": [
    "# à compléter"
   ]
  },
  {
   "cell_type": "markdown",
   "metadata": {},
   "source": [
    "Quelle est la taille du jeu de données, càd le nombre de lignes ? Quel est le nom de la randonnée de la ligne 10 ?"
   ]
  },
  {
   "cell_type": "code",
   "execution_count": null,
   "metadata": {},
   "outputs": [],
   "source": [
    "# à compléter"
   ]
  },
  {
   "cell_type": "markdown",
   "metadata": {},
   "source": [
    "Pour rendre ces données pleinement utilisables, nous allons convertir le fichier *json* en format tabulaire avec la librairie *pandas*. Il vous suffit de créer un DataFrame à partir de la variable *rando* à l'aide de la fonction *DataFrame.from_dict*"
   ]
  },
  {
   "cell_type": "code",
   "execution_count": null,
   "metadata": {},
   "outputs": [],
   "source": [
    "# à compléter"
   ]
  },
  {
   "cell_type": "markdown",
   "metadata": {},
   "source": [
    "Vous pouvez vérifier les dimensions de votre tableau à l'aide de l'attribut *shape* de l'object que vous venez de créer."
   ]
  },
  {
   "cell_type": "code",
   "execution_count": null,
   "metadata": {},
   "outputs": [],
   "source": [
    "# à compléter"
   ]
  },
  {
   "cell_type": "markdown",
   "metadata": {},
   "source": [
    "*df.head()* et *df.tail()* permettent d'avoir un aperçu (respectivement) du début et la fin de l'objet DataFrame. Essayez ces commandes."
   ]
  },
  {
   "cell_type": "code",
   "execution_count": null,
   "metadata": {},
   "outputs": [],
   "source": [
    "# à compléter"
   ]
  },
  {
   "cell_type": "markdown",
   "metadata": {},
   "source": [
    "Les commandes *loc* et *iloc* permettent d'accéder facilement à une partie du tableau, par exemple :\n",
    "\n",
    "*df.iloc[:, 1:4]* signifie qu'on veut accéder à toutes les lignes (*:*) et aux colonnes 1 à 4 (*1:4*). Avec *loc*, il est possible d'accéder aux colonnes via leur nom tandis que *iloc* fonctionne uniquement avec des index entiers.\n",
    "\n",
    "Testez cette fonctionnalité."
   ]
  },
  {
   "cell_type": "code",
   "execution_count": null,
   "metadata": {},
   "outputs": [],
   "source": [
    "# à compléter"
   ]
  },
  {
   "cell_type": "markdown",
   "metadata": {},
   "source": [
    "Accéder aux données d'une colonne devient aisée puisqu'il suffit de mentionner le nom de la variable, avant d'y appliquer différents traitements (ex. calculer une moyenne, un max, etc.) :\n",
    "\n",
    "df[\"nom de la colonne\"]\n",
    "\n",
    "auquel on applique les commandes *mean()*, *max()*...\n",
    "\n",
    "Pour tester cela, utilisez la commande *value_counts()* qui calcule la distribution des valeurs pour une variable catégorielle. Vous testerez avec la variable *difficulte* de la randonnée."
   ]
  },
  {
   "cell_type": "code",
   "execution_count": null,
   "metadata": {},
   "outputs": [],
   "source": [
    "# à compléter"
   ]
  },
  {
   "cell_type": "markdown",
   "metadata": {},
   "source": [
    "Pour manipuler certaines données, il peut être nécessaire de faire des traitements préalables. Par exemple, il est nécessaire pour la variable *temps_parcours* de retirer la fin de la chaîne de caractère (en l'occurrence les 4 derniers caractères \" min\").\n",
    "\n",
    "Commencez par visualiser la colonne correspondante."
   ]
  },
  {
   "cell_type": "code",
   "execution_count": null,
   "metadata": {},
   "outputs": [],
   "source": [
    "# à compléter"
   ]
  },
  {
   "cell_type": "markdown",
   "metadata": {},
   "source": [
    "Construisez une nouvelle série en transformant ces valeurs en nombres entiers correspondants, débarassés de l'unité de mesure. Une solution élégante consiste à utilisation une liste \"compréhensible\" (*list comprehension*) mais vous pouvez construire une solution plus simple avec une boucle."
   ]
  },
  {
   "cell_type": "code",
   "execution_count": 94,
   "metadata": {},
   "outputs": [],
   "source": [
    "# à compléter"
   ]
  },
  {
   "cell_type": "markdown",
   "metadata": {},
   "source": [
    "A présent que la variable a bien été convertie en numérique, vous pouvez appliquer les opérateurs classiques comme la moyenne (fonction *mean()*).\n",
    "\n",
    "En pandas, cela donne pour une série s :\n",
    "\n",
    "s.mean()"
   ]
  },
  {
   "cell_type": "code",
   "execution_count": null,
   "metadata": {},
   "outputs": [],
   "source": [
    "# à compléter"
   ]
  },
  {
   "cell_type": "markdown",
   "metadata": {},
   "source": [
    "La librairie *pandas* permet des traitements plus avancés, inspirés des bases de données. Il est ainsi possible de regrouper les lignes en fonction des valeurs d'une colonne (opération *group by*) puis réaliser des opérations statistiques.\n",
    "\n",
    "Essayez de calculer le temps de parcours moyen pour les randonnées de chaque niveau de difficulté.\n",
    "\n",
    "Vous pouvez aller voir sur le site :\n",
    "\n",
    "https://pandas.pydata.org/pandas-docs/stable/reference/api/pandas.DataFrame.groupby.html"
   ]
  },
  {
   "cell_type": "code",
   "execution_count": null,
   "metadata": {},
   "outputs": [],
   "source": [
    "# à compléter"
   ]
  },
  {
   "cell_type": "markdown",
   "metadata": {},
   "source": [
    "Charger des données depuis un fichier *csv* ou *xlsx* est également très facile. Nous verrons un exemple plus loin."
   ]
  },
  {
   "cell_type": "markdown",
   "metadata": {},
   "source": [
    "## Troisième partie : visualisation avec Matplotlib"
   ]
  },
  {
   "cell_type": "code",
   "execution_count": 102,
   "metadata": {},
   "outputs": [],
   "source": [
    "import matplotlib\n",
    "\n",
    "%matplotlib inline"
   ]
  },
  {
   "cell_type": "markdown",
   "metadata": {},
   "source": [
    "Pour commencer, on peut vouloir afficher un diagramme en barre sur le contenu d'une série, par exemple la distribution selon une certaine variable. Pour cela, il suffit d'invoquer la fonction *plot.bar()* à partir d'une série *pandas*, c'est-à-dire :\n",
    "\n",
    "ma_série.plot.bar()"
   ]
  },
  {
   "cell_type": "markdown",
   "metadata": {},
   "source": [
    "Pour commencer, afficher le diagramme correspondant au nombre de randonnées pour chaque niveau de difficulté (facile, moyen difficile)."
   ]
  },
  {
   "cell_type": "code",
   "execution_count": null,
   "metadata": {},
   "outputs": [],
   "source": [
    "# à compléter"
   ]
  },
  {
   "cell_type": "markdown",
   "metadata": {},
   "source": [
    "On peut vouloir ordonner en fonction de l'ordre alphabétique des index (ici, les noms des catégories). Dans ce cas, il faut utiliser la fonction *sort_index()* sur la série comportant les données à afficher.\n",
    "\n",
    "Affichez à nouveau le diagramme en barres mais avec un tri sur les index."
   ]
  },
  {
   "cell_type": "code",
   "execution_count": null,
   "metadata": {},
   "outputs": [],
   "source": [
    "# à compléter"
   ]
  },
  {
   "cell_type": "markdown",
   "metadata": {},
   "source": [
    "Affichez le diagramme sous forme de camembert à l'aide de la commande *plot.pie()*."
   ]
  },
  {
   "cell_type": "code",
   "execution_count": null,
   "metadata": {},
   "outputs": [],
   "source": [
    "# à compléter"
   ]
  },
  {
   "cell_type": "markdown",
   "metadata": {},
   "source": [
    "Ajoutez l'option *figsize=(6,6)* en paramètre de la fonction *pie()* pour changer la taille de votre figure."
   ]
  },
  {
   "cell_type": "code",
   "execution_count": null,
   "metadata": {},
   "outputs": [],
   "source": [
    "# à compléter"
   ]
  },
  {
   "cell_type": "markdown",
   "metadata": {},
   "source": [
    "La librairie permet bien sûr d'afficher des graphiques pour des variables quantitatives. Pour l'illustration, nous allons afficher un graphique de dispersion (*scatter plot*) entre les variables *longueur* et *temps_parcours* afin de voir s'il existe une corrélation entre les deux (spoiler alert : oui)."
   ]
  },
  {
   "cell_type": "markdown",
   "metadata": {},
   "source": [
    "Pour commencer, nettoyez la colonne correspondant à la variable *longueur* afin qu'elle contiennent une variable réelle. L'opération est très similaire à celle sur le temps, mais il faudra aussi remplacer la chaîne d'un nombre en français (ex. 12,5) par l'équivalent en anglais (ex. 12.5). Pour cela, vous pouvez utiliser la fonction *replace* des chaînes de caractères :\n",
    "\n",
    "ma_chaine = \"12.5\"\n",
    "\n",
    "ma_chaine.replace(\",\", \".\")"
   ]
  },
  {
   "cell_type": "code",
   "execution_count": null,
   "metadata": {},
   "outputs": [],
   "source": [
    "# à compléter"
   ]
  },
  {
   "cell_type": "markdown",
   "metadata": {},
   "source": [
    "A présent, vous pouvez croiser les deux variables avec la commande scatter :\n",
    "    \n",
    "df.plot.scatter(x = nom_var_1, y = nom_var_2)"
   ]
  },
  {
   "cell_type": "code",
   "execution_count": null,
   "metadata": {},
   "outputs": [],
   "source": [
    "# à compléter"
   ]
  },
  {
   "cell_type": "markdown",
   "metadata": {},
   "source": [
    "La commande *scatter* retourne un objet qui permet de modifier les caractéristiques du graphique, comme son titre, ses axes, etc.\n",
    "\n",
    "ax = df.plot.scatter(x = nom_var_1, y = nom_var_2)\n",
    "\n",
    "ax.set_title(\"...\")\n",
    "\n",
    "ax.set_xlabel(...\")\n",
    "\n",
    "(etc.)\n",
    "\n",
    "Améliorez la lisibilité de votre figure en lui donnant un titre et en précisant les unités des deux axes."
   ]
  },
  {
   "cell_type": "code",
   "execution_count": null,
   "metadata": {},
   "outputs": [],
   "source": [
    "# à compléter"
   ]
  },
  {
   "cell_type": "markdown",
   "metadata": {},
   "source": [
    "Il est bien sûr possible d'afficher plusieurs séries, avec chacune son label et sa couleur, voire d'attribuer des formes ou des gradients de couleur aux points. Pandas reposant sur Matplotlib, les possibilités sont nombreuses."
   ]
  },
  {
   "cell_type": "markdown",
   "metadata": {},
   "source": [
    "Pour plus de visualisations avec Pandas :\n",
    "    \n",
    "https://pandas.pydata.org/pandas-docs/stable/user_guide/visualization.html\n",
    "\n",
    "La page suivante donne une galerie assez exhaustive des possibilités :\n",
    "\n",
    "https://matplotlib.org/gallery/index.html"
   ]
  },
  {
   "cell_type": "markdown",
   "metadata": {},
   "source": [
    "## Quatrième partie : analyse de données Velib"
   ]
  },
  {
   "cell_type": "markdown",
   "metadata": {},
   "source": [
    "L'objectif de cette dernière partie est de charger des données depuis Excel et de faire quelques analyses en utilisant notamment la librairie *numpy*."
   ]
  },
  {
   "cell_type": "markdown",
   "metadata": {},
   "source": [
    "La première étape consiste à charger les données Velib qui ont été rassemblés et utilisés la première fois dans le travail suivant :\n",
    "\n",
    "C. Bouveyron, E. Côme and J. Jacques, The discriminative functional mixture model for the analysis of bike sharing systems, Preprint HAL n.01024186, University Paris Descartes, 2014."
   ]
  },
  {
   "cell_type": "markdown",
   "metadata": {},
   "source": [
    "Pour cela, utilisez la fonction *read_excel* de pandas sur le fichier qui vous est fourni afin de créer 4 variables de type DataFrame.\n",
    "\n",
    "Il faut préciser en paramètre le nom du feuillet grâce à l'argument *sheet_name*.\n",
    "\n",
    "Si le tableau ne comporte pas de titres aux colonnes, il faut préciser l'argument *header=None*."
   ]
  },
  {
   "cell_type": "code",
   "execution_count": null,
   "metadata": {},
   "outputs": [],
   "source": [
    "# à compléter"
   ]
  },
  {
   "cell_type": "markdown",
   "metadata": {},
   "source": [
    "Vérifiez la taille de chacun de vos variables grâce à l'attribut *shape*, ainsi que le début de chacun des tableaux."
   ]
  },
  {
   "cell_type": "code",
   "execution_count": null,
   "metadata": {},
   "outputs": [],
   "source": [
    "# à compléter"
   ]
  },
  {
   "cell_type": "markdown",
   "metadata": {},
   "source": [
    "Créez deux dictionnaires *nom2id* et *id2nom* afin de créer une correspondance entre l'identifiant de la station (faîtes-la commencer à 0) et son nom. Vous pouvez utiliser la fonction *strip()* qui permet d'éliminer les espaces en début et fin de chaîne."
   ]
  },
  {
   "cell_type": "code",
   "execution_count": null,
   "metadata": {},
   "outputs": [],
   "source": [
    "# à compléter"
   ]
  },
  {
   "cell_type": "markdown",
   "metadata": {},
   "source": [
    "Testez vos dictionnaires."
   ]
  },
  {
   "cell_type": "code",
   "execution_count": null,
   "metadata": {},
   "outputs": [],
   "source": [
    "# à compléter"
   ]
  },
  {
   "cell_type": "markdown",
   "metadata": {},
   "source": [
    "En utilisant la librairie *numpy*, créez un tableau *numpy.array* qui regroupe la charge d'utilisation des stations au fil du temps. Attention à ne pas conserver les intitulés des lignes et colonnes. Vérifiez la dimension du tableau qui devrait être de 1189 lignes les stations) et 181 colonnes (dates)."
   ]
  },
  {
   "cell_type": "code",
   "execution_count": 4,
   "metadata": {},
   "outputs": [],
   "source": [
    "import numpy as np\n",
    "\n",
    "# à compléter"
   ]
  },
  {
   "cell_type": "markdown",
   "metadata": {},
   "source": [
    "Calculez la charge totale des stations à l'aide de la fonction *sum* appliquée au tableau. Le paramètre *axis* permet de préciser si la somme est réalisée par ligne (1) ou par colonne (0).\n",
    "\n",
    "Affichez ensuite la charge de la station EVANGILE."
   ]
  },
  {
   "cell_type": "code",
   "execution_count": null,
   "metadata": {},
   "outputs": [],
   "source": [
    "# à compléter"
   ]
  },
  {
   "cell_type": "markdown",
   "metadata": {},
   "source": [
    "On pourra remarquer que ces opérations auraient pu être réalisées directement avec *pandas*, mais l'objectif consistait ici à s'entraîner à utiliser *numpy*."
   ]
  },
  {
   "cell_type": "markdown",
   "metadata": {},
   "source": [
    "Créez un tableau DataFrame comportant les informations : nom de la station, installation sur une colline (ou pas), charge totale de la station. Pour cela, vous pouvez instancier ce type d'objet à l'aide d'un dictionnaire ainsi :\n",
    "\n",
    "*pandas.DataFrame({\"nom colonne 1\" : liste de valeurs, \"nom colonne 2\" : liste de valeurs, etc.})*"
   ]
  },
  {
   "cell_type": "code",
   "execution_count": null,
   "metadata": {},
   "outputs": [],
   "source": [
    "# à compléter"
   ]
  },
  {
   "cell_type": "markdown",
   "metadata": {},
   "source": [
    "Vérifiez que le tableau a bien été construit."
   ]
  },
  {
   "cell_type": "code",
   "execution_count": null,
   "metadata": {},
   "outputs": [],
   "source": [
    "# à compléter"
   ]
  },
  {
   "cell_type": "markdown",
   "metadata": {},
   "source": [
    "A présent, utilisez la fonction *groupby* de pandas pour calculer des statistiques sur l'utilisation des stations en fonction de leur positionnement (ou non) sur une colline."
   ]
  },
  {
   "cell_type": "code",
   "execution_count": null,
   "metadata": {},
   "outputs": [],
   "source": [
    "# à compléter"
   ]
  },
  {
   "cell_type": "markdown",
   "metadata": {},
   "source": [
    "D'autres exercices sont intéressants avec ces données :\n",
    "\n",
    "- afficher les courbes de charges de certaines stations (utilisation de matplotlib)\n",
    "- classification non supervisée (*clustering*) pour regrouper les stations présentant le même profil"
   ]
  },
  {
   "cell_type": "code",
   "execution_count": null,
   "metadata": {},
   "outputs": [],
   "source": [
    "# à compléter (mais plus long ;)"
   ]
  }
 ],
 "metadata": {
  "celltoolbar": "Slideshow",
  "hide_input": false,
  "kernelspec": {
   "display_name": "Python 3 (ipykernel)",
   "language": "python",
   "name": "python3"
  },
  "language_info": {
   "codemirror_mode": {
    "name": "ipython",
    "version": 3
   },
   "file_extension": ".py",
   "mimetype": "text/x-python",
   "name": "python",
   "nbconvert_exporter": "python",
   "pygments_lexer": "ipython3",
   "version": "3.8.19"
  },
  "toc": {
   "base_numbering": 1,
   "nav_menu": {},
   "number_sections": true,
   "sideBar": true,
   "skip_h1_title": false,
   "title_cell": "Table of Contents",
   "title_sidebar": "Contents",
   "toc_cell": false,
   "toc_position": {},
   "toc_section_display": true,
   "toc_window_display": false
  }
 },
 "nbformat": 4,
 "nbformat_minor": 4
}
