{
 "cells": [
  {
   "cell_type": "markdown",
   "metadata": {
    "slideshow": {
     "slide_type": "slide"
    }
   },
   "source": [
    "# Introduction à la programmation Python\n",
    "\n",
    "Julien Velcin, Université Lyon 2\n",
    "\n",
    "Formation doctorale de l'UdL (2023-2024)"
   ]
  },
  {
   "cell_type": "markdown",
   "metadata": {},
   "source": [
    "## TP n°2 : analyse des donnnées textuelles"
   ]
  },
  {
   "cell_type": "markdown",
   "metadata": {
    "slideshow": {
     "slide_type": "slide"
    }
   },
   "source": [
    "**Menu**\n",
    "\n",
    "- manipulation de chaînes de caractères (*str*)\n",
    "- recherche simple : les expressions régulières\n",
    "- premiers nettoyages du texte\n",
    "- visualisation en nuage de mots"
   ]
  },
  {
   "cell_type": "markdown",
   "metadata": {
    "slideshow": {
     "slide_type": "subslide"
    }
   },
   "source": [
    "Nous allons travailler avec un extrait des données du <a href=\"https://granddebat.fr\">Grand Débat National</a>, en particulier des réponses à la question : \"En qui faites-vous le plus confiance pour vous faire représenter dans la société et pourquoi ?\"\n",
    "\n",
    "Commencez par charger le fichier *csv* en mémoire. Pour cela, vous pouvez passer par la librairie *pandas*. Si besoin, vous pouvez préciser l'encodage *utf-8* et la présence (ou non) d'un en-tête avec *header*."
   ]
  },
  {
   "cell_type": "code",
   "execution_count": null,
   "metadata": {
    "slideshow": {
     "slide_type": "fragment"
    }
   },
   "outputs": [],
   "source": [
    "import pandas as pd\n",
    "\n",
    "# à compléter"
   ]
  },
  {
   "cell_type": "markdown",
   "metadata": {},
   "source": [
    "### Manipulation de chaînes de caractères (*str*)"
   ]
  },
  {
   "cell_type": "markdown",
   "metadata": {},
   "source": [
    "On commence par créer une seule chaîne de caractères, que vous appelerez **texte**, qui **concatène** toutes les réponses qui se trouvent dans la colonne 2 du tableau que vous venez de charger (par ex. avec la fonction *join*). Les deux premières lignes ne sont pas très utiles : dans la suite, arrangez-vous pour travailler avec la liste privée de ces éléments.\n",
    "\n",
    "Si vous êtes genés par les valeurs manquantes N/A, *pandas* fournit une commande *isna* qui peut être utilisée pour ne conserver que les lignes valides."
   ]
  },
  {
   "cell_type": "code",
   "execution_count": null,
   "metadata": {},
   "outputs": [],
   "source": [
    "# à compléter"
   ]
  },
  {
   "cell_type": "markdown",
   "metadata": {
    "slideshow": {
     "slide_type": "fragment"
    }
   },
   "source": [
    "Vérifiez la taille de la chaîne avec *len* et regardez des extraits de cette longue chaîne."
   ]
  },
  {
   "cell_type": "code",
   "execution_count": null,
   "metadata": {
    "slideshow": {
     "slide_type": "fragment"
    }
   },
   "outputs": [],
   "source": [
    "# à compléter"
   ]
  },
  {
   "cell_type": "markdown",
   "metadata": {
    "slideshow": {
     "slide_type": "subslide"
    }
   },
   "source": [
    "La recherche la plus simple consiste à parcourir le texte jusqu'à trouver la première occurrence d'une chaîne de caractères. Cela peut se faire à l'aide de la fonction *find*.\n",
    "\n",
    "Vérifiez que le passage du texte qui entoure l'indice trouvé correspond bien à ce que vous cherchez."
   ]
  },
  {
   "cell_type": "code",
   "execution_count": null,
   "metadata": {
    "slideshow": {
     "slide_type": "fragment"
    }
   },
   "outputs": [],
   "source": [
    "# à compléter"
   ]
  },
  {
   "cell_type": "markdown",
   "metadata": {},
   "source": [
    "### Recherche simple : les expressions régulières"
   ]
  },
  {
   "cell_type": "markdown",
   "metadata": {
    "slideshow": {
     "slide_type": "subslide"
    }
   },
   "source": [
    "Les **expressions régulières** constituent une méthode très efficace pour trouver une ou plusieurs occurrences d'une sous-chaîne de caractères dans un texte.\n",
    "\n",
    "Lien vers la page documentant la librairie re en Python : https://docs.python.org/3/library/re.html"
   ]
  },
  {
   "cell_type": "markdown",
   "metadata": {},
   "source": [
    "Pour commencer, enregistrez dans une liste l'indice de toutes les occurrences d'un mot choisi avec la fonction *finditer* de la librairie *re*. Pour le moment, il s'agit de l'écriture exact du mot. L'indice correspond à l'endroit où débute le mot (fonction *start* de l'objet retourné).\n",
    "\n",
    "**En Python :**\n",
    "\n",
    "p = re.compile(motif)\n",
    "\n",
    "r = p.finditer(texte)\n",
    "\n",
    "liste_occ = [m.start() for m in r]"
   ]
  },
  {
   "cell_type": "code",
   "execution_count": null,
   "metadata": {
    "slideshow": {
     "slide_type": "fragment"
    }
   },
   "outputs": [],
   "source": [
    "# à compléter"
   ]
  },
  {
   "cell_type": "markdown",
   "metadata": {},
   "source": [
    "Afficher le passage du texte qui correspond à la première occurrence retrouvée et indexée dans la liste *liste_occ*. Pour cela commencez l'affichage à l'index retourné par la fonction *start()* et ajoutez une longueur arbitraire de 10 caractères."
   ]
  },
  {
   "cell_type": "code",
   "execution_count": null,
   "metadata": {},
   "outputs": [],
   "source": [
    "# à compléter"
   ]
  },
  {
   "cell_type": "markdown",
   "metadata": {
    "slideshow": {
     "slide_type": "subslide"
    }
   },
   "source": [
    "Il est facile de réaliser les analyses sans tenir compte de la \"casse\", c'est-à-dire de l'utilisation des majuscules et minuscules, en rajoutant l'option *re.IGNORECASE* dans la fonction *compile*. Essayez cette fonctionnalité."
   ]
  },
  {
   "cell_type": "code",
   "execution_count": null,
   "metadata": {
    "slideshow": {
     "slide_type": "fragment"
    }
   },
   "outputs": [],
   "source": [
    "# à compléter"
   ]
  },
  {
   "cell_type": "markdown",
   "metadata": {},
   "source": [
    "Pour finir, remplacez la fonction *start()* par *span()* dans le but de récupérer un tuple qui code l'index de début et de fin du motif recherché. Faites la même recherche, mais affichez cette fois la 2ème occurrence retrouvée en adaptant l'affichage pour qu'il commence et termine exactement 5 caractères avant et après le motif. Cela donne un résultat du type :\n",
    "\n",
    "*motif = \"lettre\"*\n",
    "\n",
    "affichage d'un extrait du texte contenant le motif :\n",
    "\n",
    "*\"t la lettre qui \"*"
   ]
  },
  {
   "cell_type": "code",
   "execution_count": null,
   "metadata": {},
   "outputs": [],
   "source": [
    "# à compléter"
   ]
  },
  {
   "cell_type": "markdown",
   "metadata": {
    "slideshow": {
     "slide_type": "subslide"
    }
   },
   "source": [
    "Si on souhaite trouver toutes les occurrences, on peut afficher ce qu'on appelle un concordancier.\n",
    "\n",
    "Depuis le XIIIème siècle, un **concordancier** est une liste triée alphabétiquement des principaux mots employés dans un corpus, précisant **chaque instance** des mots accompagnée de leur **contexte immédiat**. \n",
    "\n",
    "<img src=\"img/concordance.jpg\" style='height: 400px'/>\n",
    "\n",
    "*Cruden's Concordance (concordance of the King James Bible that was single-handedly created by Alexander Cruden)*"
   ]
  },
  {
   "cell_type": "markdown",
   "metadata": {},
   "source": [
    "Nous allons essayer d'implémenter un concordancier en Python en utilisant la structure DataFrame de la librairie Pandas.\n",
    "\n",
    "Commencez par stocker dans une variable intitulée *pos_pattern* la liste des occurrences avec l'information correspondant aux index de début et de fin du motif recherché (exactement comme ce que vous avez fait précédemment)."
   ]
  },
  {
   "cell_type": "code",
   "execution_count": null,
   "metadata": {},
   "outputs": [],
   "source": [
    "# à compléter"
   ]
  },
  {
   "cell_type": "markdown",
   "metadata": {},
   "source": [
    "Créez une liste **texte_central** de chaînes de caractères qui contient la liste des extraits du texte correspondant à toutes ces occurrences."
   ]
  },
  {
   "cell_type": "code",
   "execution_count": null,
   "metadata": {},
   "outputs": [],
   "source": [
    "# à compléter"
   ]
  },
  {
   "cell_type": "markdown",
   "metadata": {},
   "source": [
    "Procédez de la même façon pour créer deux listes distinctes :\n",
    "    \n",
    "- **contexte_gauche** : la liste des extraits qui *précèdent* les motifs retrouvés\n",
    "- **contexte_droit** : la liste des extraits qui *suivent* les motifs retrouvés\n",
    "\n",
    "Vous fixerez la taille du contexte à l'aide d'une variable *window*, par ex. fixée par défaut à 30 caractères."
   ]
  },
  {
   "cell_type": "code",
   "execution_count": null,
   "metadata": {},
   "outputs": [],
   "source": [
    "# à compléter"
   ]
  },
  {
   "cell_type": "raw",
   "metadata": {},
   "source": [
    "Pour finir, créez un objet DataFrame de la librairie Pandas. Vous pouvez fournir au constructeur un dictionnaire qui liste les différentes colonnes avec leur contenu :\n",
    "\n",
    "dictionnaire = {\n",
    "        \"intitulé colonne 1\" : liste des valeurs,\n",
    "        \"intitulé colonne 2\" : liste des valeurs,\n",
    "        etc.\n",
    "    }\n",
    "\n",
    "ma_variable = pd.DataFrame(dictionnaire)"
   ]
  },
  {
   "cell_type": "code",
   "execution_count": null,
   "metadata": {},
   "outputs": [],
   "source": [
    "# à compléter"
   ]
  },
  {
   "cell_type": "markdown",
   "metadata": {},
   "source": [
    "A présent, on cherche à automatiser la procédure pour faciliter les expérimentation ultérieures. Créez une fonction intitulée *concord* qui prend deux arguments :\n",
    "- texte : le texte\n",
    "- motif : le motif\n",
    "\n",
    "et retourne le tableau DataFrame correspondant."
   ]
  },
  {
   "cell_type": "code",
   "execution_count": null,
   "metadata": {
    "slideshow": {
     "slide_type": "subslide"
    }
   },
   "outputs": [],
   "source": [
    "# à compléter"
   ]
  },
  {
   "cell_type": "markdown",
   "metadata": {},
   "source": [
    "Vous pouvez utiliser le concordancier afin de tester plusieurs expressions régulières sur le corpus."
   ]
  },
  {
   "cell_type": "markdown",
   "metadata": {},
   "source": [
    "Faîtes quelques essais avec des expressions :\n",
    "\n",
    "- comportant plusieurs mots qui se suivent : \"mot1 mot2\"\n",
    "- autorisant la présence optionnelle d'un caractère avec ? comme : \"mot?\" (le t est optionnel)\n",
    "- donnant le choix entre plusieurs mots avec : \"mot1|mot2\"\n",
    "- comportant une suite de chiffres avec : \"[0-9]+\""
   ]
  },
  {
   "cell_type": "code",
   "execution_count": null,
   "metadata": {
    "slideshow": {
     "slide_type": "fragment"
    }
   },
   "outputs": [],
   "source": [
    "# à compléter"
   ]
  },
  {
   "cell_type": "markdown",
   "metadata": {},
   "source": [
    "Quelques exercices de plus sur les expressions régulières :\n",
    "\n",
    "- Trouver les extraits contenant deux suites de caractères (alphabet a à z, non accentué) en minuscules attachés par un *underscore* (par ex. \"choisi_s\")\n",
    "- Même question mais avec des caractères en minuscules ou en majuscules (par ex. \"Bicamerisme_equitableL\")\n",
    "- Trouver les extraits contenant deux mots (cette fois en prenant en compte les accents) qui se suivent et commençant chacun par une (unique) majuscule\n",
    "- Trouver les extraits qui alterne un chiffre et une lettre deux fois de suite (par ex. \"1a0d\")"
   ]
  },
  {
   "cell_type": "code",
   "execution_count": null,
   "metadata": {},
   "outputs": [],
   "source": [
    "# à compléter"
   ]
  },
  {
   "cell_type": "markdown",
   "metadata": {
    "slideshow": {
     "slide_type": "slide"
    }
   },
   "source": [
    "### Premiers nettoyages"
   ]
  },
  {
   "cell_type": "markdown",
   "metadata": {
    "slideshow": {
     "slide_type": "fragment"
    }
   },
   "source": [
    "L'action la plus élémentaire consiste à nettoyer le texte s'il contient des symboles non souhaités (par ex. des caractères unicodes). La librairie *re* fournit une fonction *sub* qui permet de faire ce remplacement en prenant en compte des expressions régulières si besoin, càd en fournissant un motif comme nous l'avons fait précédemment."
   ]
  },
  {
   "cell_type": "code",
   "execution_count": null,
   "metadata": {
    "slideshow": {
     "slide_type": "fragment"
    }
   },
   "outputs": [],
   "source": [
    "txt_a_nettoyer = \"ÅVoilà un texte qui pose problͰme  ̶ voyons ce que l ̕on peut y faire\"\n",
    "\n",
    "txt_propre = re.sub(\"Å\", \" \", txt_a_nettoyer)\n",
    "txt_propre = re.sub(\"Ͱ\", \"è\", txt_propre)\n",
    "txt_propre = re.sub(\" ̶\", \"-\", txt_propre)\n",
    "txt_propre = re.sub(\" ̕\", \"'\", txt_propre)\n",
    "\n",
    "print(txt_propre)"
   ]
  },
  {
   "cell_type": "markdown",
   "metadata": {
    "slideshow": {
     "slide_type": "subslide"
    }
   },
   "source": [
    "Ou alors avec un dictionnaire :"
   ]
  },
  {
   "cell_type": "code",
   "execution_count": null,
   "metadata": {
    "slideshow": {
     "slide_type": "fragment"
    }
   },
   "outputs": [],
   "source": [
    "clean_unicode = {\n",
    "  \"Å\": \" \",\n",
    "  \"Ͱ\": \"è\",\n",
    "  \" ̶\" : \"-\",\n",
    "  \" ̕\" : \"'\"\n",
    "}\n",
    "\n",
    "txt_propre_2 = txt_a_nettoyer\n",
    "for c in clean_unicode:\n",
    "    txt_propre_2 = re.sub(c, clean_unicode[c], txt_propre_2)\n",
    "    \n",
    "print(txt_propre_2)"
   ]
  },
  {
   "cell_type": "markdown",
   "metadata": {
    "slideshow": {
     "slide_type": "subslide"
    }
   },
   "source": [
    "Repérez puis corriger quelques fautes d'orthographes dans le texte dans une nouvelle version de la variable que vous appelerez **texte_clean**."
   ]
  },
  {
   "cell_type": "code",
   "execution_count": null,
   "metadata": {
    "slideshow": {
     "slide_type": "fragment"
    }
   },
   "outputs": [],
   "source": [
    "# à compléter"
   ]
  },
  {
   "cell_type": "code",
   "execution_count": null,
   "metadata": {},
   "outputs": [],
   "source": [
    "# à compléter"
   ]
  },
  {
   "cell_type": "markdown",
   "metadata": {},
   "source": [
    "N'hésitez pas à vérifier que les modifications ont bien été réalisées avec le concordancier."
   ]
  },
  {
   "cell_type": "markdown",
   "metadata": {
    "slideshow": {
     "slide_type": "subslide"
    }
   },
   "source": [
    "Un nettoyage standard pour les analyses ultérieures consiste à passer tout le corpus en minuscule. C'est une forme de normalisation permettant de rapprocher des termes comme \"Unité\" et \"unité\" par exemple."
   ]
  },
  {
   "cell_type": "markdown",
   "metadata": {},
   "source": [
    "Pour les analyzes qui suivent, transformer votre variable *texte_clean* pour passer tous les caractères en minuscules."
   ]
  },
  {
   "cell_type": "code",
   "execution_count": 15,
   "metadata": {
    "slideshow": {
     "slide_type": "fragment"
    }
   },
   "outputs": [],
   "source": [
    "# à compléter"
   ]
  },
  {
   "cell_type": "markdown",
   "metadata": {
    "slideshow": {
     "slide_type": "slide"
    }
   },
   "source": [
    "### Première visualisation : le nuage de mots"
   ]
  },
  {
   "cell_type": "markdown",
   "metadata": {
    "slideshow": {
     "slide_type": "subslide"
    }
   },
   "source": [
    "Les **nuages de mots** (*word clouds*) sont une manière simple de visualiser les statistiques des mots les plus employés dans le corpus."
   ]
  },
  {
   "cell_type": "markdown",
   "metadata": {
    "slideshow": {
     "slide_type": "subslide"
    }
   },
   "source": [
    "Première partie du code : on prépare le nuage de mots, en spécifiant si possible une liste de mots-outils à ignorer (le, la, etc.)"
   ]
  },
  {
   "cell_type": "code",
   "execution_count": null,
   "metadata": {
    "slideshow": {
     "slide_type": "fragment"
    }
   },
   "outputs": [],
   "source": [
    "# Les deux lignes suivantes permettent de télécharger des ressources avec la libraries nltk\n",
    "# (ce qui nous intéresse pour le moment : une liste de mots-outils)\n",
    "#import nltk\n",
    "#nltk.download()"
   ]
  },
  {
   "cell_type": "code",
   "execution_count": null,
   "metadata": {},
   "outputs": [],
   "source": [
    "# alternative à nltk pour charger des mots-outils (stopwords) directement depuis un fichier :\n",
    "\n",
    "with open(\"datasets/Stop-words-french.txt\", \"r\", encoding='utf8') as f:\n",
    "    sw_french = [line.rstrip(\"\\n\") for line in f.readlines()]"
   ]
  },
  {
   "cell_type": "markdown",
   "metadata": {},
   "source": [
    "Vérifiez le contenu de la liste et sa longueur."
   ]
  },
  {
   "cell_type": "code",
   "execution_count": null,
   "metadata": {},
   "outputs": [],
   "source": [
    "#len(sw_french)   # nombre de mots-outils\n",
    "sw_french[0:20] # 20 premiers mots-outils"
   ]
  },
  {
   "cell_type": "code",
   "execution_count": null,
   "metadata": {
    "slideshow": {
     "slide_type": "fragment"
    }
   },
   "outputs": [],
   "source": [
    "# tiré de : http://ramiro.org/notebook/sherlock-holmes-canon-wordcloud/\n",
    "\n",
    "from wordcloud import WordCloud\n",
    "\n",
    "# si on souhaite charger la liste des mots-outils en français avec NLTK\n",
    "# (inutile si on charge son propre fichier de mots-outils)\n",
    "\n",
    "# from nltk.corpus import stopwords \n",
    "# sw_french = stopwords.words(\"french\")\n",
    "\n",
    "# si on veut enrichir la liste de mots-outils d'une liste \"maison\" :\n",
    "#sw_french = sw_french + [..., ..., ...] # = liste de mots\n",
    "\n",
    "# imread est nécessaire si on souhaite utiliser un masque (image en noir et blanc, le noir indiquant où afficher le nuage)\n",
    "from imageio import imread\n",
    "\n",
    "# nombre de mots à afficher\n",
    "limit = 50\n",
    "\n",
    "#fontcolor='#fafafa'\n",
    "fontcolor='#fa0000' # couleur des caractères\n",
    "bgcolor = '#000000' # couleur de fond\n",
    "#bgcolor = '#ffffff'\n",
    "#bgcolor = '#aa0000'\n",
    "    \n",
    "wordcloud = WordCloud(\n",
    "    max_words=limit,\n",
    "    stopwords= sw_french, # liste de mots-outils\n",
    "    #mask=imread('img/mask.png'),  # avec ou sans masque, à essayer ! (attention, nécessite un fichier de masque en noir et blanc)\n",
    "    background_color=bgcolor,\n",
    "#    font_path=font   # si on veut changer la police de caractères\n",
    ").generate(texte_clean) # tolower() permet de mettre tout le texte en minuscule"
   ]
  },
  {
   "cell_type": "markdown",
   "metadata": {
    "slideshow": {
     "slide_type": "subslide"
    }
   },
   "source": [
    "Seconde partie du code : on affiche le nuage grâce à la librarie matplotlib"
   ]
  },
  {
   "cell_type": "code",
   "execution_count": null,
   "metadata": {
    "slideshow": {
     "slide_type": "fragment"
    }
   },
   "outputs": [],
   "source": [
    "# cette première ligne est nécessaire pour afficher des graphiques dans le notebook\n",
    "%matplotlib inline\n",
    "\n",
    "import random\n",
    "import matplotlib.pyplot as plt\n",
    "\n",
    "fig = plt.figure()\n",
    "\n",
    "# taille de la figure\n",
    "fig.set_figwidth(14)\n",
    "fig.set_figheight(18)\n",
    "\n",
    "# si on souhaite mettre un titre\n",
    "title = \"Essai\"\n",
    "\n",
    "# cette fonction optionnelle permet de \"customiser\" l'affichage, cf. ci-dessous\n",
    "def grey_color(word, font_size, position, orientation, random_state=None, **kwargs):\n",
    "    return 'hsl(0, 0%%, %d%%)' % random.randint(50, 100)\n",
    "\n",
    "#plt.imshow(wordcloud)     # le plus simple\n",
    "plt.imshow(wordcloud.recolor(color_func=grey_color, random_state=3))  # si on veut \"customiser\"\n",
    "#plt.title(title, color=fontcolor, size=30, y=1.01)     # si on veut rajouter un titre\n",
    "plt.axis('off')\n",
    "plt.show()"
   ]
  },
  {
   "cell_type": "code",
   "execution_count": null,
   "metadata": {},
   "outputs": [],
   "source": [
    "# Possibilité d'afficher plusieurs graphiques si besoin\n",
    "fig = plt.figure()\n",
    "\n",
    "# taille de la figure\n",
    "fig.set_figwidth(20)\n",
    "fig.set_figheight(18)\n",
    "\n",
    "plt.subplot(1, 2, 1)\n",
    "  # (1,2) indique que l'on souhait 1 ligne avec 2 colonnes\n",
    "  # la troisème valeur correspond à l'endroit où on affiche le graphique en cours\n",
    "plt.imshow(wordcloud.recolor(random_state=3))\n",
    "plt.axis('off')\n",
    "plt.subplot(1, 2, 2) \n",
    "  # cette fois, on affiche en 2ème position\n",
    "plt.imshow(wordcloud.recolor(color_func=grey_color, random_state=3))\n",
    "plt.axis('off')\n",
    "plt.show()\n"
   ]
  },
  {
   "cell_type": "code",
   "execution_count": null,
   "metadata": {},
   "outputs": [],
   "source": []
  }
 ],
 "metadata": {
  "anaconda-cloud": {},
  "celltoolbar": "Slideshow",
  "hide_input": false,
  "kernelspec": {
   "display_name": "Python 3 (ipykernel)",
   "language": "python",
   "name": "python3"
  },
  "language_info": {
   "codemirror_mode": {
    "name": "ipython",
    "version": 3
   },
   "file_extension": ".py",
   "mimetype": "text/x-python",
   "name": "python",
   "nbconvert_exporter": "python",
   "pygments_lexer": "ipython3",
   "version": "3.11.5"
  },
  "toc": {
   "base_numbering": 1,
   "nav_menu": {},
   "number_sections": true,
   "sideBar": true,
   "skip_h1_title": false,
   "title_cell": "Table of Contents",
   "title_sidebar": "Contents",
   "toc_cell": false,
   "toc_position": {},
   "toc_section_display": true,
   "toc_window_display": false
  }
 },
 "nbformat": 4,
 "nbformat_minor": 1
}
