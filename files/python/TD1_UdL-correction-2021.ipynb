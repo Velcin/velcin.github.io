{
 "cells": [
  {
   "cell_type": "markdown",
   "metadata": {},
   "source": [
    "# Introduction à la programmation Python\n",
    "\n",
    "Julien Velcin, laboratoire ERIC, Université Lyon 2\n",
    "\n",
    "Formation doctorale de l'UdL (2021-2022)"
   ]
  },
  {
   "cell_type": "markdown",
   "metadata": {},
   "source": [
    "version corrigée"
   ]
  },
  {
   "cell_type": "markdown",
   "metadata": {},
   "source": [
    "## Première partie : (quelques) fonctionnalités élémentaires de Python"
   ]
  },
  {
   "cell_type": "markdown",
   "metadata": {},
   "source": [
    "Ecrivez une fonction *prod(x,y)* qui, à partir de deux valeurs, retourne leur produit."
   ]
  },
  {
   "cell_type": "code",
   "execution_count": 1,
   "metadata": {
    "slideshow": {
     "slide_type": "-"
    }
   },
   "outputs": [],
   "source": [
    "def prod(x,y):\n",
    "    return x*y"
   ]
  },
  {
   "cell_type": "markdown",
   "metadata": {},
   "source": [
    "Testez votre fonction."
   ]
  },
  {
   "cell_type": "code",
   "execution_count": 2,
   "metadata": {},
   "outputs": [
    {
     "data": {
      "text/plain": [
       "8"
      ]
     },
     "execution_count": 2,
     "metadata": {},
     "output_type": "execute_result"
    }
   ],
   "source": [
    "prod(2,4)"
   ]
  },
  {
   "cell_type": "markdown",
   "metadata": {},
   "source": [
    "Ecrivez une fonction *prod_add(x,y)* qui, à partir de deux valeurs, retourne à la fois leur produit et leur somme dans un *tuple*. "
   ]
  },
  {
   "cell_type": "code",
   "execution_count": 3,
   "metadata": {},
   "outputs": [],
   "source": [
    "def prod_add(x,y):\n",
    "    return (x*y, x+y)"
   ]
  },
  {
   "cell_type": "markdown",
   "metadata": {},
   "source": [
    "Testez votre fonction."
   ]
  },
  {
   "cell_type": "code",
   "execution_count": 4,
   "metadata": {},
   "outputs": [
    {
     "data": {
      "text/plain": [
       "(8, 6)"
      ]
     },
     "execution_count": 4,
     "metadata": {},
     "output_type": "execute_result"
    }
   ],
   "source": [
    "prod_add(2,4)"
   ]
  },
  {
   "cell_type": "markdown",
   "metadata": {},
   "source": [
    "Utilisez votre fonction pour afficher, à l'aide d'une boucle, le résultat pour les couples de valeur x dans {0..10} et y = x+2 (c'est-à-dire : (0,2), (1, 3), etc.). Vous utiliserez la fonction *range*."
   ]
  },
  {
   "cell_type": "code",
   "execution_count": 5,
   "metadata": {},
   "outputs": [
    {
     "name": "stdout",
     "output_type": "stream",
     "text": [
      "(0, 2)\n",
      "(3, 4)\n",
      "(8, 6)\n",
      "(15, 8)\n",
      "(24, 10)\n",
      "(35, 12)\n",
      "(48, 14)\n",
      "(63, 16)\n",
      "(80, 18)\n",
      "(99, 20)\n",
      "(120, 22)\n"
     ]
    }
   ],
   "source": [
    "for i in range(11):\n",
    "    print(prod_add(i,i+2))"
   ]
  },
  {
   "cell_type": "markdown",
   "metadata": {},
   "source": [
    "Exécutez les mêmes instructions mais, cette fois, enregistrez les tuples résultants à l'intérieur d'une liste que vous appelerez *coll*. Une solution consiste à employer la fonction **append** des listes."
   ]
  },
  {
   "cell_type": "code",
   "execution_count": 6,
   "metadata": {},
   "outputs": [],
   "source": [
    "coll = []\n",
    "for i in range(11):\n",
    "    coll.append(prod_add(i,i+2))"
   ]
  },
  {
   "cell_type": "code",
   "execution_count": 7,
   "metadata": {},
   "outputs": [
    {
     "name": "stdout",
     "output_type": "stream",
     "text": [
      "[(0, 2), (3, 4), (8, 6), (15, 8), (24, 10), (35, 12), (48, 14), (63, 16), (80, 18), (99, 20), (120, 22)]\n"
     ]
    }
   ],
   "source": [
    "print(coll)"
   ]
  },
  {
   "cell_type": "markdown",
   "metadata": {},
   "source": [
    "Parcourez la collection à l'aide d'une boucle et affichez chaque élément de la manière suivante :\n",
    "\n",
    "Pour x=0 et y=2, x+y=2 et x\\*y=0\n",
    "\n",
    "Pour x=0 et y=2, x+y=2 et x\\*y=0\n",
    "\n",
    "..."
   ]
  },
  {
   "cell_type": "code",
   "execution_count": 8,
   "metadata": {},
   "outputs": [
    {
     "name": "stdout",
     "output_type": "stream",
     "text": [
      "Pour x=0 et y=2, x+y=2 et x*y=0\n",
      "Pour x=1 et y=3, x+y=4 et x*y=3\n",
      "Pour x=2 et y=4, x+y=6 et x*y=8\n",
      "Pour x=3 et y=5, x+y=8 et x*y=15\n",
      "Pour x=4 et y=6, x+y=10 et x*y=24\n",
      "Pour x=5 et y=7, x+y=12 et x*y=35\n",
      "Pour x=6 et y=8, x+y=14 et x*y=48\n",
      "Pour x=7 et y=9, x+y=16 et x*y=63\n",
      "Pour x=8 et y=10, x+y=18 et x*y=80\n",
      "Pour x=9 et y=11, x+y=20 et x*y=99\n",
      "Pour x=10 et y=12, x+y=22 et x*y=120\n"
     ]
    }
   ],
   "source": [
    "for i in range(11):\n",
    "    (p,s) = coll[i]\n",
    "    print(\"Pour x=\" + str(i) + \" et y=\" + str(i+2) + \", x+y=\" + str(s) + \" et x*y=\" + str(p))"
   ]
  },
  {
   "cell_type": "code",
   "execution_count": 9,
   "metadata": {},
   "outputs": [
    {
     "name": "stdout",
     "output_type": "stream",
     "text": [
      "Pour x=0  et y=2, x+y=2 et x*y=0\n",
      "Pour x=1  et y=3, x+y=4 et x*y=3\n",
      "Pour x=2  et y=4, x+y=6 et x*y=8\n",
      "Pour x=3  et y=5, x+y=8 et x*y=15\n",
      "Pour x=4  et y=6, x+y=10 et x*y=24\n",
      "Pour x=5  et y=7, x+y=12 et x*y=35\n",
      "Pour x=6  et y=8, x+y=14 et x*y=48\n",
      "Pour x=7  et y=9, x+y=16 et x*y=63\n",
      "Pour x=8  et y=10, x+y=18 et x*y=80\n",
      "Pour x=9  et y=11, x+y=20 et x*y=99\n",
      "Pour x=10  et y=12, x+y=22 et x*y=120\n"
     ]
    }
   ],
   "source": [
    "# en utilisant la fonction format\n",
    "\n",
    "for i in range(11):\n",
    "    (p,s) = coll[i]\n",
    "    # on peut aussi écrire p,s = coll[i]\n",
    "    print(\"Pour x={}  et y={}, x+y={} et x*y={}\".format(i, i+2, s, p))"
   ]
  },
  {
   "cell_type": "code",
   "execution_count": 10,
   "metadata": {},
   "outputs": [
    {
     "name": "stdout",
     "output_type": "stream",
     "text": [
      "Pour x=0 et y=2, x+y=2 et x*y=0\n",
      "Pour x=1 et y=3, x+y=4 et x*y=3\n",
      "Pour x=2 et y=4, x+y=6 et x*y=8\n",
      "Pour x=3 et y=5, x+y=8 et x*y=15\n",
      "Pour x=4 et y=6, x+y=10 et x*y=24\n",
      "Pour x=5 et y=7, x+y=12 et x*y=35\n",
      "Pour x=6 et y=8, x+y=14 et x*y=48\n",
      "Pour x=7 et y=9, x+y=16 et x*y=63\n",
      "Pour x=8 et y=10, x+y=18 et x*y=80\n",
      "Pour x=9 et y=11, x+y=20 et x*y=99\n",
      "Pour x=10 et y=12, x+y=22 et x*y=120\n"
     ]
    }
   ],
   "source": [
    "# ou alors avec \"zip\" qui concatène les éléments des deux \"itérables\" :\n",
    "\n",
    "for i, (p, s) in zip(range(11), coll):\n",
    "    print(\"Pour x=\" + str(i) + \" et y=\" + str(i+2) + \", x+y=\" + str(s) + \" et x*y=\" + str(p))"
   ]
  },
  {
   "cell_type": "markdown",
   "metadata": {},
   "source": [
    "Construisez une variable dictionnaire, nommée *dico*, qui utilise la collection *coll* afin d'attribuer la valeur *y* à la clef *x* pour chaque couple *(x,y)* contenu dans la collection. Par exemple, on souhaite obtenir :\n",
    "\n",
    "dico = { 0: 2,\n",
    "  3: 4,\n",
    "  ...\n",
    "}"
   ]
  },
  {
   "cell_type": "code",
   "execution_count": 11,
   "metadata": {},
   "outputs": [],
   "source": [
    "dico = {}\n",
    "for (k, v) in coll:\n",
    "    dico[k] = v"
   ]
  },
  {
   "cell_type": "markdown",
   "metadata": {
    "slideshow": {
     "slide_type": "-"
    }
   },
   "source": [
    "Affichez le contenu de quelques valeurs du dictionnaire, puis la liste des valeurs (via *values()*) et des clefs (via *keys()*), afin de vérifier que tout s'est bien passé."
   ]
  },
  {
   "cell_type": "code",
   "execution_count": 12,
   "metadata": {},
   "outputs": [
    {
     "name": "stdout",
     "output_type": "stream",
     "text": [
      "Valeur pour la clef 3 : 4\n",
      "Liste des clefs : dict_keys([0, 3, 8, 15, 24, 35, 48, 63, 80, 99, 120])\n",
      "Liste des valeurs dict_values([2, 4, 6, 8, 10, 12, 14, 16, 18, 20, 22]).\n"
     ]
    }
   ],
   "source": [
    "print(\"Valeur pour la clef 3 : {}\".format(dico[3]))\n",
    "print(\"Liste des clefs : {}\".format(dico.keys()))\n",
    "print(\"Liste des valeurs {}.\".format(dico.values()))\n",
    "# remarque : vous pouvez convertir le dict_keys en liste avec la commande list()"
   ]
  },
  {
   "cell_type": "markdown",
   "metadata": {},
   "source": [
    "## Deuxième partie : lecture d'un fichier de données et premières manipulations avec Pandas"
   ]
  },
  {
   "cell_type": "markdown",
   "metadata": {},
   "source": [
    "Commençons par essayer de charger en mémoire un jeu de données issues du site des données ouvertes par le Grand Lyon sur les randonnées recensées dans la région. Pour cela, rendez-vous sur le site et télécharger le fichier de description des données au format *json* :\n",
    "\n",
    "https://data.grandlyon.com/jeux-de-donnees/boucles-randonnee-metropole-lyon/donnees"
   ]
  },
  {
   "cell_type": "markdown",
   "metadata": {},
   "source": [
    "Pour charger le jeu de données avec Python, utilisez la fonction *load* de la librairie *json* sur le fichier que vous devez ouvrir en lecture avec la fonction *open*. Enregistrez le résultat dans la variable *d_json*.\n",
    "\n",
    "N'hésitez pas à vous aider du site suivant :\n",
    "\n",
    "https://www.programiz.com/python-programming/json"
   ]
  },
  {
   "cell_type": "code",
   "execution_count": 13,
   "metadata": {},
   "outputs": [],
   "source": [
    "import json\n",
    "\n",
    "with open(\"evg_esp_veg.envpdiprboucle.json\", \"r\") as f:\n",
    "    d_json = json.load(f)"
   ]
  },
  {
   "cell_type": "markdown",
   "metadata": {},
   "source": [
    "La variable que vous venez de charger est un dictionnaire, vous pouvez le vérifier avec la commande *type*. Observez les clefs et essayez d'avoir accès aux champs du jeu de données et à la liste des randonnées."
   ]
  },
  {
   "cell_type": "code",
   "execution_count": 14,
   "metadata": {},
   "outputs": [
    {
     "name": "stdout",
     "output_type": "stream",
     "text": [
      "Type de la variable : <class 'dict'>\n",
      "Valeurs : dict_keys(['fields', 'values', 'nb_results', 'table_href', 'layer_name'])\n"
     ]
    }
   ],
   "source": [
    "print(\"Type de la variable : {}\".format(type(d_json)))\n",
    "\n",
    "print(\"Valeurs : {}\".format(d_json.keys()))"
   ]
  },
  {
   "cell_type": "markdown",
   "metadata": {},
   "source": [
    "Enregistrez la liste des champs dans une variable *var* et les randonnées dans une variable *rando*. Vérifiez le nombre d'enregistrements et essayez d'avoir accès aux valeurs."
   ]
  },
  {
   "cell_type": "code",
   "execution_count": 15,
   "metadata": {},
   "outputs": [
    {
     "data": {
      "text/plain": [
       "['identifiant',\n",
       " 'nom',\n",
       " 'commune_depart',\n",
       " 'code_insee',\n",
       " 'depart',\n",
       " 'descriptif',\n",
       " 'cheminement_aller',\n",
       " 'cheminement_retour',\n",
       " 'difficulte',\n",
       " 'temps_parcours',\n",
       " 'longueur',\n",
       " 'denivele',\n",
       " 'vocation',\n",
       " 'observation',\n",
       " 'xdepart',\n",
       " 'ydepart',\n",
       " 'gid']"
      ]
     },
     "execution_count": 15,
     "metadata": {},
     "output_type": "execute_result"
    }
   ],
   "source": [
    "var = d_json['fields']\n",
    "rando = d_json['values']\n",
    "var"
   ]
  },
  {
   "cell_type": "markdown",
   "metadata": {},
   "source": [
    "Quelle est la taille du jeu de données, càd le nombre de lignes ? Quel est le nom de la randonnée de la ligne 10 ?"
   ]
  },
  {
   "cell_type": "code",
   "execution_count": 16,
   "metadata": {},
   "outputs": [
    {
     "name": "stdout",
     "output_type": "stream",
     "text": [
      "Nombre de randonnées : 61\n",
      "Le Bois des Côtes\n"
     ]
    }
   ],
   "source": [
    "print(\"Nombre de randonnées : {}\".format(len(rando)))\n",
    "print(rando[10][\"nom\"])"
   ]
  },
  {
   "cell_type": "markdown",
   "metadata": {},
   "source": [
    "Pour rendre ces données pleinement utilisables, nous allons convertir le fichier *json* en format tabulaire avec la librairie *pandas*. Il vous suffit de créer un DataFrame à partir de la variable *rando* à l'aide de la fonction *from_dict*."
   ]
  },
  {
   "cell_type": "code",
   "execution_count": 17,
   "metadata": {},
   "outputs": [],
   "source": [
    "import pandas as pd\n",
    "\n",
    "df_rando = pd.DataFrame.from_dict(rando)"
   ]
  },
  {
   "cell_type": "markdown",
   "metadata": {},
   "source": [
    "Vous pouvez vérifier les dimensions de votre tableau à l'aide de l'attribut *shape* de l'object que vous venez de créer."
   ]
  },
  {
   "cell_type": "code",
   "execution_count": 18,
   "metadata": {},
   "outputs": [
    {
     "data": {
      "text/plain": [
       "(61, 17)"
      ]
     },
     "execution_count": 18,
     "metadata": {},
     "output_type": "execute_result"
    }
   ],
   "source": [
    "df_rando.shape"
   ]
  },
  {
   "cell_type": "markdown",
   "metadata": {},
   "source": [
    "*df.head()* et *df.tail()* permettent d'avoir un aperçu (resp.) du début et la fin de l'objet DataFrame. Essayez ces commandes."
   ]
  },
  {
   "cell_type": "code",
   "execution_count": 19,
   "metadata": {},
   "outputs": [
    {
     "data": {
      "text/html": [
       "<div>\n",
       "<style scoped>\n",
       "    .dataframe tbody tr th:only-of-type {\n",
       "        vertical-align: middle;\n",
       "    }\n",
       "\n",
       "    .dataframe tbody tr th {\n",
       "        vertical-align: top;\n",
       "    }\n",
       "\n",
       "    .dataframe thead th {\n",
       "        text-align: right;\n",
       "    }\n",
       "</style>\n",
       "<table border=\"1\" class=\"dataframe\">\n",
       "  <thead>\n",
       "    <tr style=\"text-align: right;\">\n",
       "      <th></th>\n",
       "      <th>ydepart</th>\n",
       "      <th>nom</th>\n",
       "      <th>descriptif</th>\n",
       "      <th>depart</th>\n",
       "      <th>cheminement_retour</th>\n",
       "      <th>difficulte</th>\n",
       "      <th>cheminement_aller</th>\n",
       "      <th>longueur</th>\n",
       "      <th>temps_parcours</th>\n",
       "      <th>commune_depart</th>\n",
       "      <th>code_insee</th>\n",
       "      <th>denivele</th>\n",
       "      <th>gid</th>\n",
       "      <th>vocation</th>\n",
       "      <th>identifiant</th>\n",
       "      <th>xdepart</th>\n",
       "      <th>observation</th>\n",
       "    </tr>\n",
       "  </thead>\n",
       "  <tbody>\n",
       "    <tr>\n",
       "      <th>0</th>\n",
       "      <td>45.832567</td>\n",
       "      <td>Fort de Vancia</td>\n",
       "      <td>Traversez le vallon duRavinet rejoingnez le fo...</td>\n",
       "      <td>Sathonay-Village-Le Bourg</td>\n",
       "      <td>None</td>\n",
       "      <td>moyen</td>\n",
       "      <td>l'Eglise &gt; la Villotière &gt; le Ravin &gt; Paul Che...</td>\n",
       "      <td>11,4 km</td>\n",
       "      <td>185 min</td>\n",
       "      <td>Sathonay-Village</td>\n",
       "      <td>69293</td>\n",
       "      <td>66 m</td>\n",
       "      <td>1</td>\n",
       "      <td>None</td>\n",
       "      <td>357</td>\n",
       "      <td>4.878952</td>\n",
       "      <td>None</td>\n",
       "    </tr>\n",
       "    <tr>\n",
       "      <th>1</th>\n",
       "      <td>45.806121</td>\n",
       "      <td>Boucle du Bois de la Lune</td>\n",
       "      <td>C'est un parcours à l'ombre bien appréciable p...</td>\n",
       "      <td>Parking du Lac</td>\n",
       "      <td>None</td>\n",
       "      <td>moyen</td>\n",
       "      <td>Le Lac &gt; L'Hippodrome &gt; Bois de la Lune &gt; Les ...</td>\n",
       "      <td>9,7 km</td>\n",
       "      <td>150 min</td>\n",
       "      <td>La Tour-de-Salvagny</td>\n",
       "      <td>69250</td>\n",
       "      <td>94 m</td>\n",
       "      <td>2</td>\n",
       "      <td>pédestre-équestre</td>\n",
       "      <td>492</td>\n",
       "      <td>4.720176</td>\n",
       "      <td>None</td>\n",
       "    </tr>\n",
       "    <tr>\n",
       "      <th>2</th>\n",
       "      <td>45.784920</td>\n",
       "      <td>À la découverte du Parc de Lacroix-Laval</td>\n",
       "      <td>None</td>\n",
       "      <td>Belle Etoile</td>\n",
       "      <td>None</td>\n",
       "      <td>facile</td>\n",
       "      <td>Les Cinq Vallons &gt; Les Varennes &gt; Barilly &gt; Cl...</td>\n",
       "      <td>5 km</td>\n",
       "      <td>140 min</td>\n",
       "      <td>Marcy-l'Étoile</td>\n",
       "      <td>69127</td>\n",
       "      <td>28 m</td>\n",
       "      <td>3</td>\n",
       "      <td>pédestre</td>\n",
       "      <td>500</td>\n",
       "      <td>4.717710</td>\n",
       "      <td>None</td>\n",
       "    </tr>\n",
       "    <tr>\n",
       "      <th>3</th>\n",
       "      <td>45.774629</td>\n",
       "      <td>Ruisseau des Planches</td>\n",
       "      <td>Cette promenade parcours les vallons boisés de...</td>\n",
       "      <td>Écully - Village</td>\n",
       "      <td>None</td>\n",
       "      <td>difficile</td>\n",
       "      <td>Le Calabert &gt; Chemin des Rivières &gt; Fontville ...</td>\n",
       "      <td>11,1 km</td>\n",
       "      <td>170 min</td>\n",
       "      <td>Écully</td>\n",
       "      <td>69081</td>\n",
       "      <td>167 m</td>\n",
       "      <td>4</td>\n",
       "      <td>pédestre-VTT</td>\n",
       "      <td>510</td>\n",
       "      <td>4.778837</td>\n",
       "      <td>None</td>\n",
       "    </tr>\n",
       "    <tr>\n",
       "      <th>4</th>\n",
       "      <td>45.810110</td>\n",
       "      <td>Tour de Saint-Didier</td>\n",
       "      <td>En partant du bourg, on rejoint par le chemin ...</td>\n",
       "      <td>Le Bourg</td>\n",
       "      <td>None</td>\n",
       "      <td>difficile</td>\n",
       "      <td>Les Barres &gt; Les Primevères &gt; En Arche &gt; Senti...</td>\n",
       "      <td>11,2 km</td>\n",
       "      <td>180 min</td>\n",
       "      <td>Saint-Didier-au-Mont-d'Or</td>\n",
       "      <td>69194</td>\n",
       "      <td>332 m</td>\n",
       "      <td>30</td>\n",
       "      <td>None</td>\n",
       "      <td>609</td>\n",
       "      <td>4.798420</td>\n",
       "      <td>None</td>\n",
       "    </tr>\n",
       "  </tbody>\n",
       "</table>\n",
       "</div>"
      ],
      "text/plain": [
       "     ydepart                                       nom  \\\n",
       "0  45.832567                            Fort de Vancia   \n",
       "1  45.806121                 Boucle du Bois de la Lune   \n",
       "2  45.784920  À la découverte du Parc de Lacroix-Laval   \n",
       "3  45.774629                     Ruisseau des Planches   \n",
       "4  45.810110                      Tour de Saint-Didier   \n",
       "\n",
       "                                          descriptif  \\\n",
       "0  Traversez le vallon duRavinet rejoingnez le fo...   \n",
       "1  C'est un parcours à l'ombre bien appréciable p...   \n",
       "2                                               None   \n",
       "3  Cette promenade parcours les vallons boisés de...   \n",
       "4  En partant du bourg, on rejoint par le chemin ...   \n",
       "\n",
       "                      depart cheminement_retour difficulte  \\\n",
       "0  Sathonay-Village-Le Bourg               None      moyen   \n",
       "1             Parking du Lac               None      moyen   \n",
       "2               Belle Etoile               None     facile   \n",
       "3           Écully - Village               None  difficile   \n",
       "4                   Le Bourg               None  difficile   \n",
       "\n",
       "                                   cheminement_aller longueur temps_parcours  \\\n",
       "0  l'Eglise > la Villotière > le Ravin > Paul Che...  11,4 km        185 min   \n",
       "1  Le Lac > L'Hippodrome > Bois de la Lune > Les ...   9,7 km        150 min   \n",
       "2  Les Cinq Vallons > Les Varennes > Barilly > Cl...     5 km        140 min   \n",
       "3  Le Calabert > Chemin des Rivières > Fontville ...  11,1 km        170 min   \n",
       "4  Les Barres > Les Primevères > En Arche > Senti...  11,2 km        180 min   \n",
       "\n",
       "              commune_depart code_insee denivele  gid           vocation  \\\n",
       "0           Sathonay-Village      69293     66 m    1               None   \n",
       "1        La Tour-de-Salvagny      69250     94 m    2  pédestre-équestre   \n",
       "2             Marcy-l'Étoile      69127     28 m    3           pédestre   \n",
       "3                     Écully      69081    167 m    4       pédestre-VTT   \n",
       "4  Saint-Didier-au-Mont-d'Or      69194    332 m   30               None   \n",
       "\n",
       "   identifiant   xdepart observation  \n",
       "0          357  4.878952        None  \n",
       "1          492  4.720176        None  \n",
       "2          500  4.717710        None  \n",
       "3          510  4.778837        None  \n",
       "4          609  4.798420        None  "
      ]
     },
     "execution_count": 19,
     "metadata": {},
     "output_type": "execute_result"
    }
   ],
   "source": [
    "df_rando.head()"
   ]
  },
  {
   "cell_type": "markdown",
   "metadata": {},
   "source": [
    "Les commandes *loc* et *iloc* permettent d'accéder facilement à une partie du tableau, par exemple :\n",
    "\n",
    "*df.iloc[:, 1:4]* signifie qu'on veut accéder à toutes les lignes (*:*) et aux colonnes 1 à 4 (*1:4*). Avec *loc*, il est possible d'accéder aux colonnes via leur nom tandis que *iloc* fonctionne uniquement avec des index entiers.\n",
    "\n",
    "Testez cette fonctionnalité."
   ]
  },
  {
   "cell_type": "code",
   "execution_count": 20,
   "metadata": {},
   "outputs": [
    {
     "data": {
      "text/html": [
       "<div>\n",
       "<style scoped>\n",
       "    .dataframe tbody tr th:only-of-type {\n",
       "        vertical-align: middle;\n",
       "    }\n",
       "\n",
       "    .dataframe tbody tr th {\n",
       "        vertical-align: top;\n",
       "    }\n",
       "\n",
       "    .dataframe thead th {\n",
       "        text-align: right;\n",
       "    }\n",
       "</style>\n",
       "<table border=\"1\" class=\"dataframe\">\n",
       "  <thead>\n",
       "    <tr style=\"text-align: right;\">\n",
       "      <th></th>\n",
       "      <th>nom</th>\n",
       "    </tr>\n",
       "  </thead>\n",
       "  <tbody>\n",
       "    <tr>\n",
       "      <th>0</th>\n",
       "      <td>Fort de Vancia</td>\n",
       "    </tr>\n",
       "    <tr>\n",
       "      <th>1</th>\n",
       "      <td>Boucle du Bois de la Lune</td>\n",
       "    </tr>\n",
       "  </tbody>\n",
       "</table>\n",
       "</div>"
      ],
      "text/plain": [
       "                         nom\n",
       "0             Fort de Vancia\n",
       "1  Boucle du Bois de la Lune"
      ]
     },
     "execution_count": 20,
     "metadata": {},
     "output_type": "execute_result"
    }
   ],
   "source": [
    "#df_rando.loc[0:2, \"longueur\"]\n",
    "df_rando.iloc[0:2, 1:2]"
   ]
  },
  {
   "cell_type": "markdown",
   "metadata": {},
   "source": [
    "Accéder aux données d'une colonne devient aisée puisqu'il suffit de mentionner le nom de la variable, avant d'y appliquer différents traitements (ex. calculer une moyenne, un max, etc.) :\n",
    "\n",
    "df[\"nom de la colonne\"]\n",
    "\n",
    "auquel on applique les commandes *mean()*, *max()*...\n",
    "\n",
    "Pour tester cela, utilisez la commande *value_counts()* qui calcule la distribution des valeurs pour une variable catégorielle. Vous testerez avec la variable *difficulte* de la randonnée."
   ]
  },
  {
   "cell_type": "code",
   "execution_count": 21,
   "metadata": {},
   "outputs": [
    {
     "data": {
      "text/plain": [
       "moyen        26\n",
       "facile       24\n",
       "difficile    10\n",
       "Name: difficulte, dtype: int64"
      ]
     },
     "execution_count": 21,
     "metadata": {},
     "output_type": "execute_result"
    }
   ],
   "source": [
    "df_rando[\"difficulte\"].value_counts()"
   ]
  },
  {
   "cell_type": "markdown",
   "metadata": {},
   "source": [
    "Pour manipuler certaines données, il peut être nécessaire de faire des traitements préalables. Par exemple, il est nécessaire pour la variable *temps_parcours* de retirer la fin de la chaîne de caractère (en l'occurrence les 4 derniers caractères \" min\").\n",
    "\n",
    "Commencez par visualiser la colonne correspondante."
   ]
  },
  {
   "cell_type": "code",
   "execution_count": 22,
   "metadata": {},
   "outputs": [
    {
     "data": {
      "text/plain": [
       "0     185 min\n",
       "1     150 min\n",
       "2     140 min\n",
       "3     170 min\n",
       "4     180 min\n",
       "       ...   \n",
       "56     60 min\n",
       "57     60 min\n",
       "58     45 min\n",
       "59     90 min\n",
       "60     45 min\n",
       "Name: temps_parcours, Length: 61, dtype: object"
      ]
     },
     "execution_count": 22,
     "metadata": {},
     "output_type": "execute_result"
    }
   ],
   "source": [
    "df_rando[\"temps_parcours\"]"
   ]
  },
  {
   "cell_type": "markdown",
   "metadata": {},
   "source": [
    "Construisez une nouvelle série en transformant ces valeurs en nombres entiers correspondants, débarassés de l'unité de mesure. Une solution élégante consiste à utilisation une liste \"compréhensible\" (*list comprehension*) mais vous pouvez construire une solution plus simple avec une boucle."
   ]
  },
  {
   "cell_type": "code",
   "execution_count": 23,
   "metadata": {},
   "outputs": [],
   "source": [
    "# première solution : on garde les 4 premiers caractères\n",
    "r_clean = [int(r[0:3]) for r in df_rando[\"temps_parcours\"]]\n",
    "# deuxième solution : on supprimer les dernier caractères\n",
    "#r_clean = [int(r[:-4]) for r in df_rando[\"temps_parcours\"]]\n",
    "df_rando[\"temps_parcours\"] = pd.Series(r_clean)"
   ]
  },
  {
   "cell_type": "markdown",
   "metadata": {},
   "source": [
    "A présent que la variable a bien été convertie en numérique, vous pouvez appliquer les opérateurs classiques comme la moyenne (fonction *mean()*).\n",
    "\n",
    "En pandas, cela donne pour une série s :\n",
    "\n",
    "s.mean()"
   ]
  },
  {
   "cell_type": "code",
   "execution_count": 24,
   "metadata": {},
   "outputs": [
    {
     "data": {
      "text/plain": [
       "111.55737704918033"
      ]
     },
     "execution_count": 24,
     "metadata": {},
     "output_type": "execute_result"
    }
   ],
   "source": [
    "df_rando[\"temps_parcours\"].mean()\n",
    "\n",
    "# on peut spécifier la précision de la valeur numérique, par ex. :\n",
    "# print(\"Moyenne du temps de parcours : {:.2f}\".format(df_rando[\"temps_parcours\"].mean()))"
   ]
  },
  {
   "cell_type": "markdown",
   "metadata": {},
   "source": [
    "La librairie *pandas* permet des traitements plus avancés, inspirés des bases de données. Il est ainsi possible de regrouper les lignes en fonction des valeurs d'une colonne (opération *group by*) puis réaliser des opérations statistiques.\n",
    "\n",
    "Essayez de calculer le temps de parcours moyen pour les randonnées de chaque niveau de difficulté.\n",
    "\n",
    "Vous pouvez aller voir sur le site :\n",
    "\n",
    "https://pandas.pydata.org/pandas-docs/stable/reference/api/pandas.DataFrame.groupby.html"
   ]
  },
  {
   "cell_type": "code",
   "execution_count": 25,
   "metadata": {},
   "outputs": [
    {
     "data": {
      "text/html": [
       "<div>\n",
       "<style scoped>\n",
       "    .dataframe tbody tr th:only-of-type {\n",
       "        vertical-align: middle;\n",
       "    }\n",
       "\n",
       "    .dataframe tbody tr th {\n",
       "        vertical-align: top;\n",
       "    }\n",
       "\n",
       "    .dataframe thead th {\n",
       "        text-align: right;\n",
       "    }\n",
       "</style>\n",
       "<table border=\"1\" class=\"dataframe\">\n",
       "  <thead>\n",
       "    <tr style=\"text-align: right;\">\n",
       "      <th></th>\n",
       "      <th>temps_parcours</th>\n",
       "    </tr>\n",
       "    <tr>\n",
       "      <th>difficulte</th>\n",
       "      <th></th>\n",
       "    </tr>\n",
       "  </thead>\n",
       "  <tbody>\n",
       "    <tr>\n",
       "      <th>difficile</th>\n",
       "      <td>136.000000</td>\n",
       "    </tr>\n",
       "    <tr>\n",
       "      <th>facile</th>\n",
       "      <td>78.958333</td>\n",
       "    </tr>\n",
       "    <tr>\n",
       "      <th>moyen</th>\n",
       "      <td>135.769231</td>\n",
       "    </tr>\n",
       "  </tbody>\n",
       "</table>\n",
       "</div>"
      ],
      "text/plain": [
       "            temps_parcours\n",
       "difficulte                \n",
       "difficile       136.000000\n",
       "facile           78.958333\n",
       "moyen           135.769231"
      ]
     },
     "execution_count": 25,
     "metadata": {},
     "output_type": "execute_result"
    }
   ],
   "source": [
    "dif_moyennes = df_rando.groupby('difficulte')\n",
    "dif_moyennes[['difficulte', 'temps_parcours']].mean()"
   ]
  },
  {
   "cell_type": "markdown",
   "metadata": {},
   "source": [
    "Charger des données depuis un fichier *csv* ou *xlsx* est également très facile. Nous verrons un exemple plus loin."
   ]
  },
  {
   "cell_type": "markdown",
   "metadata": {},
   "source": [
    "## Troisième partie : visualisation avec Matplotlib"
   ]
  },
  {
   "cell_type": "code",
   "execution_count": 26,
   "metadata": {},
   "outputs": [],
   "source": [
    "import matplotlib\n",
    "\n",
    "%matplotlib inline"
   ]
  },
  {
   "cell_type": "markdown",
   "metadata": {},
   "source": [
    "Pour commencer, on peut vouloir afficher un diagramme en barre sur le contenu d'une série, par exemple la distribution selon une certaine variable. Pour cela, il suffit d'invoquer la fonction *plot.bar()* à partir d'une série *pandas*, c'est-à-dire :\n",
    "\n",
    "ma_série.plot.bar()"
   ]
  },
  {
   "cell_type": "markdown",
   "metadata": {},
   "source": [
    "Pour commencer, afficher le diagramme correspondant au nombre de randonnées pour chaque niveau de difficulté (facile, moyen difficile)."
   ]
  },
  {
   "cell_type": "code",
   "execution_count": 27,
   "metadata": {},
   "outputs": [
    {
     "data": {
      "text/plain": [
       "<AxesSubplot:>"
      ]
     },
     "execution_count": 27,
     "metadata": {},
     "output_type": "execute_result"
    },
    {
     "data": {
      "image/png": "[encoded data removed]",
      "text/plain": [
       "<Figure size 432x288 with 1 Axes>"
      ]
     },
     "metadata": {
      "needs_background": "light"
     },
     "output_type": "display_data"
    }
   ],
   "source": [
    "#df_rando[\"difficulte\"].value_counts()\n",
    "df_rando[\"difficulte\"].value_counts().plot.bar()"
   ]
  },
  {
   "cell_type": "markdown",
   "metadata": {},
   "source": [
    "On peut vouloir ordonner en fonction de l'ordre alphabétique des index (ici, les noms des catégories). Dans ce cas, il faut utiliser la fonction *sort_index()* sur la série comportant les données à afficher.\n",
    "\n",
    "Affichez à nouveau le diagramme en barres mais avec un tri sur les index."
   ]
  },
  {
   "cell_type": "code",
   "execution_count": 28,
   "metadata": {},
   "outputs": [
    {
     "data": {
      "text/plain": [
       "<AxesSubplot:>"
      ]
     },
     "execution_count": 28,
     "metadata": {},
     "output_type": "execute_result"
    },
    {
     "data": {
      "image/png": "[encoded data removed]",
      "text/plain": [
       "<Figure size 432x288 with 1 Axes>"
      ]
     },
     "metadata": {
      "needs_background": "light"
     },
     "output_type": "display_data"
    }
   ],
   "source": [
    "df_rando[\"difficulte\"].value_counts().sort_index().plot.bar()"
   ]
  },
  {
   "cell_type": "markdown",
   "metadata": {},
   "source": [
    "Affichez le diagramme sous forme de camembert à l'aide de la commande *plot.pie()*."
   ]
  },
  {
   "cell_type": "code",
   "execution_count": 29,
   "metadata": {},
   "outputs": [
    {
     "data": {
      "text/plain": [
       "<AxesSubplot:ylabel='difficulte'>"
      ]
     },
     "execution_count": 29,
     "metadata": {},
     "output_type": "execute_result"
    },
    {
     "data": {
      "image/png": "[encoded data removed]",
      "text/plain": [
       "<Figure size 432x288 with 1 Axes>"
      ]
     },
     "metadata": {},
     "output_type": "display_data"
    }
   ],
   "source": [
    "df_rando[\"difficulte\"].value_counts().plot.pie()"
   ]
  },
  {
   "cell_type": "markdown",
   "metadata": {},
   "source": [
    "Ajoutez l'option *figsize=(6,6)* en paramètre de la fonction *pie()* pour changer la taille de votre figure."
   ]
  },
  {
   "cell_type": "code",
   "execution_count": 30,
   "metadata": {},
   "outputs": [
    {
     "data": {
      "text/plain": [
       "<AxesSubplot:ylabel='difficulte'>"
      ]
     },
     "execution_count": 30,
     "metadata": {},
     "output_type": "execute_result"
    },
    {
     "data": {
      "image/png": "[encoded data removed]",
      "text/plain": [
       "<Figure size 432x432 with 1 Axes>"
      ]
     },
     "metadata": {},
     "output_type": "display_data"
    }
   ],
   "source": [
    "df_rando[\"difficulte\"].value_counts().plot.pie(figsize=(6,6))"
   ]
  },
  {
   "cell_type": "markdown",
   "metadata": {},
   "source": [
    "La librairie permet bien sûr d'afficher des graphiques pour des variables quantitatives. Pour l'illustration, nous allons afficher un graphique de dispersion (*scatter plot*) entre les variables *longueur* et *temps_parcours* afin de voir s'il existe une corrélation entre les deux (spoiler alert : oui)."
   ]
  },
  {
   "cell_type": "markdown",
   "metadata": {},
   "source": [
    "Pour commencer, nettoyez la colonne correspondant à la variable *longueur* afin qu'elle contiennent une variable réelle. L'opération est très similaire à celle sur le temps, mais il faudra aussi remplacer la chaîne d'un nombre en français (ex. 12,5) par l'équivalent en anglais (ex. 12.5). Pour cela, vous pouvez utiliser la fonction *replace* des chaînes de caractères :\n",
    "\n",
    "ma_chaine = \"12.5\"\n",
    "\n",
    "ma_chaine.replace(\",\", \".\")"
   ]
  },
  {
   "cell_type": "code",
   "execution_count": 31,
   "metadata": {},
   "outputs": [
    {
     "data": {
      "text/plain": [
       "0     11.4\n",
       "1      9.7\n",
       "2      5.0\n",
       "3     11.1\n",
       "4     11.2\n",
       "      ... \n",
       "56     4.5\n",
       "57     4.6\n",
       "58     3.0\n",
       "59     6.7\n",
       "60     3.1\n",
       "Name: longueur, Length: 61, dtype: float64"
      ]
     },
     "execution_count": 31,
     "metadata": {},
     "output_type": "execute_result"
    }
   ],
   "source": [
    "r_clean = [float(r[:-3].replace(',','.')) for r in df_rando[\"longueur\"]]\n",
    "df_rando[\"longueur\"] = pd.Series(r_clean)\n",
    "df_rando[\"longueur\"]"
   ]
  },
  {
   "cell_type": "markdown",
   "metadata": {},
   "source": [
    "A présent, vous pouvez croiser les deux variables avec la commande scatter :\n",
    "    \n",
    "df.plot.scatter(x = nom_var_1, y = nom_var_2)"
   ]
  },
  {
   "cell_type": "code",
   "execution_count": 32,
   "metadata": {},
   "outputs": [
    {
     "data": {
      "text/plain": [
       "<AxesSubplot:xlabel='longueur', ylabel='temps_parcours'>"
      ]
     },
     "execution_count": 32,
     "metadata": {},
     "output_type": "execute_result"
    },
    {
     "data": {
      "image/png": "[encoded data removed]",
      "text/plain": [
       "<Figure size 432x288 with 1 Axes>"
      ]
     },
     "metadata": {
      "needs_background": "light"
     },
     "output_type": "display_data"
    }
   ],
   "source": [
    "df_rando.plot.scatter(x = 'longueur', y = 'temps_parcours')"
   ]
  },
  {
   "cell_type": "markdown",
   "metadata": {},
   "source": [
    "La commande *scatter* retourne un objet qui permet de modifier les caractéristiques du graphique, comme son titre, ses axes, etc.\n",
    "\n",
    "ax = df.plot.scatter(x = nom_var_1, y = nom_var_2)\n",
    "ax.set_title(\"...\")\n",
    "ax.set_x_label(...\")\n",
    "(etc.)\n",
    "\n",
    "Améliorez la lisibilité de votre figure en lui donnant un titre et en précisant les unités des deux axes."
   ]
  },
  {
   "cell_type": "code",
   "execution_count": 33,
   "metadata": {},
   "outputs": [
    {
     "data": {
      "text/plain": [
       "Text(0, 0.5, 'temps (min)')"
      ]
     },
     "execution_count": 33,
     "metadata": {},
     "output_type": "execute_result"
    },
    {
     "data": {
      "image/png": "[encoded data removed]",
      "text/plain": [
       "<Figure size 432x288 with 1 Axes>"
      ]
     },
     "metadata": {
      "needs_background": "light"
     },
     "output_type": "display_data"
    }
   ],
   "source": [
    "ax = df_rando.plot.scatter(x = 'longueur', y = 'temps_parcours')\n",
    "ax.set_title(\"croisement entre la longueur d'un parcours et le temps nécessaire\")\n",
    "ax.set_xlabel(\"longueur (km)\")\n",
    "ax.set_ylabel(\"temps (min)\")"
   ]
  },
  {
   "cell_type": "markdown",
   "metadata": {},
   "source": [
    "Il est bien sûr possible d'afficher plusieurs séries, avec chacune son label et sa couleur, voire d'attribuer des formes ou des gradients de couleur aux points. Pandas reposant sur Matplotlib, les possibilités sont nombreuses."
   ]
  },
  {
   "cell_type": "markdown",
   "metadata": {},
   "source": [
    "Pour plus de visualisations avec Pandas :\n",
    "    \n",
    "https://pandas.pydata.org/pandas-docs/stable/user_guide/visualization.html\n",
    "\n",
    "La page suivante donne une galerie assez exhaustive des possibilités :\n",
    "\n",
    "https://matplotlib.org/gallery/index.html"
   ]
  },
  {
   "cell_type": "markdown",
   "metadata": {},
   "source": [
    "On peut ajouter une courbe de tendance linéaire. Pour cela, on va utiliser la fonction *LinearRegression* de la librairie scikit-learn."
   ]
  },
  {
   "cell_type": "code",
   "execution_count": 34,
   "metadata": {},
   "outputs": [],
   "source": [
    "from sklearn.linear_model import LinearRegression"
   ]
  },
  {
   "cell_type": "markdown",
   "metadata": {},
   "source": [
    "Il faut ensuite convertir les séries Pandas en tableau Numpy (vecteur avec 1 colonne)."
   ]
  },
  {
   "cell_type": "code",
   "execution_count": 35,
   "metadata": {},
   "outputs": [],
   "source": [
    "X = df_rando[\"longueur\"].values.reshape(-1, 1) # values permet d'accéder aux valeurs de la série\n",
    "Y = df_rando[\"temps_parcours\"].values.reshape(-1, 1) "
   ]
  },
  {
   "cell_type": "markdown",
   "metadata": {},
   "source": [
    "Ensuite on crée l'objet qui va réaliser la régression des moindres carrés et on calcule les coefficients avec la fonction *fit*."
   ]
  },
  {
   "cell_type": "code",
   "execution_count": 36,
   "metadata": {},
   "outputs": [
    {
     "data": {
      "text/plain": [
       "LinearRegression()"
      ]
     },
     "execution_count": 36,
     "metadata": {},
     "output_type": "execute_result"
    }
   ],
   "source": [
    "linear_regressor = LinearRegression()\n",
    "linear_regressor.fit(X, Y)"
   ]
  },
  {
   "cell_type": "markdown",
   "metadata": {},
   "source": [
    "Il ne reste plus qu'à effectuer la prédiction avec le modèle pour construire la droite qui approxime la série."
   ]
  },
  {
   "cell_type": "code",
   "execution_count": 37,
   "metadata": {},
   "outputs": [],
   "source": [
    "Y_pred = linear_regressor.predict(X)"
   ]
  },
  {
   "cell_type": "markdown",
   "metadata": {},
   "source": [
    "On peut enfin afficher tout ça à l'aide de Matplotlib."
   ]
  },
  {
   "cell_type": "code",
   "execution_count": 38,
   "metadata": {},
   "outputs": [
    {
     "data": {
      "image/png": "[encoded data removed]",
      "text/plain": [
       "<Figure size 432x288 with 1 Axes>"
      ]
     },
     "metadata": {
      "needs_background": "light"
     },
     "output_type": "display_data"
    }
   ],
   "source": [
    "import matplotlib.pyplot as plt\n",
    "plt.scatter(X, Y)\n",
    "plt.plot(X, Y_pred, color='red')\n",
    "plt.show()"
   ]
  },
  {
   "cell_type": "code",
   "execution_count": 39,
   "metadata": {},
   "outputs": [
    {
     "name": "stdout",
     "output_type": "stream",
     "text": [
      "R^2 = 0.861\n"
     ]
    }
   ],
   "source": [
    "print(\"R^2 = {:.3f}\".format(linear_regressor.score(X, Y)))"
   ]
  },
  {
   "cell_type": "markdown",
   "metadata": {},
   "source": [
    "## Quatrième partie : analyse de données Velib"
   ]
  },
  {
   "cell_type": "markdown",
   "metadata": {},
   "source": [
    "L'objectif de cette dernière partie est de charger des données depuis Excel et de faire quelques analyses en utilisant notamment la librairie *numpy*."
   ]
  },
  {
   "cell_type": "markdown",
   "metadata": {},
   "source": [
    "La première étape consiste à charger les données Velib qui ont été rassemblés et utilisés la première fois dans le travail suivant :\n",
    "\n",
    "C. Bouveyron, E. Côme and J. Jacques, The discriminative functional mixture model for the analysis of bike sharing systems, Preprint HAL n.01024186, University Paris Descartes, 2014."
   ]
  },
  {
   "cell_type": "markdown",
   "metadata": {},
   "source": [
    "Pour cela, utilisez la fonction *read_excel* de pandas sur le fichier qui vous est fourni afin de créer 4 variables de type DataFrame.\n",
    "\n",
    "Il faut préciser en paramètre le nom du feuillet grâce à l'argument *sheet_name*.\n",
    "\n",
    "Si le tableau ne comporte pas de titres aux colonnes, il faut préciser l'argument *header=None*."
   ]
  },
  {
   "cell_type": "code",
   "execution_count": 40,
   "metadata": {},
   "outputs": [],
   "source": [
    "util = pd.read_excel(\"velib.xlsx\", sheet_name=\"util\", header=None)\n",
    "noms = pd.read_excel(\"velib.xlsx\", sheet_name=\"noms\", header=None)\n",
    "dates = pd.read_excel(\"velib.xlsx\", sheet_name=\"dates\", header=None)\n",
    "hills = pd.read_excel(\"velib.xlsx\", sheet_name=\"hills\", header=None)"
   ]
  },
  {
   "cell_type": "markdown",
   "metadata": {},
   "source": [
    "Vérifiez la taille de chacun de vos variables grâce à l'attribut *shape*, ainsi que le début de chacun des tableaux."
   ]
  },
  {
   "cell_type": "code",
   "execution_count": 41,
   "metadata": {},
   "outputs": [
    {
     "name": "stdout",
     "output_type": "stream",
     "text": [
      "(1190, 182)\n",
      "(1189, 2)\n",
      "(181, 2)\n",
      "(1189, 2)\n"
     ]
    }
   ],
   "source": [
    "print(util.shape)\n",
    "print(noms.shape)\n",
    "print(dates.shape)\n",
    "print(hills.shape)"
   ]
  },
  {
   "cell_type": "markdown",
   "metadata": {},
   "source": [
    "Créez deux dictionnaires *nom2id* et *id2nom* afin de créer une correspondance entre l'identifiant de la station (faîtes-la commencer à 0) et son nom. Vous pouvez utiliser la fonction *strip()* qui permet d'éliminer les espaces en début et fin de chaîne."
   ]
  },
  {
   "cell_type": "code",
   "execution_count": 42,
   "metadata": {},
   "outputs": [],
   "source": [
    "# nettoyage des noms en retirant les espaces au début et à la fin\n",
    "noms_clean = [n.strip() for n in noms[1]]\n",
    "\n",
    "# création du dictionnaire (-1 sur l'identifiant afin de commencer à 0)\n",
    "nom2id = dict(zip(noms_clean, noms[0]-1))\n",
    "\n",
    "# idem avec id2nom\n",
    "id2nom = dict(zip(noms[0]-1, noms_clean))"
   ]
  },
  {
   "cell_type": "markdown",
   "metadata": {},
   "source": [
    "Testez vos dictionnaires."
   ]
  },
  {
   "cell_type": "code",
   "execution_count": 43,
   "metadata": {},
   "outputs": [
    {
     "name": "stdout",
     "output_type": "stream",
     "text": [
      "EVANGILE\n",
      "13\n"
     ]
    }
   ],
   "source": [
    "print(id2nom[13])\n",
    "print(nom2id[\"EVANGILE\"])"
   ]
  },
  {
   "cell_type": "markdown",
   "metadata": {},
   "source": [
    "En utilisant la librairie *numpy*, créez un tableau *numpy.array* qui regroupe la charge d'utilisation des stations au fil du temps. Attention à ne pas conserver les intitulés des lignes et colonnes. Vérifiez la dimension du tableau qui devrait être de 1189 lignes les stations) et 181 colonnes (dates)."
   ]
  },
  {
   "cell_type": "code",
   "execution_count": 44,
   "metadata": {},
   "outputs": [
    {
     "name": "stdout",
     "output_type": "stream",
     "text": [
      "<class 'numpy.ndarray'>\n",
      "(1189, 181)\n"
     ]
    }
   ],
   "source": [
    "import numpy as np\n",
    "\n",
    "data = np.array(util.loc[1:,1:])\n",
    "print(type(data))\n",
    "print(data.shape)"
   ]
  },
  {
   "cell_type": "markdown",
   "metadata": {},
   "source": [
    "Calculez la charge totale des stations à l'aide de la fonction *sum* appliquée au tableau. Le paramètre *axis* permet de préciser si la somme est réalisée par ligne (1) ou par colonne (0).\n",
    "\n",
    "Affichez ensuite la charge de la station EVANGILE."
   ]
  },
  {
   "cell_type": "code",
   "execution_count": 45,
   "metadata": {},
   "outputs": [],
   "source": [
    "charge_par_station = data.sum(axis=1)"
   ]
  },
  {
   "cell_type": "code",
   "execution_count": 46,
   "metadata": {},
   "outputs": [
    {
     "name": "stdout",
     "output_type": "stream",
     "text": [
      "charge de EVANGILE : 55.5214285714287\n"
     ]
    }
   ],
   "source": [
    "station = \"EVANGILE\"\n",
    "\n",
    "charge = charge_par_station[nom2id[station]]\n",
    "print(\"charge de \" + station + \" : {}\".format(charge))"
   ]
  },
  {
   "cell_type": "markdown",
   "metadata": {},
   "source": [
    "On pourra remarquer que ces opérations auraient pu être réalisées directement avec *pandas*, mais l'objectif consistait ici à s'entraîner à utiliser *numpy*."
   ]
  },
  {
   "cell_type": "markdown",
   "metadata": {},
   "source": [
    "Créez un tableau DataFrame comportant les informations : nom de la station, installation sur une colline (ou pas), charge totale de la station. Pour cela, vous pouvez instancier ce type d'objet à l'aide d'un dictionnaire ainsi :\n",
    "\n",
    "*pandas.DataFrame({\"nom colonne 1\" : liste de valeurs, \"nom colonne 2\" : liste de valeurs, etc.})*"
   ]
  },
  {
   "cell_type": "code",
   "execution_count": 47,
   "metadata": {},
   "outputs": [],
   "source": [
    "df_analyses = pd.DataFrame({\"noms\" : noms_clean,\n",
    "                            \"hill\" : hills[1], \n",
    "                           \"charges\" : list(charge_par_station)})"
   ]
  },
  {
   "cell_type": "markdown",
   "metadata": {},
   "source": [
    "Vérifiez que le tableau a bien été construit."
   ]
  },
  {
   "cell_type": "code",
   "execution_count": 48,
   "metadata": {},
   "outputs": [
    {
     "data": {
      "text/html": [
       "<div>\n",
       "<style scoped>\n",
       "    .dataframe tbody tr th:only-of-type {\n",
       "        vertical-align: middle;\n",
       "    }\n",
       "\n",
       "    .dataframe tbody tr th {\n",
       "        vertical-align: top;\n",
       "    }\n",
       "\n",
       "    .dataframe thead th {\n",
       "        text-align: right;\n",
       "    }\n",
       "</style>\n",
       "<table border=\"1\" class=\"dataframe\">\n",
       "  <thead>\n",
       "    <tr style=\"text-align: right;\">\n",
       "      <th></th>\n",
       "      <th>noms</th>\n",
       "      <th>hill</th>\n",
       "      <th>charges</th>\n",
       "    </tr>\n",
       "  </thead>\n",
       "  <tbody>\n",
       "    <tr>\n",
       "      <th>0</th>\n",
       "      <td>EURYALE DEHAYNIN</td>\n",
       "      <td>0</td>\n",
       "      <td>48.914351</td>\n",
       "    </tr>\n",
       "    <tr>\n",
       "      <th>1</th>\n",
       "      <td>LEMERCIER</td>\n",
       "      <td>0</td>\n",
       "      <td>87.436759</td>\n",
       "    </tr>\n",
       "    <tr>\n",
       "      <th>2</th>\n",
       "      <td>MEZIERES RENNES</td>\n",
       "      <td>0</td>\n",
       "      <td>80.983329</td>\n",
       "    </tr>\n",
       "    <tr>\n",
       "      <th>3</th>\n",
       "      <td>FARMAN</td>\n",
       "      <td>0</td>\n",
       "      <td>84.013539</td>\n",
       "    </tr>\n",
       "    <tr>\n",
       "      <th>4</th>\n",
       "      <td>QUAI DE LA RAPEE</td>\n",
       "      <td>0</td>\n",
       "      <td>101.559196</td>\n",
       "    </tr>\n",
       "  </tbody>\n",
       "</table>\n",
       "</div>"
      ],
      "text/plain": [
       "               noms  hill     charges\n",
       "0  EURYALE DEHAYNIN     0   48.914351\n",
       "1         LEMERCIER     0   87.436759\n",
       "2   MEZIERES RENNES     0   80.983329\n",
       "3            FARMAN     0   84.013539\n",
       "4  QUAI DE LA RAPEE     0  101.559196"
      ]
     },
     "execution_count": 48,
     "metadata": {},
     "output_type": "execute_result"
    }
   ],
   "source": [
    "df_analyses.head()"
   ]
  },
  {
   "cell_type": "markdown",
   "metadata": {},
   "source": [
    "A présent, utilisez la fonction *groupby* de pandas pour calculer des statistiques sur l'utilisation des stations en fonction de leur positionnement (ou non) sur une colline."
   ]
  },
  {
   "cell_type": "code",
   "execution_count": 49,
   "metadata": {},
   "outputs": [
    {
     "name": "stdout",
     "output_type": "stream",
     "text": [
      "        charges\n",
      "hill           \n",
      "0     73.604006\n",
      "1     28.091208\n",
      "             noms   charges\n",
      "hill                       \n",
      "0     ABBE CARTON  7.231383\n",
      "1        ABBESSES  3.031746\n",
      "            noms     charges\n",
      "hill                        \n",
      "0           ZOLA  166.354545\n",
      "1     ULM ERASME  113.553333\n"
     ]
    }
   ],
   "source": [
    "# utilisation moyenne\n",
    "print(df_analyses.groupby(['hill']).mean())\n",
    "\n",
    "# station d'utilisation minimum\n",
    "print(df_analyses.groupby(['hill']).min())\n",
    "\n",
    "# station d'utilisation maximum\n",
    "print(df_analyses.groupby(['hill']).max())"
   ]
  },
  {
   "cell_type": "markdown",
   "metadata": {},
   "source": [
    "D'autres exercices sont intéressants avec ces données :\n",
    "\n",
    "- afficher les courbes de charges de certaines stations (utilisation de matplotlib)\n",
    "- classification non supervisée (*clustering*) pour regrouper les stations présentant le même profil"
   ]
  }
 ],
 "metadata": {
  "celltoolbar": "Slideshow",
  "kernelspec": {
   "display_name": "Python 3 (ipykernel)",
   "language": "python",
   "name": "python3"
  },
  "language_info": {
   "codemirror_mode": {
    "name": "ipython",
    "version": 3
   },
   "file_extension": ".py",
   "mimetype": "text/x-python",
   "name": "python",
   "nbconvert_exporter": "python",
   "pygments_lexer": "ipython3",
   "version": "3.10.6"
  }
 },
 "nbformat": 4,
 "nbformat_minor": 4
}
